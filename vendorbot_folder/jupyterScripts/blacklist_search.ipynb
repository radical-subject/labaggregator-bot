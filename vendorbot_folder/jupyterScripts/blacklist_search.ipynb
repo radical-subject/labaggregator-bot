{
 "cells": [
  {
   "cell_type": "code",
   "execution_count": 1,
   "metadata": {},
   "outputs": [],
   "source": [
    "import sys,os\n",
    "sys.path.append(\"..\")\n",
    "\n",
    "MONGO_URL=\"localhost:27017\"\n",
    "os.environ[\"MONGO_URL\"] = MONGO_URL\n",
    "\n",
    "MONGO_INITDB_ROOT_USERNAME=\"root\" # \n",
    "os.environ[\"MONGO_INITDB_ROOT_USERNAME\"] = MONGO_INITDB_ROOT_USERNAME\n",
    "\n",
    "MONGO_INITDB_ROOT_PASSWORD=\"dr5[gnhn\" # \n",
    "os.environ[\"MONGO_INITDB_ROOT_PASSWORD\"] = MONGO_INITDB_ROOT_PASSWORD\n",
    "\n",
    "DATABASE_NAME = \"admin\"\n",
    "os.environ[\"MONGO_INITDB_DATABASE\"] = DATABASE_NAME\n",
    "\n",
    "MONGO_BOT_USERNAME=\"bot\"\n",
    "os.environ[\"MONGO_BOT_USERNAME\"] = MONGO_BOT_USERNAME\n",
    "\n",
    "MONGO_BOT_PASSWORD=\"botpsswd\"\n",
    "os.environ[\"MONGO_BOT_PASSWORD\"] = MONGO_BOT_PASSWORD\n",
    "\n",
    "# timerbot_credentials = dict(\n",
    "#     DATABASE_NAME = \"timerbot_db\",\n",
    "#     DATABASE_HOST = MONGO_URL,\n",
    "#     DATABASE_ADMIN_USERNAME = MONGO_BOT_USERNAME,\n",
    "#     DATABASE_ADMIN_PASSWORD = MONGO_BOT_PASSWORD\n",
    "# )\n",
    "\n",
    "# root_credentials = dict(\n",
    "#     DATABASE_NAME = \"timerbot_db\",\n",
    "#     DATABASE_HOST = MONGO_URL,\n",
    "#     DATABASE_ADMIN_USERNAME = MONGO_INITDB_ROOT_USERNAME,\n",
    "#     DATABASE_ADMIN_PASSWORD = MONGO_INITDB_ROOT_PASSWORD\n",
    "# )\n",
    "\n",
    "# database credentials extractor import\n",
    "from modules.db.dbconfig import root_credentials, timerbot_credentials, blacklist_rdkit_credentials\n",
    "from modules.db.mongodb import MongoDriver\n",
    "\n",
    "db_instances = dict(root=MongoDriver(root_credentials), timerbot_db=MongoDriver(blacklist_rdkit_credentials))\n",
    "# print(db_instances)\n",
    "# print(root_credentials)\n",
    "# print(timerbot_credentials)\n",
    "\n",
    "client = MongoDriver(blacklist_rdkit_credentials).client\n",
    "db_instance = MongoDriver(blacklist_rdkit_credentials)\n",
    "# collection_name = \"timer_data_collection\"\n",
    "# user_id = 122267418\n",
    "# query = {\"user_id\": user_id}\n",
    "\n",
    "# print(client)\n",
    "# client.list_database_names()"
   ]
  },
  {
   "cell_type": "code",
   "execution_count": 2,
   "metadata": {},
   "outputs": [],
   "source": [
    "from modules.db.dbmodel import similarity_search, convert_to_smiles, update_blacklist_with_pandas, convert_to_smiles_and_get_additional_data\n",
    "test_SMILES = \"CCC(=O)OC1(CCN(CC1CC=C)C)C2=CC=CC=C2\""
   ]
  },
  {
   "cell_type": "code",
   "execution_count": 3,
   "metadata": {},
   "outputs": [
    {
     "name": "stdout",
     "output_type": "stream",
     "text": [
      "[1.0, 'KGYFOSCXVAXULR-UHFFFAOYSA-N']\n"
     ]
    }
   ],
   "source": [
    "print(similarity_search(client, db_instance, test_SMILES)[0])\n",
    "\n",
    "similarity_results = similarity_search(client, db_instance, test_SMILES)"
   ]
  },
  {
   "cell_type": "code",
   "execution_count": 4,
   "metadata": {},
   "outputs": [
    {
     "name": "stdout",
     "output_type": "stream",
     "text": [
      "pandas_blacklist results: {'_id': ObjectId('623ba4573c78871a2eb9c85a'), 'ID': 0, 'references': '218. Е. А. Симонов, Л. Ф. Найденова, С. А. Ворнаков. Наркотические средства и психотропные вещества, контролируемые на территории РФ. М., 2003, стр. 18', 'UPAC_name': '3-allyl-1-methyl-4-phenylpiperidin-4-yl propionate', 'CAS': '25384-17-2', 'List': '1', 'category': 'наркотические средства', 'NameRUS': 'Аллилпродин', 'NameTRIVIAL': 'Алперидин', 'Synonym1': 'Allylprodine, Alperidine', 'precursor': nan, 'Primechanie': nan, 'Comment': nan, 'DateADD': '06.10.2011', 'NumberPOST': '822', 'SMILES': 'C=CCC1CN(C)CCC1(OC(=O)CC)c1ccccc1'}\n"
     ]
    },
    {
     "data": {
      "text/plain": [
       "('C=CCC1CN(C)CCC1(OC(=O)CC)c1ccccc1',\n",
       " {'_id': ObjectId('623ba4573c78871a2eb9c85a'),\n",
       "  'ID': 0,\n",
       "  'references': '218. Е. А. Симонов, Л. Ф. Найденова, С. А. Ворнаков. Наркотические средства и психотропные вещества, контролируемые на территории РФ. М., 2003, стр. 18',\n",
       "  'UPAC_name': '3-allyl-1-methyl-4-phenylpiperidin-4-yl propionate',\n",
       "  'CAS': '25384-17-2',\n",
       "  'List': '1',\n",
       "  'category': 'наркотические средства',\n",
       "  'NameRUS': 'Аллилпродин',\n",
       "  'NameTRIVIAL': 'Алперидин',\n",
       "  'Synonym1': 'Allylprodine, Alperidine',\n",
       "  'precursor': nan,\n",
       "  'Primechanie': nan,\n",
       "  'Comment': nan,\n",
       "  'DateADD': '06.10.2011',\n",
       "  'NumberPOST': '822',\n",
       "  'SMILES': 'C=CCC1CN(C)CCC1(OC(=O)CC)c1ccccc1'})"
      ]
     },
     "execution_count": 4,
     "metadata": {},
     "output_type": "execute_result"
    }
   ],
   "source": [
    "convert_to_smiles_and_get_additional_data(client, db_instance, similarity_results)"
   ]
  },
  {
   "cell_type": "code",
   "execution_count": 5,
   "metadata": {},
   "outputs": [
    {
     "data": {
      "text/plain": [
       "[{'SMILES': 'C=CCC1CN(C)CCC1(OC(=O)CC)c1ccccc1'},\n",
       " {'SMILES': 'CCC(=O)O[C@@]1(c2ccccc2)CCN(C)CC1CC'},\n",
       " {'SMILES': 'CCC(=O)OC1(c2ccccc2)CCN(C)CC1CC'}]"
      ]
     },
     "execution_count": 5,
     "metadata": {},
     "output_type": "execute_result"
    }
   ],
   "source": [
    "convert_to_smiles(client, db_instance, similarity_results)"
   ]
  },
  {
   "cell_type": "code",
   "execution_count": 27,
   "metadata": {},
   "outputs": [],
   "source": [
    "# print(collection.insert_one(data))"
   ]
  },
  {
   "cell_type": "code",
   "execution_count": 3,
   "metadata": {},
   "outputs": [],
   "source": [
    "import pymongo"
   ]
  },
  {
   "cell_type": "code",
   "execution_count": 6,
   "metadata": {},
   "outputs": [
    {
     "name": "stdout",
     "output_type": "stream",
     "text": [
      "^C\n",
      "\n",
      "Note: you may need to restart the kernel to use updated packages.\n"
     ]
    }
   ],
   "source": [
    "conda install rdkit"
   ]
  },
  {
   "cell_type": "code",
   "execution_count": 50,
   "metadata": {},
   "outputs": [],
   "source": [
    "# db_instances = dict(root=MongoDriver(root_credentials), timerbot_db=MongoDriver(timerbot_credentials))\n",
    "from modules.ourbot.handlers.initial import Inital\n",
    "from modules.db.dbmodel import get_records, get_timerdata_object, purge, add_records"
   ]
  },
  {
   "cell_type": "code",
   "execution_count": 51,
   "metadata": {},
   "outputs": [],
   "source": [
    "initial = Inital(db_instances)"
   ]
  },
  {
   "cell_type": "code",
   "execution_count": 52,
   "metadata": {},
   "outputs": [
    {
     "data": {
      "text/plain": [
       "MongoClient(host=['localhost:27017'], document_class=dict, tz_aware=False, connect=True)"
      ]
     },
     "execution_count": 52,
     "metadata": {},
     "output_type": "execute_result"
    }
   ],
   "source": [
    "initial.timerbot_db_client"
   ]
  },
  {
   "cell_type": "code",
   "execution_count": 12,
   "metadata": {},
   "outputs": [
    {
     "ename": "IndexError",
     "evalue": "no such item for Cursor instance",
     "output_type": "error",
     "traceback": [
      "\u001b[1;31m---------------------------------------------------------------------------\u001b[0m",
      "\u001b[1;31mIndexError\u001b[0m                                Traceback (most recent call last)",
      "Input \u001b[1;32mIn [12]\u001b[0m, in \u001b[0;36m<cell line: 12>\u001b[1;34m()\u001b[0m\n\u001b[0;32m     10\u001b[0m myquery \u001b[38;5;241m=\u001b[39m { \u001b[38;5;124m\"\u001b[39m\u001b[38;5;124mSMILES\u001b[39m\u001b[38;5;124m\"\u001b[39m: SMILES }\n\u001b[0;32m     11\u001b[0m search_result \u001b[38;5;241m=\u001b[39m blacklist_pandas_collection\u001b[38;5;241m.\u001b[39mfind(myquery)\n\u001b[1;32m---> 12\u001b[0m \u001b[38;5;28mprint\u001b[39m(\u001b[43msearch_result\u001b[49m\u001b[43m[\u001b[49m\u001b[38;5;241;43m0\u001b[39;49m\u001b[43m]\u001b[49m)\n",
      "File \u001b[1;32m~\\.conda\\envs\\vendorbot_env\\lib\\site-packages\\pymongo\\cursor.py:616\u001b[0m, in \u001b[0;36mCursor.__getitem__\u001b[1;34m(self, index)\u001b[0m\n\u001b[0;32m    614\u001b[0m     \u001b[38;5;28;01mfor\u001b[39;00m doc \u001b[38;5;129;01min\u001b[39;00m clone:\n\u001b[0;32m    615\u001b[0m         \u001b[38;5;28;01mreturn\u001b[39;00m doc\n\u001b[1;32m--> 616\u001b[0m     \u001b[38;5;28;01mraise\u001b[39;00m \u001b[38;5;167;01mIndexError\u001b[39;00m(\u001b[38;5;124m\"\u001b[39m\u001b[38;5;124mno such item for Cursor instance\u001b[39m\u001b[38;5;124m\"\u001b[39m)\n\u001b[0;32m    617\u001b[0m \u001b[38;5;28;01mraise\u001b[39;00m \u001b[38;5;167;01mTypeError\u001b[39;00m(\u001b[38;5;124m\"\u001b[39m\u001b[38;5;124mindex \u001b[39m\u001b[38;5;132;01m%r\u001b[39;00m\u001b[38;5;124m cannot be applied to Cursor \u001b[39m\u001b[38;5;124m\"\u001b[39m\n\u001b[0;32m    618\u001b[0m                 \u001b[38;5;124m\"\u001b[39m\u001b[38;5;124minstances\u001b[39m\u001b[38;5;124m\"\u001b[39m \u001b[38;5;241m%\u001b[39m index)\n",
      "\u001b[1;31mIndexError\u001b[0m: no such item for Cursor instance"
     ]
    }
   ],
   "source": [
    "db_name = db_instance.DATABASE_NAME # blacklist_rdkit_db\n",
    "molecules_collection = client[db_name].molecules\n",
    "blacklist_pandas_collection = client[db_name].molecules\n",
    "\n",
    "#     myquery = { \"index\": \"{}\".format(similarity_results[0][1]) }\n",
    "#     search_result = molecules_collection.find(myquery)\n",
    "SMILES = \"C=CCC1CN(C)CCC1(OC(=O)CC)c1ccccc1\"\n",
    "\n",
    "#### TODO: тут что-то не так с SMILES - вещество точно есть в базе, но оно не находится автоматически по SMILES\n",
    "myquery = { \"SMILES\": SMILES }\n",
    "search_result = blacklist_pandas_collection.find(myquery)\n",
    "print(search_result[0])"
   ]
  },
  {
   "cell_type": "code",
   "execution_count": 11,
   "metadata": {},
   "outputs": [
    {
     "name": "stdout",
     "output_type": "stream",
     "text": [
      "{'_id': ObjectId('623ba4463c78871a2eb9c61d'), 'rdmol': b\"\\xef\\xbe\\xad\\xde\\x00\\x00\\x00\\x00\\r\\x00\\x00\\x00\\x00\\x00\\x00\\x00\\x00\\x00\\x00\\x00\\x15\\x00\\x00\\x00\\x16\\x00\\x00\\x00\\x80\\x01\\x06\\x00 \\x00\\x00\\x00\\x04\\x06\\x00`\\x00\\x00\\x00\\x03\\x01\\x06\\x00`\\x00\\x00\\x00\\x02\\x02\\x08\\x00(\\x00\\x00\\x00\\x03\\x02\\x07\\x00 \\x00\\x00\\x00\\x03\\x06\\x00`\\x00\\x00\\x00\\x02\\x02\\x06\\x00(\\x00\\x00\\x00\\x03\\x04\\x06@(\\x00\\x00\\x00\\x03\\x04\\x06\\x00`\\x00\\x00\\x00\\x02\\x02\\x08\\x00(\\x00\\x00\\x00\\x03\\x02\\x06\\x00h\\x00\\x00\\x00\\x03\\x03\\x01\\x06\\x00h\\x00\\x00\\x00\\x03\\x02\\x02\\x06\\x00`\\x00\\x00\\x00\\x02\\x02\\x06\\x00`\\x00\\x00\\x00\\x01\\x03\\x06\\x00`\\x00\\x00\\x00\\x02\\x02\\x06@h\\x00\\x00\\x00\\x03\\x03\\x01\\x06@h\\x00\\x00\\x00\\x03\\x03\\x01\\x06\\x00`\\x00\\x00\\x00\\x01\\x03\\x06@h\\x00\\x00\\x00\\x03\\x03\\x01\\x06@h\\x00\\x00\\x00\\x03\\x03\\x01\\x06@h\\x00\\x00\\x00\\x03\\x03\\x01\\x0b\\x01\\x00\\x00\\x02\\x00\\x00\\x03\\x00\\x00\\x04\\x08\\x00\\x05\\x01\\x00\\x06\\x03 \\x07\\x00\\x00\\x08\\x02\\x00\\t\\x06(\\x02\\n\\x0c\\x00\\x0b\\n\\x08\\x02\\x0c\\x01\\x00\\r\\x04\\x00\\x0e\\x06\\x00\\x0f\\x07h\\x0c\\x10\\x07h\\x0c\\x11\\x0e\\x00\\x12\\x10h\\x0c\\x13\\x0fh\\x0c\\x14\\x12h\\x0c\\x05\\x04\\x00\\x14\\x13h\\x0c\\x14\\x02\\x06\\x01\\x05\\x04\\x08\\x02\\x00\\x06\\x0f\\x13\\x14\\x12\\x10\\x07\\x17\\x06\\x01\\x00\\x00\\x01\\x00\\x00\\x00\\x00\\x00\\x00\\x00\\x00\\x15'\\xa0\\x89\\xbb\\xcd\\xccL<\\x00\\x00\\x00\\x00\\xb9\\xfc\\x07\\xbc\\xf9\\x0f\\x81?\\x00\\x00\\x00\\x00\\r\\xe0]?\\x1a\\xc0\\xfb\\xbe\\x00\\x00\\x00\\x00\\xb9\\xfc\\x07\\xbc\\xcd\\xcc|\\xbf\\x00\\x00\\x00\\x00mV\\xdd?\\xf9\\x0f\\x81?\\x00\\x00\\x00\\x00\\xcd\\xcc\\\\?\\xf9\\x0f\\xc1?\\x00\\x00\\x00\\x00\\xda\\xacZ?`v\\xbf\\xbf\\x00\\x00\\x00\\x00\\r\\xe0]\\xbf\\x1a\\xc0\\xfb\\xbe\\x00\\x00\\x00\\x00mV\\xdd?\\xb9\\xfc\\x07<\\x00\\x00\\x00\\x00\\xcd\\xcc\\xdc?\\x00\\x00\\x80\\xbf\\x00\\x00\\x00\\x00@\\x13a\\xbf\\xd0D @\\x00\\x00\\x00\\x00`v\\xdf\\xbf\\xd0D@@\\x00\\x00\\x00\\x00\\x00\\x00`\\xbf\\xa0\\x89\\xc0?\\x00\\x00\\x00\\x00\\x96!&@\\xf9\\x0f\\xc1?\\x00\\x00\\x00\\x00Y\\x86X?0\\xbb\\x1f\\xc0\\x00\\x00\\x00\\x00@\\x13a\\xbf\\xc6\\xdc\\xbd\\xbf\\x00\\x00\\x00\\x00ff\\xde\\xbf'\\xa0\\x89;\\x00\\x00\\x00\\x00\\x93\\xa9\\xda?\\x00\\x00@\\xc0\\x00\\x00\\x00\\x00ff&\\xc0\\x7f\\xd9\\xfd\\xbe\\x00\\x00\\x00\\x00\\xc6\\xdc\\xdd\\xbf\\x00\\x00\\x00\\xc0\\x00\\x00\\x00\\x00ff&\\xc0\\x00\\x00\\xc0\\xbf\\x00\\x00\\x00\\x00\\x16\", 'index': 'KGYFOSCXVAXULR-UHFFFAOYSA-N', 'smiles': 'C=CCC1CN(C)CCC1(OC(=O)CC)c1ccccc1', 'scheme': 'default', 'hashes': {'inchikey_standard': 'KGYFOSCXVAXULR-UHFFFAOYSA-N', 'CanonicalSmiles': 'C=CCC1CN(C)CCC1(OC(=O)CC)c1ccccc1'}, 'fingerprints': {'pattern_fp': {'bits': [1, 3, 11, 26, 39, 46, 48, 52, 53, 54, 57, 64, 68, 84, 86, 87, 89, 103, 108, 114, 119, 147, 149, 167, 173, 175, 178, 202, 203, 205, 207, 210, 217, 224, 230, 252, 253, 257, 261, 266, 270, 281, 283, 291, 296, 327, 337, 343, 348, 360, 361, 368, 377, 389, 394, 408, 410, 413, 415, 417, 418, 424, 428, 429, 434, 435, 438, 447, 458, 465, 466, 469, 474, 475, 488, 490, 497, 512, 513, 517, 518, 523, 527, 532, 533, 547, 550, 565, 584, 587, 595, 599, 602, 617, 618, 622, 630, 631, 644, 653, 661, 663, 664, 673, 675, 679, 687, 691, 692, 694, 695, 698, 699, 702, 705, 717, 725, 729, 730, 734, 737, 753, 756, 759, 772, 773, 778, 779, 789, 797, 798, 799, 803, 809, 812, 822, 833, 853, 864, 865, 867, 869, 874, 875, 877, 898, 912, 921, 923, 933, 935, 941, 943, 944, 945, 946, 957, 962, 963, 967, 971, 972, 998, 1001, 1003, 1007, 1022, 1025, 1033, 1037, 1052, 1060, 1061, 1064, 1065, 1066, 1067, 1072, 1078, 1084, 1092, 1101, 1102, 1110, 1113, 1120, 1124, 1130, 1132, 1133, 1148, 1155, 1156, 1159, 1163, 1164, 1165, 1172, 1179, 1182, 1185, 1189, 1193, 1203, 1205, 1208, 1214, 1229, 1236, 1240, 1257, 1264, 1272, 1289, 1294, 1295, 1299, 1323, 1328, 1329, 1332, 1364, 1369, 1383, 1385, 1386, 1387, 1388, 1389, 1391, 1394, 1397, 1399, 1403, 1412, 1414, 1416, 1417, 1439, 1440, 1444, 1447, 1449, 1455, 1460, 1465, 1475, 1494, 1499, 1500, 1508, 1512, 1513, 1526, 1531, 1536, 1547, 1560, 1562, 1565, 1573, 1576, 1579, 1595, 1598, 1607, 1608, 1634, 1635, 1637, 1639, 1643, 1647, 1654, 1656, 1677, 1679, 1702, 1713, 1715, 1732, 1733, 1735, 1750, 1764, 1782, 1783, 1795, 1803, 1812, 1813, 1819, 1839, 1872, 1877, 1887, 1889, 1891, 1899, 1902, 1906, 1917, 1931, 1946, 1947, 1952, 1961, 1966, 1980, 1981, 1982, 2003, 2007, 2017, 2019, 2022, 2046], 'count': 317}, 'morgan_fp': {'bits': [29, 80, 139, 207, 294, 389, 556, 572, 582, 597, 650, 693, 694, 695, 739, 772, 807, 898, 926, 935, 940, 941, 955, 964, 1019, 1057, 1060, 1088, 1145, 1153, 1162, 1199, 1215, 1280, 1366, 1380, 1386, 1480, 1645, 1750, 1758, 1789, 1850, 1873, 1917, 1957], 'count': 46}}, 'value_data': {}, 'LSH': [111904057377, 481090930750, 111807688740, 283727962115, 532726945805, 309250254872, 25824378898, 111769849858, 206233931843, 154627348581, 17461094414, 575949271089, 867642214413, 120464631815, 420961335298, 111698513949, 60137990194, 17301606426, 249317871627, 429605804032, 223384436742, 94489292813, 25192659, 51594565653, 112554190865]}\n"
     ]
    }
   ],
   "source": [
    "myquery = { \"index\": \"{}\".format(similarity_results[0][1]) }\n",
    "search_result = molecules_collection.find(myquery)\n",
    "print(search_result[0])"
   ]
  },
  {
   "cell_type": "code",
   "execution_count": 3,
   "metadata": {},
   "outputs": [],
   "source": [
    "import rdkit\n",
    "from rdkit import Chem\n",
    "from rdkit.Chem import PandasTools\n",
    "from rdkit.Chem import rdmolfiles, AllChem\n",
    "from rdkit.Chem import rdDepictor\n",
    "from rdkit.Chem.Draw import rdMolDraw2D\n",
    "from IPython.display import SVG\n",
    "# for similarity search need mongo-rdkit\n",
    "# from mongordkit.Search import similarity, substructure, utils\n",
    "# from mongordkit import Search\n",
    "# from mongordkit.Database import create, write\n",
    "\n",
    "\n",
    "def update_rdkit_with_sialdrich (client, db_instance):\n",
    "    # Disable rdkit warnings\n",
    "    rdkit.RDLogger.DisableLog('rdApp.*')\n",
    "\n",
    "    db_name = db_instance.DATABASE_NAME\n",
    "    molecules_collection = client[db_name][\"molecules\"]\n"
   ]
  },
  {
   "cell_type": "code",
   "execution_count": 10,
   "metadata": {},
   "outputs": [],
   "source": [
    "db_name = db_instance.DATABASE_NAME"
   ]
  },
  {
   "cell_type": "code",
   "execution_count": 12,
   "metadata": {},
   "outputs": [
    {
     "data": {
      "text/plain": [
       "'timerbot_db'"
      ]
     },
     "execution_count": 12,
     "metadata": {},
     "output_type": "execute_result"
    }
   ],
   "source": [
    "db_name"
   ]
  },
  {
   "cell_type": "code",
   "execution_count": 15,
   "metadata": {},
   "outputs": [
    {
     "data": {
      "text/plain": [
       "Collection(Database(MongoClient(host=['localhost:27017'], document_class=dict, tz_aware=False, connect=True, authsource='admin'), 'timerbot_db'), 'molecules')"
      ]
     },
     "execution_count": 15,
     "metadata": {},
     "output_type": "execute_result"
    }
   ],
   "source": [
    "client[db_name].molecules"
   ]
  },
  {
   "cell_type": "code",
   "execution_count": 19,
   "metadata": {},
   "outputs": [],
   "source": [
    "client.drop_database(\"timerbot_db\")"
   ]
  },
  {
   "cell_type": "code",
   "execution_count": null,
   "metadata": {},
   "outputs": [],
   "source": []
  }
 ],
 "metadata": {
  "interpreter": {
   "hash": "0f624d81ac4b526ed6f013f0ced36a502ce6acd0ba10be2806dfd2eb339c6a11"
  },
  "kernelspec": {
   "display_name": "Python 3 (ipykernel)",
   "language": "python",
   "name": "python3"
  },
  "language_info": {
   "codemirror_mode": {
    "name": "ipython",
    "version": 3
   },
   "file_extension": ".py",
   "mimetype": "text/x-python",
   "name": "python",
   "nbconvert_exporter": "python",
   "pygments_lexer": "ipython3",
   "version": "3.8.0"
  }
 },
 "nbformat": 4,
 "nbformat_minor": 4
}
