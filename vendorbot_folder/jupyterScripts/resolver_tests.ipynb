{
 "cells": [
  {
   "cell_type": "code",
   "execution_count": 4,
   "metadata": {},
   "outputs": [
    {
     "data": {
      "text/plain": [
       "'CN1CC[C@]23[C@@H]4[C@H]1CC5=C2C(=C(C=C5)O)O[C@H]3[C@H](C=C4)O'"
      ]
     },
     "execution_count": 4,
     "metadata": {},
     "output_type": "execute_result"
    }
   ],
   "source": [
    "import os, sys\n",
    "sys.path.append(\"..\")\n",
    "\n",
    "from modules.services.resolver import get_SMILES\n",
    "\n",
    "get_SMILES(\"57-27-2\")\n"
   ]
  },
  {
   "cell_type": "code",
   "execution_count": 3,
   "metadata": {},
   "outputs": [
    {
     "name": "stdout",
     "output_type": "stream",
     "text": [
      "Collecting package metadata (current_repodata.json): ...working... done\n",
      "Solving environment: ...working... done\n",
      "\n",
      "## Package Plan ##\n",
      "\n",
      "  environment location: C:\\Users\\Teravolt\\.conda\\envs\\vendorbot_env\n",
      "\n",
      "  added / updated specs:\n",
      "    - cirpy\n",
      "\n",
      "\n",
      "The following packages will be downloaded:\n",
      "\n",
      "    package                    |            build\n",
      "    ---------------------------|-----------------\n",
      "    cirpy-1.0.2                |             py_0          10 KB  conda-forge\n",
      "    libxml2-2.9.12             |       hf5bbc77_1         3.4 MB  conda-forge\n",
      "    libxslt-1.1.33             |       h65864e5_3         501 KB  conda-forge\n",
      "    lxml-4.8.0                 |   py38h292cb97_0         1.1 MB  conda-forge\n",
      "    ------------------------------------------------------------\n",
      "                                           Total:         5.0 MB\n",
      "\n",
      "The following NEW packages will be INSTALLED:\n",
      "\n",
      "  cirpy              conda-forge/noarch::cirpy-1.0.2-py_0\n",
      "  libxml2            conda-forge/win-64::libxml2-2.9.12-hf5bbc77_1\n",
      "  libxslt            conda-forge/win-64::libxslt-1.1.33-h65864e5_3\n",
      "  lxml               conda-forge/win-64::lxml-4.8.0-py38h292cb97_0\n",
      "\n",
      "\n",
      "\n",
      "Downloading and Extracting Packages\n",
      "\n",
      "libxslt-1.1.33       | 501 KB    |            |   0% \n",
      "libxslt-1.1.33       | 501 KB    | 3          |   3% \n",
      "libxslt-1.1.33       | 501 KB    | ######7    |  67% \n",
      "libxslt-1.1.33       | 501 KB    | ########## | 100% \n",
      "\n",
      "cirpy-1.0.2          | 10 KB     |            |   0% \n",
      "cirpy-1.0.2          | 10 KB     | ########## | 100% \n",
      "cirpy-1.0.2          | 10 KB     | ########## | 100% \n",
      "\n",
      "libxml2-2.9.12       | 3.4 MB    |            |   0% \n",
      "libxml2-2.9.12       | 3.4 MB    | 5          |   5% \n",
      "libxml2-2.9.12       | 3.4 MB    | #4         |  14% \n",
      "libxml2-2.9.12       | 3.4 MB    | ##1        |  22% \n",
      "libxml2-2.9.12       | 3.4 MB    | ###        |  31% \n",
      "libxml2-2.9.12       | 3.4 MB    | ###9       |  40% \n",
      "libxml2-2.9.12       | 3.4 MB    | ####9      |  50% \n",
      "libxml2-2.9.12       | 3.4 MB    | #####8     |  59% \n",
      "libxml2-2.9.12       | 3.4 MB    | ######7    |  68% \n",
      "libxml2-2.9.12       | 3.4 MB    | #######7   |  78% \n",
      "libxml2-2.9.12       | 3.4 MB    | ########6  |  87% \n",
      "libxml2-2.9.12       | 3.4 MB    | #########5 |  96% \n",
      "libxml2-2.9.12       | 3.4 MB    | ########## | 100% \n",
      "\n",
      "lxml-4.8.0           | 1.1 MB    |            |   0% \n",
      "lxml-4.8.0           | 1.1 MB    | #9         |  19% \n",
      "lxml-4.8.0           | 1.1 MB    | #####1     |  52% \n",
      "lxml-4.8.0           | 1.1 MB    | #######9   |  80% \n",
      "lxml-4.8.0           | 1.1 MB    | ########## | 100% \n",
      "Note: you may need to restart the kernel to use updated packages.\n"
     ]
    },
    {
     "name": "stderr",
     "output_type": "stream",
     "text": [
      "\n",
      "\n",
      "==> WARNING: A newer version of conda exists. <==\n",
      "  current version: 4.10.3\n",
      "  latest version: 4.12.0\n",
      "\n",
      "Please update conda by running\n",
      "\n",
      "    $ conda update -n base conda\n",
      "\n",
      "\n"
     ]
    },
    {
     "name": "stdout",
     "output_type": "stream",
     "text": [
      "\n",
      "Preparing transaction: ...working... done\n",
      "Verifying transaction: ...working... done\n",
      "Executing transaction: ...working... done\n"
     ]
    }
   ],
   "source": [
    "conda install cirpy"
   ]
  },
  {
   "cell_type": "code",
   "execution_count": 4,
   "metadata": {},
   "outputs": [
    {
     "name": "stdout",
     "output_type": "stream",
     "text": [
      "Requirement already satisfied: cirpy in c:\\users\\teravolt\\.conda\\envs\\vendorbot_env\\lib\\site-packages (1.0.2)\n",
      "Note: you may need to restart the kernel to use updated packages.\n"
     ]
    }
   ],
   "source": [
    "pip install cirpy"
   ]
  },
  {
   "cell_type": "code",
   "execution_count": 5,
   "metadata": {},
   "outputs": [
    {
     "name": "stdout",
     "output_type": "stream",
     "text": [
      "Collecting pubchempy\n",
      "  Using cached PubChemPy-1.0.4.tar.gz (29 kB)\n",
      "  Preparing metadata (setup.py): started\n",
      "  Preparing metadata (setup.py): finished with status 'done'\n",
      "Building wheels for collected packages: pubchempy\n",
      "  Building wheel for pubchempy (setup.py): started\n",
      "  Building wheel for pubchempy (setup.py): finished with status 'done'\n",
      "  Created wheel for pubchempy: filename=PubChemPy-1.0.4-py3-none-any.whl size=13834 sha256=ad39b8b5ba97004c76269dfea3afd8e32961925fa4441cd2313412b7d7101d4d\n",
      "  Stored in directory: c:\\users\\teravolt\\appdata\\local\\pip\\cache\\wheels\\b0\\8c\\ba\\3b00b89931153bf5a4eaa8e73bd1b0319a879cc45175326854\n",
      "Successfully built pubchempy\n",
      "Installing collected packages: pubchempy\n",
      "Successfully installed pubchempy-1.0.4\n",
      "Note: you may need to restart the kernel to use updated packages.\n"
     ]
    }
   ],
   "source": [
    "pip install pubchempy"
   ]
  },
  {
   "cell_type": "code",
   "execution_count": null,
   "metadata": {},
   "outputs": [],
   "source": []
  }
 ],
 "metadata": {
  "interpreter": {
   "hash": "0f624d81ac4b526ed6f013f0ced36a502ce6acd0ba10be2806dfd2eb339c6a11"
  },
  "kernelspec": {
   "display_name": "Python 3 (ipykernel)",
   "language": "python",
   "name": "python3"
  },
  "language_info": {
   "codemirror_mode": {
    "name": "ipython",
    "version": 3
   },
   "file_extension": ".py",
   "mimetype": "text/x-python",
   "name": "python",
   "nbconvert_exporter": "python",
   "pygments_lexer": "ipython3",
   "version": "3.8.0"
  }
 },
 "nbformat": 4,
 "nbformat_minor": 4
}
