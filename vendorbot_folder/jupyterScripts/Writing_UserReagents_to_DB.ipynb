{
 "cells": [
  {
   "cell_type": "code",
   "execution_count": 1,
   "id": "bc583e1a",
   "metadata": {},
   "outputs": [
    {
     "name": "stdout",
     "output_type": "stream",
     "text": [
      "{'root': <modules.db.mongodb.MongoDriver object at 0x000001F421F27970>, 'vendorbot_db': <modules.db.mongodb.MongoDriver object at 0x000001F421F77430>, 'blacklist_rdkit_db': <modules.db.mongodb.MongoDriver object at 0x000001F423163A00>}\n",
      "MongoClient(host=['localhost:27017'], document_class=dict, tz_aware=False, connect=True, authsource='admin')\n"
     ]
    },
    {
     "data": {
      "text/plain": [
       "['admin', 'blacklist_rdkit_db', 'config', 'local', 'test_db', 'vendorbot_db']"
      ]
     },
     "execution_count": 1,
     "metadata": {},
     "output_type": "execute_result"
    }
   ],
   "source": [
    "import sys,os\n",
    "sys.path.append(\"..\")\n",
    "\n",
    "MONGO_URL=\"localhost:27017\"\n",
    "os.environ[\"MONGO_URL\"] = MONGO_URL\n",
    "\n",
    "MONGO_INITDB_ROOT_USERNAME=\"root\" # \n",
    "os.environ[\"MONGO_INITDB_ROOT_USERNAME\"] = MONGO_INITDB_ROOT_USERNAME\n",
    "\n",
    "MONGO_INITDB_ROOT_PASSWORD=\"dr5[gnhn\" # \n",
    "os.environ[\"MONGO_INITDB_ROOT_PASSWORD\"] = MONGO_INITDB_ROOT_PASSWORD\n",
    "\n",
    "DATABASE_NAME = \"admin\"\n",
    "os.environ[\"MONGO_INITDB_DATABASE\"] = DATABASE_NAME\n",
    "\n",
    "MONGO_BOT_USERNAME=\"bot\"\n",
    "os.environ[\"MONGO_BOT_USERNAME\"] = MONGO_BOT_USERNAME\n",
    "\n",
    "MONGO_BOT_PASSWORD=\"botpsswd\"\n",
    "os.environ[\"MONGO_BOT_PASSWORD\"] = MONGO_BOT_PASSWORD\n",
    "\n",
    "MONGO_VENDORBOT_DATABASE = \"vendorbot_db\"\n",
    "os.environ[\"MONGO_VENDORBOT_DATABASE\"] = MONGO_VENDORBOT_DATABASE\n",
    "\n",
    "# root_credentials = dict(\n",
    "#     DATABASE_NAME = \"timerbot_db\",\n",
    "#     DATABASE_HOST = MONGO_URL,\n",
    "#     DATABASE_ADMIN_USERNAME = MONGO_INITDB_ROOT_USERNAME,\n",
    "#     DATABASE_ADMIN_PASSWORD = MONGO_INITDB_ROOT_PASSWORD\n",
    "# )\n",
    "\n",
    "# database credentials extractor import\n",
    "from modules.db.dbconfig import root_credentials, vendorbot_credentials, blacklist_rdkit_credentials\n",
    "from modules.db.mongodb import MongoDriver\n",
    "\n",
    "db_instances = dict(root=MongoDriver(root_credentials), vendorbot_db=MongoDriver(vendorbot_credentials), blacklist_rdkit_db=MongoDriver(blacklist_rdkit_credentials))\n",
    "print(db_instances)\n",
    "# print(root_credentials)\n",
    "# print(timerbot_credentials)\n",
    "\n",
    "vendorbot_db_client = db_instances[\"vendorbot_db\"].client\n",
    "blacklist_rdkit_db_client = db_instances[\"blacklist_rdkit_db\"].client\n",
    "\n",
    "# db_instance = MongoDriver(vendorbot_credentials)\n",
    "\n",
    "collection_name = \"users_collection\"\n",
    "# user_id = 122267418\n",
    "# query = {\"user_id\": user_id}\n",
    "\n",
    "print(vendorbot_db_client)\n",
    "vendorbot_db_client.list_database_names()"
   ]
  },
  {
   "cell_type": "code",
   "execution_count": 2,
   "id": "0983a6f7",
   "metadata": {},
   "outputs": [],
   "source": [
    "import sys,os\n",
    "import pandas as pd\n",
    "sys.path.append(\"..\")\n",
    "from modules.db.dbschema import UserReagents\n",
    "from modules.db import dbmodel\n",
    "\n",
    "# retrieving data from user message\n",
    "# ищем запись относящуюся к пользователю\n",
    "user_id = 122267418\n",
    "mongo_query = {\"user_id\": user_id}\n",
    "\n",
    "input_txt_file_path = \"../srs/user_reagent_lists_import/radical_subject_reagents.txt\"\n",
    "import_CAS_df = pd.read_csv(input_txt_file_path, header = None)\n",
    "CAS_list = import_CAS_df[0].tolist()\n",
    "\n",
    "initial_record = dbmodel.get_records(vendorbot_db_client, db_instances[\"vendorbot_db\"], collection_name, mongo_query)\n",
    "# test_record2 = {\n",
    "#     \"reagent_requests\": [\n",
    "#                 {\n",
    "#                     \"requested_CAS\": \"50-00-0\"\n",
    "#                 }\n",
    "#             ]\n",
    "#         }\n",
    "\n",
    "# initial_record\n",
    "user_reagents_object = UserReagents(**initial_record[0])\n"
   ]
  },
  {
   "cell_type": "code",
   "execution_count": 3,
   "id": "f7edfcc5",
   "metadata": {},
   "outputs": [
    {
     "name": "stdout",
     "output_type": "stream",
     "text": [
      "Elapsed time: 0.3245 seconds\n",
      "<multiprocessing.pool.MapResult object at 0x000001F421E937F0>\n"
     ]
    },
    {
     "ename": "TypeError",
     "evalue": "'MapResult' object is not subscriptable",
     "output_type": "error",
     "traceback": [
      "\u001b[1;31m---------------------------------------------------------------------------\u001b[0m",
      "\u001b[1;31mTypeError\u001b[0m                                 Traceback (most recent call last)",
      "Input \u001b[1;32mIn [3]\u001b[0m, in \u001b[0;36m<cell line: 2>\u001b[1;34m()\u001b[0m\n\u001b[0;32m      1\u001b[0m \u001b[38;5;66;03m# импорт листа реагентов с фильтрациями\u001b[39;00m\n\u001b[1;32m----> 2\u001b[0m \u001b[43muser_reagents_object\u001b[49m\u001b[38;5;241;43m.\u001b[39;49m\u001b[43madd_list_of_reagents\u001b[49m\u001b[43m(\u001b[49m\u001b[43muser_id\u001b[49m\u001b[43m,\u001b[49m\u001b[43m \u001b[49m\u001b[38;5;124;43m\"\u001b[39;49m\u001b[38;5;124;43mradical_subject\u001b[39;49m\u001b[38;5;124;43m\"\u001b[39;49m\u001b[43m,\u001b[49m\u001b[43m \u001b[49m\u001b[43mblacklist_rdkit_db_client\u001b[49m\u001b[43m,\u001b[49m\u001b[43m \u001b[49m\u001b[43mdb_instances\u001b[49m\u001b[43m[\u001b[49m\u001b[38;5;124;43m\"\u001b[39;49m\u001b[38;5;124;43mblacklist_rdkit_db\u001b[39;49m\u001b[38;5;124;43m\"\u001b[39;49m\u001b[43m]\u001b[49m\u001b[43m,\u001b[49m\u001b[43m \u001b[49m\u001b[43mCAS_list\u001b[49m\u001b[43m)\u001b[49m\n\u001b[0;32m      3\u001b[0m \u001b[38;5;66;03m# экспорт JSON\u001b[39;00m\n\u001b[0;32m      4\u001b[0m data \u001b[38;5;241m=\u001b[39m user_reagents_object\u001b[38;5;241m.\u001b[39mexport()\n",
      "File \u001b[1;32mC:\\FILES\\github\\labaggregator2022\\vendorbot_folder\\modules\\db\\dbschema.py:116\u001b[0m, in \u001b[0;36mUserReagents.add_list_of_reagents\u001b[1;34m(self, user_id, contact_username, client, db_instance, CAS_list)\u001b[0m\n\u001b[0;32m    108\u001b[0m     \u001b[38;5;28msetattr\u001b[39m(\u001b[38;5;28mself\u001b[39m, \u001b[38;5;124m\"\u001b[39m\u001b[38;5;124muser_reagents\u001b[39m\u001b[38;5;124m\"\u001b[39m, \u001b[38;5;28mself\u001b[39m\u001b[38;5;241m.\u001b[39mcreate_new_list_reagents(CAS_list))\n\u001b[0;32m    110\u001b[0m \u001b[38;5;66;03m# timer = Timer()\u001b[39;00m\n\u001b[0;32m    111\u001b[0m \u001b[38;5;66;03m# timer.start()\u001b[39;00m\n\u001b[0;32m    112\u001b[0m \u001b[38;5;66;03m# n = 50\u001b[39;00m\n\u001b[0;32m    113\u001b[0m \u001b[38;5;66;03m# with Pool(processes=n) as pool:\u001b[39;00m\n\u001b[0;32m    114\u001b[0m \u001b[38;5;66;03m#     result = pool.map(self.resolve_CAS_to_SMILES, self.user_reagents)\u001b[39;00m\n\u001b[0;32m    115\u001b[0m \u001b[38;5;66;03m# timer.stop()\u001b[39;00m\n\u001b[1;32m--> 116\u001b[0m \u001b[38;5;28;43mself\u001b[39;49m\u001b[38;5;241;43m.\u001b[39;49m\u001b[43mresolve_CAS_to_SMILES\u001b[49m\u001b[43m(\u001b[49m\u001b[43mcontact_username\u001b[49m\u001b[43m)\u001b[49m \u001b[38;5;66;03m# дополнение списка SMILES-ами\u001b[39;00m\n\u001b[0;32m    117\u001b[0m \u001b[38;5;28mprint\u001b[39m(\u001b[38;5;124m\"\u001b[39m\u001b[38;5;124mafter smiles\u001b[39m\u001b[38;5;124m\"\u001b[39m)\n\u001b[0;32m    118\u001b[0m \u001b[38;5;28mself\u001b[39m\u001b[38;5;241m.\u001b[39mblacklist_filter(client, db_instance)\n",
      "File \u001b[1;32mC:\\FILES\\github\\labaggregator2022\\vendorbot_folder\\modules\\db\\dbschema.py:131\u001b[0m, in \u001b[0;36mUserReagents.resolve_CAS_to_SMILES\u001b[1;34m(self, contact_username)\u001b[0m\n\u001b[0;32m    124\u001b[0m \u001b[38;5;124;03m\"\"\"\u001b[39;00m\n\u001b[0;32m    125\u001b[0m \u001b[38;5;124;03mэта функция читает список реагентов, берет CAS номера, пихает их в лист.\u001b[39;00m\n\u001b[0;32m    126\u001b[0m \u001b[38;5;124;03mкормит этим листом batch_SMILES_resolve\u001b[39;00m\n\u001b[0;32m    127\u001b[0m \u001b[38;5;124;03mполученный лист объектов с CAS и SMILES дополняет контактными данными и ставит заглушку \u001b[39;00m\n\u001b[0;32m    128\u001b[0m \u001b[38;5;124;03msharing_status\u001b[39;00m\n\u001b[0;32m    129\u001b[0m \u001b[38;5;124;03m\"\"\"\u001b[39;00m\n\u001b[0;32m    130\u001b[0m CAS_list \u001b[38;5;241m=\u001b[39m [entry[\u001b[38;5;124m\"\u001b[39m\u001b[38;5;124mCAS\u001b[39m\u001b[38;5;124m\"\u001b[39m] \u001b[38;5;28;01mfor\u001b[39;00m entry \u001b[38;5;129;01min\u001b[39;00m \u001b[38;5;28mself\u001b[39m\u001b[38;5;241m.\u001b[39muser_reagents]\n\u001b[1;32m--> 131\u001b[0m resolved_SMILES \u001b[38;5;241m=\u001b[39m \u001b[43mbatch_SMILES_resolve\u001b[49m\u001b[43m(\u001b[49m\u001b[43mCAS_list\u001b[49m\u001b[43m)\u001b[49m\u001b[43m[\u001b[49m\u001b[38;5;241;43m0\u001b[39;49m\u001b[43m]\u001b[49m\n\u001b[0;32m    133\u001b[0m \u001b[38;5;28mself\u001b[39m\u001b[38;5;241m.\u001b[39muser_reagents \u001b[38;5;241m=\u001b[39m resolved_SMILES\n\u001b[0;32m    134\u001b[0m \u001b[38;5;28;01mfor\u001b[39;00m entry \u001b[38;5;129;01min\u001b[39;00m \u001b[38;5;28mself\u001b[39m\u001b[38;5;241m.\u001b[39muser_reagents:\n",
      "\u001b[1;31mTypeError\u001b[0m: 'MapResult' object is not subscriptable"
     ]
    }
   ],
   "source": [
    "\n",
    "# импорт листа реагентов с фильтрациями\n",
    "user_reagents_object.add_list_of_reagents(user_id, \"radical_subject\", blacklist_rdkit_db_client, db_instances[\"blacklist_rdkit_db\"], CAS_list)\n",
    "# экспорт JSON\n",
    "data = user_reagents_object.export()\n"
   ]
  },
  {
   "cell_type": "code",
   "execution_count": null,
   "id": "384c304e",
   "metadata": {},
   "outputs": [],
   "source": [
    "# записываем в базу объект \n",
    "dbmodel.update_record(vendorbot_db_client, db_instances[\"vendorbot_db\"], collection_name, mongo_query, data)"
   ]
  },
  {
   "cell_type": "code",
   "execution_count": null,
   "id": "99cbb3b1",
   "metadata": {},
   "outputs": [],
   "source": [
    "data"
   ]
  },
  {
   "cell_type": "code",
   "execution_count": 3,
   "id": "4a358d10",
   "metadata": {},
   "outputs": [],
   "source": [
    "def update_record(client, db_instance, collection_name: str, query: dict, data: dict):\n",
    "    db_name = db_instance.DATABASE_NAME\n",
    "    collection = client[db_name][collection_name]\n",
    "    # result = collection.insert_one(data)\n",
    "    result = collection.update(query, {\"$set\":data}, upsert=True)\n",
    "    logger.info(f\"data upserted into {db_name}, {collection_name}\")\n",
    "    return result"
   ]
  },
  {
   "cell_type": "code",
   "execution_count": 10,
   "id": "f0c94135",
   "metadata": {},
   "outputs": [
    {
     "ename": "NameError",
     "evalue": "name 'db_instance' is not defined",
     "output_type": "error",
     "traceback": [
      "\u001b[1;31m---------------------------------------------------------------------------\u001b[0m",
      "\u001b[1;31mNameError\u001b[0m                                 Traceback (most recent call last)",
      "Input \u001b[1;32mIn [10]\u001b[0m, in \u001b[0;36m<cell line: 1>\u001b[1;34m()\u001b[0m\n\u001b[1;32m----> 1\u001b[0m db_name \u001b[38;5;241m=\u001b[39m \u001b[43mdb_instance\u001b[49m\u001b[38;5;241m.\u001b[39mDATABASE_NAME\n\u001b[0;32m      2\u001b[0m collection \u001b[38;5;241m=\u001b[39m client[db_name][collection_name]\n\u001b[0;32m      4\u001b[0m collection\n",
      "\u001b[1;31mNameError\u001b[0m: name 'db_instance' is not defined"
     ]
    }
   ],
   "source": [
    "db_name = db_instance.DATABASE_NAME\n",
    "collection = client[db_name][collection_name]\n",
    "\n",
    "collection"
   ]
  },
  {
   "cell_type": "code",
   "execution_count": 11,
   "id": "6ac9022f",
   "metadata": {},
   "outputs": [
    {
     "ename": "NameError",
     "evalue": "name 'collection' is not defined",
     "output_type": "error",
     "traceback": [
      "\u001b[1;31m---------------------------------------------------------------------------\u001b[0m",
      "\u001b[1;31mNameError\u001b[0m                                 Traceback (most recent call last)",
      "Input \u001b[1;32mIn [11]\u001b[0m, in \u001b[0;36m<cell line: 1>\u001b[1;34m()\u001b[0m\n\u001b[1;32m----> 1\u001b[0m \u001b[43mcollection\u001b[49m\u001b[38;5;241m.\u001b[39mupdate(mongo_query, {\u001b[38;5;124m\"\u001b[39m\u001b[38;5;124m$set\u001b[39m\u001b[38;5;124m\"\u001b[39m:data}, upsert\u001b[38;5;241m=\u001b[39m\u001b[38;5;28;01mTrue\u001b[39;00m)\n",
      "\u001b[1;31mNameError\u001b[0m: name 'collection' is not defined"
     ]
    }
   ],
   "source": [
    "collection.update(mongo_query, {\"$set\":data}, upsert=True)"
   ]
  },
  {
   "cell_type": "code",
   "execution_count": 4,
   "id": "74a72ac2",
   "metadata": {},
   "outputs": [],
   "source": [
    "from sandbox import resolver\n",
    "input_txt_file_path = \"../srs/user_reagent_lists_import/radical_subject_reagents.txt\"\n",
    "import_CAS_df = pd.read_csv(input_txt_file_path, header = None)\n",
    "CAS_list = import_CAS_df[0].tolist()"
   ]
  },
  {
   "cell_type": "code",
   "execution_count": 5,
   "id": "d6ad6d45",
   "metadata": {},
   "outputs": [
    {
     "name": "stdout",
     "output_type": "stream",
     "text": [
      "Elapsed time: 0.4938 seconds\n",
      "<multiprocessing.pool.MapResult object at 0x000001F4261577F0>\n"
     ]
    }
   ],
   "source": [
    "tests = resolver.batch_SMILES_resolve(CAS_list)"
   ]
  },
  {
   "cell_type": "code",
   "execution_count": null,
   "id": "06841782",
   "metadata": {},
   "outputs": [],
   "source": [
    "tests.get()"
   ]
  },
  {
   "cell_type": "code",
   "execution_count": null,
   "id": "7b0c4dd2",
   "metadata": {},
   "outputs": [],
   "source": []
  },
  {
   "cell_type": "code",
   "execution_count": null,
   "id": "0f5c67d5",
   "metadata": {},
   "outputs": [],
   "source": []
  },
  {
   "cell_type": "code",
   "execution_count": null,
   "id": "55eb2c60",
   "metadata": {},
   "outputs": [],
   "source": []
  }
 ],
 "metadata": {
  "kernelspec": {
   "display_name": "Python 3 (ipykernel)",
   "language": "python",
   "name": "python3"
  },
  "language_info": {
   "codemirror_mode": {
    "name": "ipython",
    "version": 3
   },
   "file_extension": ".py",
   "mimetype": "text/x-python",
   "name": "python",
   "nbconvert_exporter": "python",
   "pygments_lexer": "ipython3",
   "version": "3.8.0"
  }
 },
 "nbformat": 4,
 "nbformat_minor": 5
}
