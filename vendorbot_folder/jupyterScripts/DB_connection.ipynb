{
 "cells": [
  {
   "cell_type": "code",
   "execution_count": 14,
   "source": [
    "import sys,os\r\n",
    "sys.path.append(\"..\")\r\n",
    "\r\n",
    "MONGO_URL=\"localhost:27017\"\r\n",
    "os.environ[\"MONGO_URL\"] = MONGO_URL\r\n",
    "\r\n",
    "MONGO_INITDB_ROOT_USERNAME=\"root\" # \r\n",
    "os.environ[\"MONGO_INITDB_ROOT_USERNAME\"] = MONGO_INITDB_ROOT_USERNAME\r\n",
    "\r\n",
    "MONGO_INITDB_ROOT_PASSWORD=\"dr5[gnhn\" # \r\n",
    "os.environ[\"MONGO_INITDB_ROOT_PASSWORD\"] = MONGO_INITDB_ROOT_PASSWORD\r\n",
    "\r\n",
    "DATABASE_NAME = \"admin\"\r\n",
    "os.environ[\"MONGO_INITDB_DATABASE\"] = DATABASE_NAME\r\n",
    "\r\n",
    "MONGO_VENDORBOT_DATABASE = \"vendorbot_db\"\r\n",
    "os.environ[\"MONGO_VENDORBOT_DATABASE\"] = MONGO_VENDORBOT_DATABASE\r\n",
    "\r\n",
    "MONGO_BOT_USERNAME=\"bot\"\r\n",
    "os.environ[\"MONGO_BOT_USERNAME\"] = MONGO_BOT_USERNAME\r\n",
    "\r\n",
    "MONGO_BOT_PASSWORD=\"botpsswd\"\r\n",
    "os.environ[\"MONGO_BOT_PASSWORD\"] = MONGO_BOT_PASSWORD\r\n",
    "\r\n",
    "from modules.db.dbconfig import db_client\r\n",
    "\r\n",
    "from modules.db.dbschema import UserReagents\r\n",
    "\r\n",
    "from modules.db.users import UsersCollection\r\n",
    "\r\n",
    "users_collection = UsersCollection(db_client, MONGO_VENDORBOT_DATABASE)\r\n",
    "\r\n",
    "user_id = 122267418\r\n",
    "query = {\"user_id\": user_id}\r\n",
    "\r\n",
    "print(db_client)\r\n",
    "db_client.list_database_names()"
   ],
   "outputs": [
    {
     "output_type": "stream",
     "name": "stdout",
     "text": [
      "MongoClient(host=['localhost:27017'], document_class=dict, tz_aware=False, connect=True, authsource='admin', connecttimeoutms=5)\n"
     ]
    },
    {
     "output_type": "execute_result",
     "data": {
      "text/plain": [
       "['admin',\n",
       " 'blacklist_rdkit_db',\n",
       " 'config',\n",
       " 'local',\n",
       " 'molecules_db',\n",
       " 'test_db',\n",
       " 'vendorbot_db']"
      ]
     },
     "metadata": {},
     "execution_count": 14
    }
   ],
   "metadata": {}
  },
  {
   "cell_type": "code",
   "execution_count": 15,
   "source": [
    "users_collection.get_user(user_id)"
   ],
   "outputs": [
    {
     "output_type": "execute_result",
     "data": {
      "text/plain": [
       "{'_id': 122267418,\n",
       " 'user_id': 122267418,\n",
       " 'username': 'radical_subject',\n",
       " 'firstname': 'Oleg',\n",
       " 'lastname': 'Fedorov',\n",
       " 'phone_number': '',\n",
       " 'user_reagents': [{'reagent_internal_id': 'd4bfb66beacb43cda65827b3ad458dc0',\n",
       "   'CAS': '3849-21-6',\n",
       "   'SMILES': 'CCOC(=O)/C(C#N)=N/O',\n",
       "   'sharing_status': 'shared',\n",
       "   'timestamp': '20.09.2022 14:58'},\n",
       "  {'reagent_internal_id': '284519ce7d644cd6ae3a167ae075f01e',\n",
       "   'CAS': '153433-21-7',\n",
       "   'SMILES': 'CCOC(=O)/C(C#N)=N/O[P+](N1CCCC1)(N1CCCC1)N1CCCC1.F[P-](F)(F)(F)(F)F',\n",
       "   'sharing_status': 'shared',\n",
       "   'timestamp': '20.09.2022 14:58'},\n",
       "  {'reagent_internal_id': 'e81f36465b9b484fa799ad72eb2895d0',\n",
       "   'CAS': '158014-03-0',\n",
       "   'SMILES': 'CCOC(=O)/C(C#N)=N/[O-].[K+]',\n",
       "   'sharing_status': 'shared',\n",
       "   'timestamp': '20.09.2022 14:58'},\n",
       "  {'reagent_internal_id': '9316cce78f854b80989178185aac1621',\n",
       "   'CAS': '958029-37-3',\n",
       "   'SMILES': 'C[N+](C)=C(N1CCOCC1)n1n[n+]([O-])c2ncccc21.F[P-](F)(F)(F)(F)F',\n",
       "   'sharing_status': 'shared',\n",
       "   'timestamp': '20.09.2022 14:58'},\n",
       "  {'reagent_internal_id': '10e039e308d74013a11326fcc643ef37',\n",
       "   'CAS': '330645-87-9',\n",
       "   'SMILES': 'CN(C)C(On1nnc2ccc(Cl)cc21)=[N+](C)C.F[P-](F)(F)(F)(F)F',\n",
       "   'sharing_status': 'shared',\n",
       "   'timestamp': '20.09.2022 14:58'},\n",
       "  {'reagent_internal_id': 'aa53adc38cd04f54a1a89946421a421b',\n",
       "   'CAS': '693-13-0',\n",
       "   'SMILES': 'CC(C)N=C=NC(C)C',\n",
       "   'sharing_status': 'shared',\n",
       "   'timestamp': '20.09.2022 14:58'},\n",
       "  {'reagent_internal_id': '4205488bffdd4114b7da91c431f288ba',\n",
       "   'CAS': '6485-79-6',\n",
       "   'SMILES': 'CC(C)[SiH](C(C)C)C(C)C',\n",
       "   'sharing_status': 'shared',\n",
       "   'timestamp': '20.09.2022 14:58'},\n",
       "  {'reagent_internal_id': '530acc6ea2de440299aa84212996d49f',\n",
       "   'CAS': '123333-53-9',\n",
       "   'SMILES': 'O.On1nnc2ccccc21',\n",
       "   'sharing_status': 'shared',\n",
       "   'timestamp': '20.09.2022 14:58'},\n",
       "  {'reagent_internal_id': 'c1432e247c974bea96971cc96259bceb',\n",
       "   'CAS': '86123-11-7',\n",
       "   'SMILES': 'O=C(N[C@H](Cc1c[nH]c2ccccc12)C(=O)O)OCC1c2ccccc2-c2ccccc21',\n",
       "   'sharing_status': 'shared',\n",
       "   'timestamp': '20.09.2022 14:58'},\n",
       "  {'reagent_internal_id': '7af51e29a58d4c0d9cf1a563099a64bf',\n",
       "   'CAS': '86123-10-6',\n",
       "   'SMILES': 'O=C(N[C@H](Cc1ccccc1)C(=O)O)OCC1c2ccccc2-c2ccccc21',\n",
       "   'sharing_status': 'shared',\n",
       "   'timestamp': '20.09.2022 14:58'},\n",
       "  {'reagent_internal_id': '86bceb7813cb470aab782036802953d9',\n",
       "   'CAS': '103213-32-7',\n",
       "   'SMILES': 'O=C(N[C@@H](CSC(c1ccccc1)(c1ccccc1)c1ccccc1)C(=O)O)OCC1c2ccccc2-c2ccccc21',\n",
       "   'sharing_status': 'shared',\n",
       "   'timestamp': '20.09.2022 14:58'},\n",
       "  {'reagent_internal_id': 'df2beabbc3f64c7092bba462b71cfd2e',\n",
       "   'CAS': '58438-03-2',\n",
       "   'SMILES': 'N[C@@H](Cc1ccc2ccccc2c1)C(=O)O',\n",
       "   'sharing_status': 'shared',\n",
       "   'timestamp': '20.09.2022 14:58'},\n",
       "  {'reagent_internal_id': '6a7fc5e6e2714f33982010e66c11d1bf',\n",
       "   'CAS': '125700-67-6',\n",
       "   'SMILES': 'CN(C)C(=[O+]n1nnc2ccccc21)N(C)C.[B+3].[F-].[F-].[F-].[F-]',\n",
       "   'sharing_status': 'shared',\n",
       "   'timestamp': '20.09.2022 14:58'},\n",
       "  {'reagent_internal_id': '0791b8595d964b59b0b6974ecb9a7d1e',\n",
       "   'CAS': '96402-49-2',\n",
       "   'SMILES': 'O=C(N[C@@H](Cc1cccc2ccccc12)C(=O)O)OCC1c2ccccc2-c2ccccc21',\n",
       "   'sharing_status': 'shared',\n",
       "   'timestamp': '20.09.2022 14:58'},\n",
       "  {'reagent_internal_id': '3121cf4d66534009aa6265a6d46683c7',\n",
       "   'CAS': '112883-43-9',\n",
       "   'SMILES': 'O=C(N[C@@H](Cc1ccc2ccccc2c1)C(=O)O)OCC1c2ccccc2-c2ccccc21',\n",
       "   'sharing_status': 'shared',\n",
       "   'timestamp': '20.09.2022 14:58'},\n",
       "  {'reagent_internal_id': '3279f8ec24e8467b8f29bf2ad8a9d791',\n",
       "   'CAS': '71989-35-0',\n",
       "   'SMILES': 'C[C@@H](OC(C)(C)C)[C@H](NC(=O)OCC1c2ccccc2-c2ccccc21)C(=O)O',\n",
       "   'sharing_status': 'shared',\n",
       "   'timestamp': '20.09.2022 14:58'},\n",
       "  {'reagent_internal_id': 'a21d6c6a4a8744a6a730bfed218fcb25',\n",
       "   'CAS': '150629-67-7',\n",
       "   'SMILES': 'CC(=NCCCC[C@H](NC(=O)OCC1c2ccccc2-c2ccccc21)C(=O)O)C1=C(O)CC(C)(C)CC1=O',\n",
       "   'sharing_status': 'shared',\n",
       "   'timestamp': '20.09.2022 14:58'},\n",
       "  {'reagent_internal_id': '4a037d85bf8f4a19940048698bfff4c6',\n",
       "   'CAS': '56-41-7',\n",
       "   'SMILES': 'CC(N)C(=O)O',\n",
       "   'sharing_status': 'shared',\n",
       "   'timestamp': '20.09.2022 14:58'},\n",
       "  {'reagent_internal_id': '41cf899f30df4d6c860e137e65de7d7b',\n",
       "   'CAS': '538-75-0',\n",
       "   'SMILES': 'C(=NC1CCCCC1)=NC1CCCCC1',\n",
       "   'sharing_status': 'shared',\n",
       "   'timestamp': '20.09.2022 14:58'},\n",
       "  {'reagent_internal_id': '47d0c9c3695445a68378027c09774b63',\n",
       "   'CAS': '77-92-9',\n",
       "   'SMILES': 'O=C(O)CC(O)(CC(=O)O)C(=O)O',\n",
       "   'sharing_status': 'shared',\n",
       "   'timestamp': '20.09.2022 14:58'}]}"
      ]
     },
     "metadata": {},
     "execution_count": 15
    }
   ],
   "metadata": {}
  },
  {
   "cell_type": "code",
   "execution_count": 16,
   "source": [
    "from rdkit import Chem\r\n",
    "from rdkit.Chem import AllChem\r\n",
    "from rdkit.Chem import Draw"
   ],
   "outputs": [],
   "metadata": {}
  },
  {
   "cell_type": "code",
   "execution_count": 17,
   "source": [
    "# SMILES\r\n",
    "smiles = 'CC[C@H]([NH3+])CO'\r\n",
    "\r\n"
   ],
   "outputs": [],
   "metadata": {}
  },
  {
   "cell_type": "code",
   "execution_count": 18,
   "source": [
    "def neutralize_atoms(mol):\r\n",
    "    '''\r\n",
    "    atom neutralizer\r\n",
    "    '''\r\n",
    "    pattern = Chem.MolFromSmarts(\"[+1!h0!$([*]~[-1,-2,-3,-4]),-1!$([*]~[+1,+2,+3,+4])]\")\r\n",
    "    at_matches = mol.GetSubstructMatches(pattern)\r\n",
    "    at_matches_list = [y[0] for y in at_matches]\r\n",
    "    if len(at_matches_list) > 0:\r\n",
    "        for at_idx in at_matches_list:\r\n",
    "            atom = mol.GetAtomWithIdx(at_idx)\r\n",
    "            chg = atom.GetFormalCharge()\r\n",
    "            hcount = atom.GetTotalNumHs()\r\n",
    "            atom.SetFormalCharge(0)\r\n",
    "            atom.SetNumExplicitHs(hcount - chg)\r\n",
    "            atom.UpdatePropertyCache()\r\n",
    "    return mol\r\n",
    "\r\n",
    "from rdkit.Chem.rdmolops import GetFormalCharge\r\n",
    "def charge_fixer(SMILES):\r\n",
    "    '''\r\n",
    "    Neutralize molecules atom by atom\r\n",
    "    '''\r\n",
    "    # Create RDKit molecular objects\r\n",
    "    mol = Chem.MolFromSmiles(smiles)\r\n",
    "    if GetFormalCharge(mol) != 0:\r\n",
    "        neutralize_atoms(mol)\r\n",
    "    return Chem.MolToSmiles(mol)"
   ],
   "outputs": [],
   "metadata": {}
  },
  {
   "cell_type": "code",
   "execution_count": 19,
   "source": [
    "from rdkit import RDLogger, Chem\r\n",
    "from rdkit.Chem import PandasTools, SanitizeMol\r\n",
    "\r\n",
    "from mongordkit.Database import write\r\n",
    "from mongordkit.Search import similarity, substructure\r\n",
    "from mongordkit.Database import registration"
   ],
   "outputs": [],
   "metadata": {}
  },
  {
   "cell_type": "code",
   "execution_count": null,
   "source": [],
   "outputs": [],
   "metadata": {}
  },
  {
   "cell_type": "code",
   "execution_count": 7,
   "source": [
    "rdmol = Chem.MolFromSmiles('Cc1ccccc1')\r\n",
    "scheme = registration.MolDocScheme()\r\n",
    "scheme.add_value_field('reagent_internal_id', [\"a05785ae720b414ca41526baf22bc026\", \"a05785ae720b414ca41526baf22bc026\"])\r\n",
    "moldoc = scheme.generate_mol_doc(rdmol)"
   ],
   "outputs": [],
   "metadata": {}
  },
  {
   "cell_type": "code",
   "execution_count": 8,
   "source": [
    "rdmol = Chem.MolFromSmiles('Cc1ccccc1')\r\n",
    "scheme = registration.MolDocScheme()\r\n",
    "scheme.add_value_field('reagent_internal_id', [\"a05785ae720b414ca41526baf22bc026\", \"a05785ae720b414ca41526baf22bc026\"])\r\n",
    "moldoc = scheme.generate_mol_doc(rdmol)\r\n",
    "\r\n",
    "print(moldoc)"
   ],
   "outputs": [
    {
     "output_type": "stream",
     "name": "stdout",
     "text": [
      "{'rdmol': Binary(b'\\xef\\xbe\\xad\\xde\\x00\\x00\\x00\\x00\\r\\x00\\x00\\x00\\x00\\x00\\x00\\x00\\x00\\x00\\x00\\x00\\x07\\x00\\x00\\x00\\x07\\x00\\x00\\x00\\x80\\x01\\x06\\x00`\\x00\\x00\\x00\\x01\\x03\\x06@(\\x00\\x00\\x00\\x03\\x04\\x06@h\\x00\\x00\\x00\\x03\\x03\\x01\\x06@h\\x00\\x00\\x00\\x03\\x03\\x01\\x06@h\\x00\\x00\\x00\\x03\\x03\\x01\\x06@h\\x00\\x00\\x00\\x03\\x03\\x01\\x06@h\\x00\\x00\\x00\\x03\\x03\\x01\\x0b\\x00\\x01\\x00\\x01\\x02h\\x0c\\x02\\x03h\\x0c\\x03\\x04h\\x0c\\x04\\x05h\\x0c\\x05\\x06h\\x0c\\x06\\x01h\\x0c\\x14\\x01\\x06\\x01\\x06\\x05\\x04\\x03\\x02\\x17\\x04\\x00\\x00\\x00\\x00\\x00\\x00\\x00\\x16', 0), 'index': 'YXFVVABEGXRONW-UHFFFAOYSA-N', 'smiles': 'Cc1ccccc1', 'scheme': 'default', 'hashes': {'CanonicalSmiles': 'Cc1ccccc1', 'inchikey_standard': 'YXFVVABEGXRONW-UHFFFAOYSA-N'}, 'fingerprints': {}, 'value_data': {'reagent_internal_id': ['a05785ae720b414ca41526baf22bc026', 'a05785ae720b414ca41526baf22bc026']}}\n"
     ]
    }
   ],
   "metadata": {}
  },
  {
   "cell_type": "code",
   "execution_count": 9,
   "source": [
    "result = write.WriteFromMolList(db_client[MONGO_VENDORBOT_DATABASE].users_collection, [rdmol], scheme=registration.MolDocScheme()) \r\n",
    "\r\n",
    "query = {'index': 'YXFVVABEGXRONW-UHFFFAOYSA-N'}\r\n",
    "if result == 0:\r\n",
    "    insertion_result = db_client[MONGO_VENDORBOT_DATABASE].users_collection.update_one(query, {\"$set\": moldoc}, upsert=True) \r\n",
    "\r\n",
    "print(insertion_result.acknowledged)"
   ],
   "outputs": [
    {
     "output_type": "stream",
     "name": "stdout",
     "text": [
      "populating mongodb collection with compounds from list...\n",
      "2 molecules successfully imported\n",
      "0 duplicates skipped\n"
     ]
    },
    {
     "output_type": "error",
     "ename": "NameError",
     "evalue": "name 'insertion_result' is not defined",
     "traceback": [
      "\u001b[1;31m---------------------------------------------------------------------------\u001b[0m",
      "\u001b[1;31mNameError\u001b[0m                                 Traceback (most recent call last)",
      "Input \u001b[1;32mIn [9]\u001b[0m, in \u001b[0;36m<cell line: 7>\u001b[1;34m()\u001b[0m\n\u001b[0;32m      4\u001b[0m \u001b[38;5;28;01mif\u001b[39;00m result \u001b[38;5;241m==\u001b[39m \u001b[38;5;241m0\u001b[39m:\n\u001b[0;32m      5\u001b[0m     insertion_result \u001b[38;5;241m=\u001b[39m db_client[MONGO_VENDORBOT_DATABASE]\u001b[38;5;241m.\u001b[39musers_collection\u001b[38;5;241m.\u001b[39mupdate_one(query, {\u001b[38;5;124m\"\u001b[39m\u001b[38;5;124m$set\u001b[39m\u001b[38;5;124m\"\u001b[39m: moldoc}, upsert\u001b[38;5;241m=\u001b[39m\u001b[38;5;28;01mTrue\u001b[39;00m) \n\u001b[1;32m----> 7\u001b[0m \u001b[38;5;28mprint\u001b[39m(\u001b[43minsertion_result\u001b[49m\u001b[38;5;241m.\u001b[39macknowledged)\n",
      "\u001b[1;31mNameError\u001b[0m: name 'insertion_result' is not defined"
     ]
    }
   ],
   "metadata": {}
  },
  {
   "cell_type": "code",
   "execution_count": null,
   "source": [],
   "outputs": [],
   "metadata": {}
  },
  {
   "cell_type": "code",
   "execution_count": null,
   "source": [
    "print(response)"
   ],
   "outputs": [
    {
     "output_type": "error",
     "ename": "NameError",
     "evalue": "name 'response' is not defined",
     "traceback": [
      "\u001b[1;31m---------------------------------------------------------------------------\u001b[0m",
      "\u001b[1;31mNameError\u001b[0m                                 Traceback (most recent call last)",
      "Input \u001b[1;32mIn [90]\u001b[0m, in \u001b[0;36m<cell line: 1>\u001b[1;34m()\u001b[0m\n\u001b[1;32m----> 1\u001b[0m \u001b[38;5;28mprint\u001b[39m(\u001b[43mresponse\u001b[49m)\n",
      "\u001b[1;31mNameError\u001b[0m: name 'response' is not defined"
     ]
    }
   ],
   "metadata": {}
  },
  {
   "cell_type": "code",
   "execution_count": 20,
   "source": [
    "from modules.db.unique_molecules import UniqueMolecules\r\n",
    "\r\n",
    "unique_molecules_collection = UniqueMolecules(db_client, MONGO_VENDORBOT_DATABASE)"
   ],
   "outputs": [],
   "metadata": {}
  },
  {
   "cell_type": "code",
   "execution_count": 21,
   "source": [
    "rdmol = Chem.MolFromSmiles('Cc1ccccc1')\r\n",
    "scheme = registration.MolDocScheme()\r\n",
    "scheme.add_value_field('reagent_internal_id', [\"a05785ae\", \"a05785ae72\"])\r\n",
    "moldoc = scheme.generate_mol_doc(rdmol)\r\n",
    "\r\n",
    "print(moldoc)\r\n"
   ],
   "outputs": [
    {
     "output_type": "stream",
     "name": "stdout",
     "text": [
      "{'rdmol': Binary(b'\\xef\\xbe\\xad\\xde\\x00\\x00\\x00\\x00\\r\\x00\\x00\\x00\\x00\\x00\\x00\\x00\\x00\\x00\\x00\\x00\\x07\\x00\\x00\\x00\\x07\\x00\\x00\\x00\\x80\\x01\\x06\\x00`\\x00\\x00\\x00\\x01\\x03\\x06@(\\x00\\x00\\x00\\x03\\x04\\x06@h\\x00\\x00\\x00\\x03\\x03\\x01\\x06@h\\x00\\x00\\x00\\x03\\x03\\x01\\x06@h\\x00\\x00\\x00\\x03\\x03\\x01\\x06@h\\x00\\x00\\x00\\x03\\x03\\x01\\x06@h\\x00\\x00\\x00\\x03\\x03\\x01\\x0b\\x00\\x01\\x00\\x01\\x02h\\x0c\\x02\\x03h\\x0c\\x03\\x04h\\x0c\\x04\\x05h\\x0c\\x05\\x06h\\x0c\\x06\\x01h\\x0c\\x14\\x01\\x06\\x01\\x06\\x05\\x04\\x03\\x02\\x17\\x04\\x00\\x00\\x00\\x00\\x00\\x00\\x00\\x16', 0), 'index': 'YXFVVABEGXRONW-UHFFFAOYSA-N', 'smiles': 'Cc1ccccc1', 'scheme': 'default', 'hashes': {'CanonicalSmiles': 'Cc1ccccc1', 'inchikey_standard': 'YXFVVABEGXRONW-UHFFFAOYSA-N'}, 'fingerprints': {}, 'value_data': {'reagent_internal_id': ['a05785ae', 'a05785ae72']}}\n"
     ]
    }
   ],
   "metadata": {}
  },
  {
   "cell_type": "code",
   "execution_count": 22,
   "source": [
    "unique_molecules_collection.update_molecule('YXFVVABEGXRONW-UHFFFAOYSA-N', moldoc)"
   ],
   "outputs": [],
   "metadata": {}
  },
  {
   "cell_type": "code",
   "execution_count": null,
   "source": [],
   "outputs": [],
   "metadata": {}
  },
  {
   "cell_type": "code",
   "execution_count": 26,
   "source": [
    "SMILES = 'C[C@H](N)CO'\r\n",
    "reagent_internal_id = 'a05785ae720b414ca41526baf22bc026'\r\n",
    "\r\n",
    "def reagent_registration(SMILES, reagent_internal_id):\r\n",
    "\r\n",
    "    molfile = Chem.MolFromSmiles(SMILES)\r\n",
    "    scheme = registration.MolDocScheme()\r\n",
    "    scheme.add_value_field('reagent_internal_id_list', [reagent_internal_id])\r\n",
    "    moldoc = scheme.generate_mol_doc(molfile)\r\n",
    "\r\n",
    "    result = write.WriteFromMolList(db_client[MONGO_VENDORBOT_DATABASE].unique_molecules_collection, [molfile], scheme=scheme) \r\n",
    "\r\n",
    "    query = {'index': moldoc['index']}\r\n",
    "    # print(query)\r\n",
    "    if result == 0:\r\n",
    "\r\n",
    "        reagent_internal_id_list = unique_molecules_collection.get_molecule(moldoc['index'])[\"value_data\"]['reagent_internal_id_list']\r\n",
    "        \r\n",
    "        if reagent_internal_id not in reagent_internal_id_list:\r\n",
    "            reagent_internal_id_list.append(reagent_internal_id)\r\n",
    "\r\n",
    "            scheme.add_value_field('reagent_internal_id_list', reagent_internal_id_list)\r\n",
    "\r\n",
    "            moldoc = scheme.generate_mol_doc(molfile)\r\n",
    "            unique_molecules_collection.update_molecule(moldoc['index'], moldoc)\r\n",
    "\r\n",
    "    # print(insertion_result.acknowledged)\r\n",
    "reagent_registration(SMILES, reagent_internal_id)"
   ],
   "outputs": [
    {
     "output_type": "stream",
     "name": "stdout",
     "text": [
      "populating mongodb collection with compounds from list...\n",
      "0 molecules successfully imported\n",
      "1 duplicates skipped\n"
     ]
    }
   ],
   "metadata": {}
  },
  {
   "cell_type": "code",
   "execution_count": 29,
   "source": [],
   "outputs": [
    {
     "output_type": "stream",
     "name": "stdout",
     "text": [
      "populating mongodb collection with compounds from list...\n",
      "0 molecules successfully imported\n",
      "1 duplicates skipped\n"
     ]
    }
   ],
   "metadata": {}
  },
  {
   "cell_type": "code",
   "execution_count": 100,
   "source": [
    "from rdkit import RDLogger, Chem\r\n",
    "from mongordkit.Database import write\r\n",
    "from mongordkit.Search import similarity, substructure\r\n",
    "\r\n",
    "from rdkit.Chem import PandasTools, SanitizeMol\r\n",
    "# Search.PrepareForSearch(rdkit_db, rdkit_db.molecules, rdkit_db.mfp_counts, rdkit_db.permutations)\r\n",
    "substructure.AddPatternFingerprints(db_client[MONGO_VENDORBOT_DATABASE].unique_molecules_collection)\r\n",
    "similarity.AddMorganFingerprints(db_client[MONGO_VENDORBOT_DATABASE].unique_molecules_collection, db_client[MONGO_VENDORBOT_DATABASE].mfp_counts)\r\n",
    "\r\n",
    "# Generate 100 different permutations of length 2048 and save them in demo_db.permutations as separate documents.\r\n",
    "similarity.AddRandPermutations(db_client[MONGO_VENDORBOT_DATABASE].permutations)\r\n",
    "\r\n",
    "# Add locality-sensitive hash values to each documents in demo_db.molecules by splitting the 100 different permutations\r\n",
    "# in demo_db.permutations into 25 different buckets.\r\n",
    "similarity.AddLocalityHashes(db_client[MONGO_VENDORBOT_DATABASE].unique_molecules_collection, db_client[MONGO_VENDORBOT_DATABASE].permutations, 25)\r\n",
    "\r\n",
    "# Create 25 different collections in db_demo each store a subset of hash values for molecules in demo_db.molecules.\r\n",
    "similarity.AddHashCollections(db_client[MONGO_VENDORBOT_DATABASE], db_client[MONGO_VENDORBOT_DATABASE].unique_molecules_collection)\r\n"
   ],
   "outputs": [],
   "metadata": {}
  },
  {
   "cell_type": "code",
   "execution_count": 101,
   "source": [
    "from operator import itemgetter\r\n",
    "def similarity_search(database, smiles: str):\r\n",
    "    \"\"\"\r\n",
    "    Ищем похожие реагенты умными функциями\r\n",
    "    :param smiles:\r\n",
    "    :return: отсортированный по похожести список реагентов\r\n",
    "    \"\"\"\r\n",
    "    smiles = smiles.replace(\"|\", \"\")  # вертикальная черта в SMILES - непонятно что несёт, и RDKIT ее не понимает, убираем ее\r\n",
    "    mol = Chem.MolFromSmiles(smiles)\r\n",
    "\r\n",
    "    if not mol:\r\n",
    "        raise Exception(\"MolFromSmiles returned None\")\r\n",
    "\r\n",
    "    res = similarity.SimSearchAggregate(mol, database.unique_molecules_collection, database.mfp_counts, 0.1)\r\n",
    "\r\n",
    "    if not res:\r\n",
    "        return\r\n",
    "\r\n",
    "    res = sorted(res, key=itemgetter(0), reverse=True)\r\n",
    "\r\n",
    "    if res[0] is None:\r\n",
    "        raise Exception(f\"incorrect result: {str(res)}\")\r\n",
    "\r\n",
    "    return res"
   ],
   "outputs": [],
   "metadata": {}
  },
  {
   "cell_type": "code",
   "execution_count": 76,
   "source": [
    "best_similarity_result_id = similarity_search(db_client[MONGO_VENDORBOT_DATABASE], SMILES)[0][1]"
   ],
   "outputs": [],
   "metadata": {}
  },
  {
   "cell_type": "code",
   "execution_count": 102,
   "source": [
    "def get_most_similar_reagent(SMILES):\r\n",
    "\r\n",
    "    best_similarity_result_id = similarity_search(db_client[MONGO_VENDORBOT_DATABASE], SMILES)[0][1]\r\n",
    "    reagent_internal_id_list = unique_molecules_collection.get_molecule(best_similarity_result_id)[\"value_data\"]['reagent_internal_id_list']\r\n",
    "\r\n",
    "    return reagent_internal_id_list"
   ],
   "outputs": [],
   "metadata": {}
  },
  {
   "cell_type": "code",
   "execution_count": 106,
   "source": [
    "SMILES = 'CCN=C=NCCCN(C)C'\r\n",
    "get_most_similar_reagent(SMILES)"
   ],
   "outputs": [
    {
     "output_type": "execute_result",
     "data": {
      "text/plain": [
       "['8dd677dce68a4b65a164f4d6e882e038']"
      ]
     },
     "metadata": {},
     "execution_count": 106
    }
   ],
   "metadata": {}
  },
  {
   "cell_type": "code",
   "execution_count": 99,
   "source": [
    "reagent_list = users_collection.get_reagents(122267418)\r\n",
    "\r\n",
    "for reagent in reagent_list:\r\n",
    "    SMILES = reagent['SMILES']\r\n",
    "    reagent_internal_id = reagent['reagent_internal_id']\r\n",
    "    reagent_registration(SMILES, reagent_internal_id)"
   ],
   "outputs": [
    {
     "output_type": "stream",
     "name": "stdout",
     "text": [
      "populating mongodb collection with compounds from list...\n",
      "2 molecules successfully imported\n",
      "0 duplicates skipped\n",
      "populating mongodb collection with compounds from list...\n",
      "2 molecules successfully imported\n",
      "0 duplicates skipped\n",
      "populating mongodb collection with compounds from list...\n",
      "2 molecules successfully imported\n",
      "0 duplicates skipped\n",
      "populating mongodb collection with compounds from list...\n",
      "2 molecules successfully imported\n",
      "0 duplicates skipped\n",
      "populating mongodb collection with compounds from list...\n",
      "2 molecules successfully imported\n",
      "0 duplicates skipped\n",
      "populating mongodb collection with compounds from list...\n",
      "2 molecules successfully imported\n",
      "0 duplicates skipped\n",
      "populating mongodb collection with compounds from list...\n",
      "2 molecules successfully imported\n",
      "0 duplicates skipped\n",
      "populating mongodb collection with compounds from list...\n",
      "2 molecules successfully imported\n",
      "0 duplicates skipped\n",
      "populating mongodb collection with compounds from list...\n",
      "2 molecules successfully imported\n",
      "0 duplicates skipped\n",
      "populating mongodb collection with compounds from list...\n",
      "2 molecules successfully imported\n",
      "0 duplicates skipped\n",
      "populating mongodb collection with compounds from list...\n",
      "2 molecules successfully imported\n",
      "0 duplicates skipped\n",
      "populating mongodb collection with compounds from list...\n",
      "2 molecules successfully imported\n",
      "0 duplicates skipped\n",
      "populating mongodb collection with compounds from list...\n",
      "2 molecules successfully imported\n",
      "0 duplicates skipped\n",
      "populating mongodb collection with compounds from list...\n",
      "2 molecules successfully imported\n",
      "0 duplicates skipped\n",
      "populating mongodb collection with compounds from list...\n",
      "2 molecules successfully imported\n",
      "0 duplicates skipped\n",
      "populating mongodb collection with compounds from list...\n",
      "2 molecules successfully imported\n",
      "0 duplicates skipped\n",
      "populating mongodb collection with compounds from list...\n",
      "2 molecules successfully imported\n",
      "0 duplicates skipped\n",
      "populating mongodb collection with compounds from list...\n",
      "2 molecules successfully imported\n",
      "0 duplicates skipped\n",
      "populating mongodb collection with compounds from list...\n",
      "2 molecules successfully imported\n",
      "0 duplicates skipped\n",
      "populating mongodb collection with compounds from list...\n",
      "2 molecules successfully imported\n",
      "0 duplicates skipped\n"
     ]
    }
   ],
   "metadata": {}
  },
  {
   "cell_type": "code",
   "execution_count": 3,
   "source": [
    "import rdkit\r\n",
    "from rdkit import Chem\r\n",
    "from rdkit.Chem import PandasTools\r\n",
    "from rdkit.Chem import rdmolfiles, AllChem\r\n",
    "from rdkit.Chem import rdDepictor\r\n",
    "from rdkit.Chem.Draw import rdMolDraw2D\r\n",
    "from IPython.display import SVG\r\n",
    "# for similarity search need mongo-rdkit\r\n",
    "# from mongordkit.Search import similarity, substructure, utils\r\n",
    "# from mongordkit import Search\r\n",
    "# from mongordkit.Database import create, write\r\n",
    "\r\n",
    "\r\n",
    "def update_rdkit_with_sialdrich (client, db_instance):\r\n",
    "    # Disable rdkit warnings\r\n",
    "    rdkit.RDLogger.DisableLog('rdApp.*')\r\n",
    "\r\n",
    "    db_name = db_instance.DATABASE_NAME\r\n",
    "    molecules_collection = client[db_name][\"molecules\"]\r\n"
   ],
   "outputs": [],
   "metadata": {}
  },
  {
   "cell_type": "code",
   "execution_count": 6,
   "source": [
    "db_name = db_instance.DATABASE_NAME"
   ],
   "outputs": [
    {
     "output_type": "error",
     "ename": "NameError",
     "evalue": "name 'db_instance' is not defined",
     "traceback": [
      "\u001b[1;31m---------------------------------------------------------------------------\u001b[0m",
      "\u001b[1;31mNameError\u001b[0m                                 Traceback (most recent call last)",
      "Input \u001b[1;32mIn [6]\u001b[0m, in \u001b[0;36m<cell line: 1>\u001b[1;34m()\u001b[0m\n\u001b[1;32m----> 1\u001b[0m db_name \u001b[38;5;241m=\u001b[39m \u001b[43mdb_instance\u001b[49m\u001b[38;5;241m.\u001b[39mDATABASE_NAME\n",
      "\u001b[1;31mNameError\u001b[0m: name 'db_instance' is not defined"
     ]
    }
   ],
   "metadata": {}
  },
  {
   "cell_type": "code",
   "execution_count": 12,
   "source": [
    "db_name"
   ],
   "outputs": [
    {
     "output_type": "execute_result",
     "data": {
      "text/plain": [
       "'timerbot_db'"
      ]
     },
     "metadata": {},
     "execution_count": 12
    }
   ],
   "metadata": {}
  },
  {
   "cell_type": "code",
   "execution_count": 5,
   "source": [
    "client[db_name].molecules"
   ],
   "outputs": [
    {
     "output_type": "error",
     "ename": "NameError",
     "evalue": "name 'client' is not defined",
     "traceback": [
      "\u001b[1;31m---------------------------------------------------------------------------\u001b[0m",
      "\u001b[1;31mNameError\u001b[0m                                 Traceback (most recent call last)",
      "Input \u001b[1;32mIn [5]\u001b[0m, in \u001b[0;36m<cell line: 1>\u001b[1;34m()\u001b[0m\n\u001b[1;32m----> 1\u001b[0m \u001b[43mclient\u001b[49m[db_name]\u001b[38;5;241m.\u001b[39mmolecules\n",
      "\u001b[1;31mNameError\u001b[0m: name 'client' is not defined"
     ]
    }
   ],
   "metadata": {}
  },
  {
   "cell_type": "code",
   "execution_count": 19,
   "source": [
    "client.drop_database(\"timerbot_db\")"
   ],
   "outputs": [],
   "metadata": {}
  },
  {
   "cell_type": "code",
   "execution_count": null,
   "source": [],
   "outputs": [],
   "metadata": {}
  }
 ],
 "metadata": {
  "interpreter": {
   "hash": "ef85096f8413d07a7235613aaafb63e04025c8beca42ae3ef04cb1a8fb34d192"
  },
  "kernelspec": {
   "name": "python3",
   "display_name": "Python 3.8.0 64-bit ('vendorbot_env': conda)"
  },
  "language_info": {
   "codemirror_mode": {
    "name": "ipython",
    "version": 3
   },
   "file_extension": ".py",
   "mimetype": "text/x-python",
   "name": "python",
   "nbconvert_exporter": "python",
   "pygments_lexer": "ipython3",
   "version": "3.8.0"
  }
 },
 "nbformat": 4,
 "nbformat_minor": 4
}