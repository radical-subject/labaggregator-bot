{
 "cells": [
  {
   "cell_type": "code",
   "execution_count": 9,
   "source": [
    "import sys,os\r\n",
    "sys.path.append(\"..\")\r\n",
    "\r\n",
    "MONGO_URL=\"localhost:27017\"\r\n",
    "os.environ[\"MONGO_URL\"] = MONGO_URL\r\n",
    "\r\n",
    "MONGO_INITDB_ROOT_USERNAME=\"root\" # \r\n",
    "os.environ[\"MONGO_INITDB_ROOT_USERNAME\"] = MONGO_INITDB_ROOT_USERNAME\r\n",
    "\r\n",
    "MONGO_INITDB_ROOT_PASSWORD=\"dr5[gnhn\" # \r\n",
    "os.environ[\"MONGO_INITDB_ROOT_PASSWORD\"] = MONGO_INITDB_ROOT_PASSWORD\r\n",
    "\r\n",
    "DATABASE_NAME = \"admin\"\r\n",
    "os.environ[\"MONGO_INITDB_DATABASE\"] = DATABASE_NAME\r\n",
    "\r\n",
    "MONGO_BOT_USERNAME=\"bot\"\r\n",
    "os.environ[\"MONGO_BOT_USERNAME\"] = MONGO_BOT_USERNAME\r\n",
    "\r\n",
    "MONGO_BOT_PASSWORD=\"botpsswd\"\r\n",
    "os.environ[\"MONGO_BOT_PASSWORD\"] = MONGO_BOT_PASSWORD\r\n",
    "\r\n",
    "# timerbot_credentials = dict(\r\n",
    "#     DATABASE_NAME = \"timerbot_db\",\r\n",
    "#     DATABASE_HOST = MONGO_URL,\r\n",
    "#     DATABASE_ADMIN_USERNAME = MONGO_BOT_USERNAME,\r\n",
    "#     DATABASE_ADMIN_PASSWORD = MONGO_BOT_PASSWORD\r\n",
    "# )\r\n",
    "\r\n",
    "# root_credentials = dict(\r\n",
    "#     DATABASE_NAME = \"timerbot_db\",\r\n",
    "#     DATABASE_HOST = MONGO_URL,\r\n",
    "#     DATABASE_ADMIN_USERNAME = MONGO_INITDB_ROOT_USERNAME,\r\n",
    "#     DATABASE_ADMIN_PASSWORD = MONGO_INITDB_ROOT_PASSWORD\r\n",
    "# )\r\n",
    "\r\n",
    "# database credentials extractor import\r\n",
    "from modules.db.dbconfig import root_credentials, timerbot_credentials\r\n",
    "from modules.db.mongodb import MongoDriver\r\n",
    "\r\n",
    "db_instances = dict(root=MongoDriver(root_credentials), timerbot_db=MongoDriver(timerbot_credentials))\r\n",
    "print(db_instances)\r\n",
    "print(root_credentials)\r\n",
    "print(timerbot_credentials)\r\n",
    "\r\n",
    "client = MongoDriver(root_credentials).client\r\n",
    "db_instance = MongoDriver(root_credentials)\r\n",
    "collection_name = \"timer_data_collection\"\r\n",
    "user_id = 122267418\r\n",
    "query = {\"user_id\": user_id}\r\n",
    "\r\n",
    "print(client)\r\n",
    "client.list_database_names()"
   ],
   "outputs": [
    {
     "output_type": "stream",
     "name": "stdout",
     "text": [
      "{'root': <modules.db.mongodb.MongoDriver object at 0x0000027355D348E0>, 'timerbot_db': <modules.db.mongodb.MongoDriver object at 0x0000027355D34A30>}\n",
      "{'DATABASE_NAME': 'timerbot_db', 'DATABASE_HOST': 'localhost:27017', 'DATABASE_ADMIN_USERNAME': 'root', 'DATABASE_ADMIN_PASSWORD': 'dr5[gnhn'}\n",
      "{'DATABASE_NAME': 'timerbot_db', 'DATABASE_HOST': 'localhost:27017', 'DATABASE_ADMIN_USERNAME': 'bot', 'DATABASE_ADMIN_PASSWORD': 'botpsswd'}\n",
      "MongoClient(host=['localhost:27017'], document_class=dict, tz_aware=False, connect=True, authsource='admin')\n"
     ]
    },
    {
     "output_type": "execute_result",
     "data": {
      "text/plain": [
       "['admin', 'config', 'local', 'test_db', 'timerbot_db']"
      ]
     },
     "metadata": {},
     "execution_count": 9
    }
   ],
   "metadata": {}
  },
  {
   "cell_type": "code",
   "execution_count": 7,
   "source": [
    "from modules.db.dbmodel import get_records, get_timerdata_object, purge, add_records\r\n",
    "data = {'_id': 122267418, 'user_id': 122267418, 'username': '@radical_subject', 'firstname': 'Oleg', 'lastname': 'Fedorov'}\r\n",
    "# collection_name = \"users_collection\""
   ],
   "outputs": [
    {
     "output_type": "error",
     "ename": "ImportError",
     "evalue": "cannot import name 'similarity' from 'mongordkit.Search' (unknown location)",
     "traceback": [
      "\u001b[1;31m---------------------------------------------------------------------------\u001b[0m",
      "\u001b[1;31mImportError\u001b[0m                               Traceback (most recent call last)",
      "Input \u001b[1;32mIn [7]\u001b[0m, in \u001b[0;36m<cell line: 1>\u001b[1;34m()\u001b[0m\n\u001b[1;32m----> 1\u001b[0m \u001b[38;5;28;01mfrom\u001b[39;00m \u001b[38;5;21;01mmodules\u001b[39;00m\u001b[38;5;21;01m.\u001b[39;00m\u001b[38;5;21;01mdb\u001b[39;00m\u001b[38;5;21;01m.\u001b[39;00m\u001b[38;5;21;01mdbmodel\u001b[39;00m \u001b[38;5;28;01mimport\u001b[39;00m get_records, get_timerdata_object, purge, add_records\n\u001b[0;32m      2\u001b[0m data \u001b[38;5;241m=\u001b[39m {\u001b[38;5;124m'\u001b[39m\u001b[38;5;124m_id\u001b[39m\u001b[38;5;124m'\u001b[39m: \u001b[38;5;241m122267418\u001b[39m, \u001b[38;5;124m'\u001b[39m\u001b[38;5;124muser_id\u001b[39m\u001b[38;5;124m'\u001b[39m: \u001b[38;5;241m122267418\u001b[39m, \u001b[38;5;124m'\u001b[39m\u001b[38;5;124musername\u001b[39m\u001b[38;5;124m'\u001b[39m: \u001b[38;5;124m'\u001b[39m\u001b[38;5;124m@radical_subject\u001b[39m\u001b[38;5;124m'\u001b[39m, \u001b[38;5;124m'\u001b[39m\u001b[38;5;124mfirstname\u001b[39m\u001b[38;5;124m'\u001b[39m: \u001b[38;5;124m'\u001b[39m\u001b[38;5;124mOleg\u001b[39m\u001b[38;5;124m'\u001b[39m, \u001b[38;5;124m'\u001b[39m\u001b[38;5;124mlastname\u001b[39m\u001b[38;5;124m'\u001b[39m: \u001b[38;5;124m'\u001b[39m\u001b[38;5;124mFedorov\u001b[39m\u001b[38;5;124m'\u001b[39m}\n",
      "File \u001b[1;32mc:\\FILES\\github\\labaggregator2022\\vendorbot_folder\\modules\\db\\dbmodel.py:78\u001b[0m, in \u001b[0;36m<module>\u001b[1;34m\u001b[0m\n\u001b[0;32m     76\u001b[0m \u001b[38;5;28;01mfrom\u001b[39;00m \u001b[38;5;21;01mIPython\u001b[39;00m\u001b[38;5;21;01m.\u001b[39;00m\u001b[38;5;21;01mdisplay\u001b[39;00m \u001b[38;5;28;01mimport\u001b[39;00m SVG\n\u001b[0;32m     77\u001b[0m \u001b[38;5;66;03m# for similarity search need mongo-rdkit\u001b[39;00m\n\u001b[1;32m---> 78\u001b[0m \u001b[38;5;28;01mfrom\u001b[39;00m \u001b[38;5;21;01mmongordkit\u001b[39;00m\u001b[38;5;21;01m.\u001b[39;00m\u001b[38;5;21;01mSearch\u001b[39;00m \u001b[38;5;28;01mimport\u001b[39;00m similarity, substructure, utils\n\u001b[0;32m     79\u001b[0m \u001b[38;5;28;01mfrom\u001b[39;00m \u001b[38;5;21;01mmongordkit\u001b[39;00m \u001b[38;5;28;01mimport\u001b[39;00m Search\n\u001b[0;32m     80\u001b[0m \u001b[38;5;28;01mfrom\u001b[39;00m \u001b[38;5;21;01mmongordkit\u001b[39;00m\u001b[38;5;21;01m.\u001b[39;00m\u001b[38;5;21;01mDatabase\u001b[39;00m \u001b[38;5;28;01mimport\u001b[39;00m create, write\n",
      "\u001b[1;31mImportError\u001b[0m: cannot import name 'similarity' from 'mongordkit.Search' (unknown location)"
     ]
    }
   ],
   "metadata": {}
  },
  {
   "cell_type": "code",
   "execution_count": 48,
   "source": [
    "# get_timerdata_object(client, db_instance, collection_name, query, user_id).export()"
   ],
   "outputs": [
    {
     "output_type": "error",
     "ename": "NameError",
     "evalue": "name 'client' is not defined",
     "traceback": [
      "\u001B[1;31m---------------------------------------------------------------------------\u001B[0m",
      "\u001B[1;31mNameError\u001B[0m                                 Traceback (most recent call last)",
      "\u001B[1;32m<ipython-input-48-7555222d4045>\u001B[0m in \u001B[0;36m<module>\u001B[1;34m\u001B[0m\n\u001B[1;32m----> 1\u001B[1;33m \u001B[0mget_timerdata_object\u001B[0m\u001B[1;33m(\u001B[0m\u001B[0mclient\u001B[0m\u001B[1;33m,\u001B[0m \u001B[0mdb_instance\u001B[0m\u001B[1;33m,\u001B[0m \u001B[0mcollection_name\u001B[0m\u001B[1;33m,\u001B[0m \u001B[0mquery\u001B[0m\u001B[1;33m,\u001B[0m \u001B[0muser_id\u001B[0m\u001B[1;33m)\u001B[0m\u001B[1;33m.\u001B[0m\u001B[0mexport\u001B[0m\u001B[1;33m(\u001B[0m\u001B[1;33m)\u001B[0m\u001B[1;33m\u001B[0m\u001B[1;33m\u001B[0m\u001B[0m\n\u001B[0m",
      "\u001B[1;31mNameError\u001B[0m: name 'client' is not defined"
     ]
    }
   ],
   "metadata": {}
  },
  {
   "cell_type": "code",
   "execution_count": 15,
   "source": [
    "# get_records(client, db_instance, collection_name, query, user_id)\r\n",
    "# purge(client, db_instance)\r\n",
    "# add_records(client, db_instance, collection_name, data)"
   ],
   "outputs": [],
   "metadata": {}
  },
  {
   "cell_type": "code",
   "execution_count": 16,
   "source": [
    "# collection = client[\"bot_db\"][\"users_collection\"]\r\n",
    "\r\n",
    "# data = {'_id': 122267418, 'user_id': 122267418, 'username': '@radical_subject', 'firstname': 'Oleg', 'lastname': 'Fedorov'}"
   ],
   "outputs": [],
   "metadata": {}
  },
  {
   "cell_type": "code",
   "execution_count": 27,
   "source": [
    "# print(collection.insert_one(data))"
   ],
   "outputs": [],
   "metadata": {}
  },
  {
   "cell_type": "code",
   "execution_count": null,
   "source": [],
   "outputs": [],
   "metadata": {}
  },
  {
   "cell_type": "code",
   "execution_count": 49,
   "source": [
    "# conda list"
   ],
   "outputs": [],
   "metadata": {}
  },
  {
   "cell_type": "code",
   "execution_count": 50,
   "source": [
    "# db_instances = dict(root=MongoDriver(root_credentials), timerbot_db=MongoDriver(timerbot_credentials))\r\n",
    "from modules.ourbot.handlers.initial import Inital\r\n",
    "from modules.db.dbmodel import get_records, get_timerdata_object, purge, add_records"
   ],
   "outputs": [],
   "metadata": {}
  },
  {
   "cell_type": "code",
   "execution_count": 51,
   "source": [
    "initial = Inital(db_instances)"
   ],
   "outputs": [],
   "metadata": {}
  },
  {
   "cell_type": "code",
   "execution_count": 52,
   "source": [
    "initial.timerbot_db_client"
   ],
   "outputs": [
    {
     "output_type": "execute_result",
     "data": {
      "text/plain": [
       "MongoClient(host=['localhost:27017'], document_class=dict, tz_aware=False, connect=True)"
      ]
     },
     "metadata": {},
     "execution_count": 52
    }
   ],
   "metadata": {}
  },
  {
   "cell_type": "code",
   "execution_count": 53,
   "source": [
    "add_records(initial.timerbot_db_client, initial.db_instances[\"timerbot_db\"], initial.collection, data)"
   ],
   "outputs": [
    {
     "output_type": "error",
     "ename": "ServerSelectionTimeoutError",
     "evalue": "localhost:27017: [WinError 10061] Подключение не установлено, т.к. конечный компьютер отверг запрос на подключение, Timeout: 30s, Topology Description: <TopologyDescription id: 623af54055d7015da9bf5d97, topology_type: Single, servers: [<ServerDescription ('localhost', 27017) server_type: Unknown, rtt: None, error=AutoReconnect('localhost:27017: [WinError 10061] Подключение не установлено, т.к. конечный компьютер отверг запрос на подключение')>]>",
     "traceback": [
      "\u001B[1;31m---------------------------------------------------------------------------\u001B[0m",
      "\u001B[1;31mServerSelectionTimeoutError\u001B[0m               Traceback (most recent call last)",
      "\u001B[1;32m<ipython-input-53-c39a8fb45d3d>\u001B[0m in \u001B[0;36m<module>\u001B[1;34m\u001B[0m\n\u001B[1;32m----> 1\u001B[1;33m \u001B[0madd_records\u001B[0m\u001B[1;33m(\u001B[0m\u001B[0minitial\u001B[0m\u001B[1;33m.\u001B[0m\u001B[0mtimerbot_db_client\u001B[0m\u001B[1;33m,\u001B[0m \u001B[0minitial\u001B[0m\u001B[1;33m.\u001B[0m\u001B[0mdb_instances\u001B[0m\u001B[1;33m[\u001B[0m\u001B[1;34m\"timerbot_db\"\u001B[0m\u001B[1;33m]\u001B[0m\u001B[1;33m,\u001B[0m \u001B[0minitial\u001B[0m\u001B[1;33m.\u001B[0m\u001B[0mcollection\u001B[0m\u001B[1;33m,\u001B[0m \u001B[0mdata\u001B[0m\u001B[1;33m)\u001B[0m\u001B[1;33m\u001B[0m\u001B[1;33m\u001B[0m\u001B[0m\n\u001B[0m",
      "\u001B[1;32mC:\\FILES\\github\\labaggregator2022\\vendorbot_folder\\modules\\db\\dbmodel.py\u001B[0m in \u001B[0;36madd_records\u001B[1;34m(client, db_instance, collection_name, data)\u001B[0m\n\u001B[0;32m     17\u001B[0m     \u001B[1;31m# logger.info(f\"{client}, {db_instance}, {collection_name}, {data}\")\u001B[0m\u001B[1;33m\u001B[0m\u001B[1;33m\u001B[0m\u001B[1;33m\u001B[0m\u001B[0m\n\u001B[0;32m     18\u001B[0m     \u001B[0mcollection\u001B[0m \u001B[1;33m=\u001B[0m \u001B[0mclient\u001B[0m\u001B[1;33m[\u001B[0m\u001B[0mdb_name\u001B[0m\u001B[1;33m]\u001B[0m\u001B[1;33m[\u001B[0m\u001B[0mcollection_name\u001B[0m\u001B[1;33m]\u001B[0m\u001B[1;33m\u001B[0m\u001B[1;33m\u001B[0m\u001B[0m\n\u001B[1;32m---> 19\u001B[1;33m     \u001B[0mresult\u001B[0m \u001B[1;33m=\u001B[0m \u001B[0mcollection\u001B[0m\u001B[1;33m.\u001B[0m\u001B[0minsert_one\u001B[0m\u001B[1;33m(\u001B[0m\u001B[0mdata\u001B[0m\u001B[1;33m)\u001B[0m\u001B[1;33m\u001B[0m\u001B[1;33m\u001B[0m\u001B[0m\n\u001B[0m\u001B[0;32m     20\u001B[0m     \u001B[0mlogger\u001B[0m\u001B[1;33m.\u001B[0m\u001B[0minfo\u001B[0m\u001B[1;33m(\u001B[0m\u001B[1;34mf\"data inserted into {db_name}, {collection_name}\"\u001B[0m\u001B[1;33m)\u001B[0m\u001B[1;33m\u001B[0m\u001B[1;33m\u001B[0m\u001B[0m\n\u001B[0;32m     21\u001B[0m     \u001B[1;32mreturn\u001B[0m \u001B[0mresult\u001B[0m\u001B[1;33m\u001B[0m\u001B[1;33m\u001B[0m\u001B[0m\n",
      "\u001B[1;32m~\\anaconda3\\lib\\site-packages\\pymongo\\collection.py\u001B[0m in \u001B[0;36minsert_one\u001B[1;34m(self, document, bypass_document_validation, session)\u001B[0m\n\u001B[0;32m    696\u001B[0m         \u001B[0mwrite_concern\u001B[0m \u001B[1;33m=\u001B[0m \u001B[0mself\u001B[0m\u001B[1;33m.\u001B[0m\u001B[0m_write_concern_for\u001B[0m\u001B[1;33m(\u001B[0m\u001B[0msession\u001B[0m\u001B[1;33m)\u001B[0m\u001B[1;33m\u001B[0m\u001B[1;33m\u001B[0m\u001B[0m\n\u001B[0;32m    697\u001B[0m         return InsertOneResult(\n\u001B[1;32m--> 698\u001B[1;33m             self._insert(document,\n\u001B[0m\u001B[0;32m    699\u001B[0m                          \u001B[0mwrite_concern\u001B[0m\u001B[1;33m=\u001B[0m\u001B[0mwrite_concern\u001B[0m\u001B[1;33m,\u001B[0m\u001B[1;33m\u001B[0m\u001B[1;33m\u001B[0m\u001B[0m\n\u001B[0;32m    700\u001B[0m                          \u001B[0mbypass_doc_val\u001B[0m\u001B[1;33m=\u001B[0m\u001B[0mbypass_document_validation\u001B[0m\u001B[1;33m,\u001B[0m\u001B[1;33m\u001B[0m\u001B[1;33m\u001B[0m\u001B[0m\n",
      "\u001B[1;32m~\\anaconda3\\lib\\site-packages\\pymongo\\collection.py\u001B[0m in \u001B[0;36m_insert\u001B[1;34m(self, docs, ordered, check_keys, manipulate, write_concern, op_id, bypass_doc_val, session)\u001B[0m\n\u001B[0;32m    611\u001B[0m         \u001B[1;34m\"\"\"Internal insert helper.\"\"\"\u001B[0m\u001B[1;33m\u001B[0m\u001B[1;33m\u001B[0m\u001B[0m\n\u001B[0;32m    612\u001B[0m         \u001B[1;32mif\u001B[0m \u001B[0misinstance\u001B[0m\u001B[1;33m(\u001B[0m\u001B[0mdocs\u001B[0m\u001B[1;33m,\u001B[0m \u001B[0mabc\u001B[0m\u001B[1;33m.\u001B[0m\u001B[0mMapping\u001B[0m\u001B[1;33m)\u001B[0m\u001B[1;33m:\u001B[0m\u001B[1;33m\u001B[0m\u001B[1;33m\u001B[0m\u001B[0m\n\u001B[1;32m--> 613\u001B[1;33m             return self._insert_one(\n\u001B[0m\u001B[0;32m    614\u001B[0m                 \u001B[0mdocs\u001B[0m\u001B[1;33m,\u001B[0m \u001B[0mordered\u001B[0m\u001B[1;33m,\u001B[0m \u001B[0mcheck_keys\u001B[0m\u001B[1;33m,\u001B[0m \u001B[0mmanipulate\u001B[0m\u001B[1;33m,\u001B[0m \u001B[0mwrite_concern\u001B[0m\u001B[1;33m,\u001B[0m \u001B[0mop_id\u001B[0m\u001B[1;33m,\u001B[0m\u001B[1;33m\u001B[0m\u001B[1;33m\u001B[0m\u001B[0m\n\u001B[0;32m    615\u001B[0m                 bypass_doc_val, session)\n",
      "\u001B[1;32m~\\anaconda3\\lib\\site-packages\\pymongo\\collection.py\u001B[0m in \u001B[0;36m_insert_one\u001B[1;34m(self, doc, ordered, check_keys, manipulate, write_concern, op_id, bypass_doc_val, session)\u001B[0m\n\u001B[0;32m    600\u001B[0m             \u001B[0m_check_write_command_response\u001B[0m\u001B[1;33m(\u001B[0m\u001B[0mresult\u001B[0m\u001B[1;33m)\u001B[0m\u001B[1;33m\u001B[0m\u001B[1;33m\u001B[0m\u001B[0m\n\u001B[0;32m    601\u001B[0m \u001B[1;33m\u001B[0m\u001B[0m\n\u001B[1;32m--> 602\u001B[1;33m         self.__database.client._retryable_write(\n\u001B[0m\u001B[0;32m    603\u001B[0m             acknowledged, _insert_command, session)\n\u001B[0;32m    604\u001B[0m \u001B[1;33m\u001B[0m\u001B[0m\n",
      "\u001B[1;32m~\\anaconda3\\lib\\site-packages\\pymongo\\mongo_client.py\u001B[0m in \u001B[0;36m_retryable_write\u001B[1;34m(self, retryable, func, session)\u001B[0m\n\u001B[0;32m   1495\u001B[0m     \u001B[1;32mdef\u001B[0m \u001B[0m_retryable_write\u001B[0m\u001B[1;33m(\u001B[0m\u001B[0mself\u001B[0m\u001B[1;33m,\u001B[0m \u001B[0mretryable\u001B[0m\u001B[1;33m,\u001B[0m \u001B[0mfunc\u001B[0m\u001B[1;33m,\u001B[0m \u001B[0msession\u001B[0m\u001B[1;33m)\u001B[0m\u001B[1;33m:\u001B[0m\u001B[1;33m\u001B[0m\u001B[1;33m\u001B[0m\u001B[0m\n\u001B[0;32m   1496\u001B[0m         \u001B[1;34m\"\"\"Internal retryable write helper.\"\"\"\u001B[0m\u001B[1;33m\u001B[0m\u001B[1;33m\u001B[0m\u001B[0m\n\u001B[1;32m-> 1497\u001B[1;33m         \u001B[1;32mwith\u001B[0m \u001B[0mself\u001B[0m\u001B[1;33m.\u001B[0m\u001B[0m_tmp_session\u001B[0m\u001B[1;33m(\u001B[0m\u001B[0msession\u001B[0m\u001B[1;33m)\u001B[0m \u001B[1;32mas\u001B[0m \u001B[0ms\u001B[0m\u001B[1;33m:\u001B[0m\u001B[1;33m\u001B[0m\u001B[1;33m\u001B[0m\u001B[0m\n\u001B[0m\u001B[0;32m   1498\u001B[0m             \u001B[1;32mreturn\u001B[0m \u001B[0mself\u001B[0m\u001B[1;33m.\u001B[0m\u001B[0m_retry_with_session\u001B[0m\u001B[1;33m(\u001B[0m\u001B[0mretryable\u001B[0m\u001B[1;33m,\u001B[0m \u001B[0mfunc\u001B[0m\u001B[1;33m,\u001B[0m \u001B[0ms\u001B[0m\u001B[1;33m,\u001B[0m \u001B[1;32mNone\u001B[0m\u001B[1;33m)\u001B[0m\u001B[1;33m\u001B[0m\u001B[1;33m\u001B[0m\u001B[0m\n\u001B[0;32m   1499\u001B[0m \u001B[1;33m\u001B[0m\u001B[0m\n",
      "\u001B[1;32m~\\anaconda3\\lib\\contextlib.py\u001B[0m in \u001B[0;36m__enter__\u001B[1;34m(self)\u001B[0m\n\u001B[0;32m    111\u001B[0m         \u001B[1;32mdel\u001B[0m \u001B[0mself\u001B[0m\u001B[1;33m.\u001B[0m\u001B[0margs\u001B[0m\u001B[1;33m,\u001B[0m \u001B[0mself\u001B[0m\u001B[1;33m.\u001B[0m\u001B[0mkwds\u001B[0m\u001B[1;33m,\u001B[0m \u001B[0mself\u001B[0m\u001B[1;33m.\u001B[0m\u001B[0mfunc\u001B[0m\u001B[1;33m\u001B[0m\u001B[1;33m\u001B[0m\u001B[0m\n\u001B[0;32m    112\u001B[0m         \u001B[1;32mtry\u001B[0m\u001B[1;33m:\u001B[0m\u001B[1;33m\u001B[0m\u001B[1;33m\u001B[0m\u001B[0m\n\u001B[1;32m--> 113\u001B[1;33m             \u001B[1;32mreturn\u001B[0m \u001B[0mnext\u001B[0m\u001B[1;33m(\u001B[0m\u001B[0mself\u001B[0m\u001B[1;33m.\u001B[0m\u001B[0mgen\u001B[0m\u001B[1;33m)\u001B[0m\u001B[1;33m\u001B[0m\u001B[1;33m\u001B[0m\u001B[0m\n\u001B[0m\u001B[0;32m    114\u001B[0m         \u001B[1;32mexcept\u001B[0m \u001B[0mStopIteration\u001B[0m\u001B[1;33m:\u001B[0m\u001B[1;33m\u001B[0m\u001B[1;33m\u001B[0m\u001B[0m\n\u001B[0;32m    115\u001B[0m             \u001B[1;32mraise\u001B[0m \u001B[0mRuntimeError\u001B[0m\u001B[1;33m(\u001B[0m\u001B[1;34m\"generator didn't yield\"\u001B[0m\u001B[1;33m)\u001B[0m \u001B[1;32mfrom\u001B[0m \u001B[1;32mNone\u001B[0m\u001B[1;33m\u001B[0m\u001B[1;33m\u001B[0m\u001B[0m\n",
      "\u001B[1;32m~\\anaconda3\\lib\\site-packages\\pymongo\\mongo_client.py\u001B[0m in \u001B[0;36m_tmp_session\u001B[1;34m(self, session, close)\u001B[0m\n\u001B[0;32m   1827\u001B[0m             \u001B[1;32mreturn\u001B[0m\u001B[1;33m\u001B[0m\u001B[1;33m\u001B[0m\u001B[0m\n\u001B[0;32m   1828\u001B[0m \u001B[1;33m\u001B[0m\u001B[0m\n\u001B[1;32m-> 1829\u001B[1;33m         \u001B[0ms\u001B[0m \u001B[1;33m=\u001B[0m \u001B[0mself\u001B[0m\u001B[1;33m.\u001B[0m\u001B[0m_ensure_session\u001B[0m\u001B[1;33m(\u001B[0m\u001B[0msession\u001B[0m\u001B[1;33m)\u001B[0m\u001B[1;33m\u001B[0m\u001B[1;33m\u001B[0m\u001B[0m\n\u001B[0m\u001B[0;32m   1830\u001B[0m         \u001B[1;32mif\u001B[0m \u001B[0ms\u001B[0m\u001B[1;33m:\u001B[0m\u001B[1;33m\u001B[0m\u001B[1;33m\u001B[0m\u001B[0m\n\u001B[0;32m   1831\u001B[0m             \u001B[1;32mtry\u001B[0m\u001B[1;33m:\u001B[0m\u001B[1;33m\u001B[0m\u001B[1;33m\u001B[0m\u001B[0m\n",
      "\u001B[1;32m~\\anaconda3\\lib\\site-packages\\pymongo\\mongo_client.py\u001B[0m in \u001B[0;36m_ensure_session\u001B[1;34m(self, session)\u001B[0m\n\u001B[0;32m   1814\u001B[0m             \u001B[1;31m# Don't make implicit sessions causally consistent. Applications\u001B[0m\u001B[1;33m\u001B[0m\u001B[1;33m\u001B[0m\u001B[1;33m\u001B[0m\u001B[0m\n\u001B[0;32m   1815\u001B[0m             \u001B[1;31m# should always opt-in.\u001B[0m\u001B[1;33m\u001B[0m\u001B[1;33m\u001B[0m\u001B[1;33m\u001B[0m\u001B[0m\n\u001B[1;32m-> 1816\u001B[1;33m             \u001B[1;32mreturn\u001B[0m \u001B[0mself\u001B[0m\u001B[1;33m.\u001B[0m\u001B[0m__start_session\u001B[0m\u001B[1;33m(\u001B[0m\u001B[1;32mTrue\u001B[0m\u001B[1;33m,\u001B[0m \u001B[0mcausal_consistency\u001B[0m\u001B[1;33m=\u001B[0m\u001B[1;32mFalse\u001B[0m\u001B[1;33m)\u001B[0m\u001B[1;33m\u001B[0m\u001B[1;33m\u001B[0m\u001B[0m\n\u001B[0m\u001B[0;32m   1817\u001B[0m         \u001B[1;32mexcept\u001B[0m \u001B[1;33m(\u001B[0m\u001B[0mConfigurationError\u001B[0m\u001B[1;33m,\u001B[0m \u001B[0mInvalidOperation\u001B[0m\u001B[1;33m)\u001B[0m\u001B[1;33m:\u001B[0m\u001B[1;33m\u001B[0m\u001B[1;33m\u001B[0m\u001B[0m\n\u001B[0;32m   1818\u001B[0m             \u001B[1;31m# Sessions not supported, or multiple users authenticated.\u001B[0m\u001B[1;33m\u001B[0m\u001B[1;33m\u001B[0m\u001B[1;33m\u001B[0m\u001B[0m\n",
      "\u001B[1;32m~\\anaconda3\\lib\\site-packages\\pymongo\\mongo_client.py\u001B[0m in \u001B[0;36m__start_session\u001B[1;34m(self, implicit, **kwargs)\u001B[0m\n\u001B[0;32m   1764\u001B[0m \u001B[1;33m\u001B[0m\u001B[0m\n\u001B[0;32m   1765\u001B[0m         \u001B[1;31m# Raises ConfigurationError if sessions are not supported.\u001B[0m\u001B[1;33m\u001B[0m\u001B[1;33m\u001B[0m\u001B[1;33m\u001B[0m\u001B[0m\n\u001B[1;32m-> 1766\u001B[1;33m         \u001B[0mserver_session\u001B[0m \u001B[1;33m=\u001B[0m \u001B[0mself\u001B[0m\u001B[1;33m.\u001B[0m\u001B[0m_get_server_session\u001B[0m\u001B[1;33m(\u001B[0m\u001B[1;33m)\u001B[0m\u001B[1;33m\u001B[0m\u001B[1;33m\u001B[0m\u001B[0m\n\u001B[0m\u001B[0;32m   1767\u001B[0m         \u001B[0mopts\u001B[0m \u001B[1;33m=\u001B[0m \u001B[0mclient_session\u001B[0m\u001B[1;33m.\u001B[0m\u001B[0mSessionOptions\u001B[0m\u001B[1;33m(\u001B[0m\u001B[1;33m**\u001B[0m\u001B[0mkwargs\u001B[0m\u001B[1;33m)\u001B[0m\u001B[1;33m\u001B[0m\u001B[1;33m\u001B[0m\u001B[0m\n\u001B[0;32m   1768\u001B[0m         return client_session.ClientSession(\n",
      "\u001B[1;32m~\\anaconda3\\lib\\site-packages\\pymongo\\mongo_client.py\u001B[0m in \u001B[0;36m_get_server_session\u001B[1;34m(self)\u001B[0m\n\u001B[0;32m   1800\u001B[0m     \u001B[1;32mdef\u001B[0m \u001B[0m_get_server_session\u001B[0m\u001B[1;33m(\u001B[0m\u001B[0mself\u001B[0m\u001B[1;33m)\u001B[0m\u001B[1;33m:\u001B[0m\u001B[1;33m\u001B[0m\u001B[1;33m\u001B[0m\u001B[0m\n\u001B[0;32m   1801\u001B[0m         \u001B[1;34m\"\"\"Internal: start or resume a _ServerSession.\"\"\"\u001B[0m\u001B[1;33m\u001B[0m\u001B[1;33m\u001B[0m\u001B[0m\n\u001B[1;32m-> 1802\u001B[1;33m         \u001B[1;32mreturn\u001B[0m \u001B[0mself\u001B[0m\u001B[1;33m.\u001B[0m\u001B[0m_topology\u001B[0m\u001B[1;33m.\u001B[0m\u001B[0mget_server_session\u001B[0m\u001B[1;33m(\u001B[0m\u001B[1;33m)\u001B[0m\u001B[1;33m\u001B[0m\u001B[1;33m\u001B[0m\u001B[0m\n\u001B[0m\u001B[0;32m   1803\u001B[0m \u001B[1;33m\u001B[0m\u001B[0m\n\u001B[0;32m   1804\u001B[0m     \u001B[1;32mdef\u001B[0m \u001B[0m_return_server_session\u001B[0m\u001B[1;33m(\u001B[0m\u001B[0mself\u001B[0m\u001B[1;33m,\u001B[0m \u001B[0mserver_session\u001B[0m\u001B[1;33m,\u001B[0m \u001B[0mlock\u001B[0m\u001B[1;33m)\u001B[0m\u001B[1;33m:\u001B[0m\u001B[1;33m\u001B[0m\u001B[1;33m\u001B[0m\u001B[0m\n",
      "\u001B[1;32m~\\anaconda3\\lib\\site-packages\\pymongo\\topology.py\u001B[0m in \u001B[0;36mget_server_session\u001B[1;34m(self)\u001B[0m\n\u001B[0;32m    483\u001B[0m                 \u001B[1;32mif\u001B[0m \u001B[0mself\u001B[0m\u001B[1;33m.\u001B[0m\u001B[0m_description\u001B[0m\u001B[1;33m.\u001B[0m\u001B[0mtopology_type\u001B[0m \u001B[1;33m==\u001B[0m \u001B[0mTOPOLOGY_TYPE\u001B[0m\u001B[1;33m.\u001B[0m\u001B[0mSingle\u001B[0m\u001B[1;33m:\u001B[0m\u001B[1;33m\u001B[0m\u001B[1;33m\u001B[0m\u001B[0m\n\u001B[0;32m    484\u001B[0m                     \u001B[1;32mif\u001B[0m \u001B[1;32mnot\u001B[0m \u001B[0mself\u001B[0m\u001B[1;33m.\u001B[0m\u001B[0m_description\u001B[0m\u001B[1;33m.\u001B[0m\u001B[0mhas_known_servers\u001B[0m\u001B[1;33m:\u001B[0m\u001B[1;33m\u001B[0m\u001B[1;33m\u001B[0m\u001B[0m\n\u001B[1;32m--> 485\u001B[1;33m                         self._select_servers_loop(\n\u001B[0m\u001B[0;32m    486\u001B[0m                             \u001B[0many_server_selector\u001B[0m\u001B[1;33m,\u001B[0m\u001B[1;33m\u001B[0m\u001B[1;33m\u001B[0m\u001B[0m\n\u001B[0;32m    487\u001B[0m                             \u001B[0mself\u001B[0m\u001B[1;33m.\u001B[0m\u001B[0m_settings\u001B[0m\u001B[1;33m.\u001B[0m\u001B[0mserver_selection_timeout\u001B[0m\u001B[1;33m,\u001B[0m\u001B[1;33m\u001B[0m\u001B[1;33m\u001B[0m\u001B[0m\n",
      "\u001B[1;32m~\\anaconda3\\lib\\site-packages\\pymongo\\topology.py\u001B[0m in \u001B[0;36m_select_servers_loop\u001B[1;34m(self, selector, timeout, address)\u001B[0m\n\u001B[0;32m    213\u001B[0m             \u001B[1;31m# No suitable servers.\u001B[0m\u001B[1;33m\u001B[0m\u001B[1;33m\u001B[0m\u001B[1;33m\u001B[0m\u001B[0m\n\u001B[0;32m    214\u001B[0m             \u001B[1;32mif\u001B[0m \u001B[0mtimeout\u001B[0m \u001B[1;33m==\u001B[0m \u001B[1;36m0\u001B[0m \u001B[1;32mor\u001B[0m \u001B[0mnow\u001B[0m \u001B[1;33m>\u001B[0m \u001B[0mend_time\u001B[0m\u001B[1;33m:\u001B[0m\u001B[1;33m\u001B[0m\u001B[1;33m\u001B[0m\u001B[0m\n\u001B[1;32m--> 215\u001B[1;33m                 raise ServerSelectionTimeoutError(\n\u001B[0m\u001B[0;32m    216\u001B[0m                     \u001B[1;34m\"%s, Timeout: %ss, Topology Description: %r\"\u001B[0m \u001B[1;33m%\u001B[0m\u001B[1;33m\u001B[0m\u001B[1;33m\u001B[0m\u001B[0m\n\u001B[0;32m    217\u001B[0m                     (self._error_message(selector), timeout, self.description))\n",
      "\u001B[1;31mServerSelectionTimeoutError\u001B[0m: localhost:27017: [WinError 10061] Подключение не установлено, т.к. конечный компьютер отверг запрос на подключение, Timeout: 30s, Topology Description: <TopologyDescription id: 623af54055d7015da9bf5d97, topology_type: Single, servers: [<ServerDescription ('localhost', 27017) server_type: Unknown, rtt: None, error=AutoReconnect('localhost:27017: [WinError 10061] Подключение не установлено, т.к. конечный компьютер отверг запрос на подключение')>]>"
     ]
    }
   ],
   "metadata": {}
  },
  {
   "cell_type": "code",
   "execution_count": null,
   "source": [
    "purge(initial.root_client, initial.db_instances[\"timerbot_db\"])"
   ],
   "outputs": [],
   "metadata": {}
  },
  {
   "cell_type": "code",
   "execution_count": 3,
   "source": [
    "import rdkit\r\n",
    "from rdkit import Chem\r\n",
    "from rdkit.Chem import PandasTools\r\n",
    "from rdkit.Chem import rdmolfiles, AllChem\r\n",
    "from rdkit.Chem import rdDepictor\r\n",
    "from rdkit.Chem.Draw import rdMolDraw2D\r\n",
    "from IPython.display import SVG\r\n",
    "# for similarity search need mongo-rdkit\r\n",
    "# from mongordkit.Search import similarity, substructure, utils\r\n",
    "# from mongordkit import Search\r\n",
    "# from mongordkit.Database import create, write\r\n",
    "\r\n",
    "\r\n",
    "def update_rdkit_with_sialdrich (client, db_instance):\r\n",
    "    # Disable rdkit warnings\r\n",
    "    rdkit.RDLogger.DisableLog('rdApp.*')\r\n",
    "\r\n",
    "    db_name = db_instance.DATABASE_NAME\r\n",
    "    molecules_collection = client[db_name][\"molecules\"]\r\n"
   ],
   "outputs": [],
   "metadata": {}
  },
  {
   "cell_type": "code",
   "execution_count": 10,
   "source": [
    "db_name = db_instance.DATABASE_NAME"
   ],
   "outputs": [],
   "metadata": {}
  },
  {
   "cell_type": "code",
   "execution_count": 12,
   "source": [
    "db_name"
   ],
   "outputs": [
    {
     "output_type": "execute_result",
     "data": {
      "text/plain": [
       "'timerbot_db'"
      ]
     },
     "metadata": {},
     "execution_count": 12
    }
   ],
   "metadata": {}
  },
  {
   "cell_type": "code",
   "execution_count": 15,
   "source": [
    "client[db_name].molecules"
   ],
   "outputs": [
    {
     "output_type": "execute_result",
     "data": {
      "text/plain": [
       "Collection(Database(MongoClient(host=['localhost:27017'], document_class=dict, tz_aware=False, connect=True, authsource='admin'), 'timerbot_db'), 'molecules')"
      ]
     },
     "metadata": {},
     "execution_count": 15
    }
   ],
   "metadata": {}
  },
  {
   "cell_type": "code",
   "execution_count": 19,
   "source": [
    "client.drop_database(\"timerbot_db\")"
   ],
   "outputs": [],
   "metadata": {}
  },
  {
   "cell_type": "code",
   "execution_count": null,
   "source": [],
   "outputs": [],
   "metadata": {}
  }
 ],
 "metadata": {
  "interpreter": {
   "hash": "0f624d81ac4b526ed6f013f0ced36a502ce6acd0ba10be2806dfd2eb339c6a11"
  },
  "kernelspec": {
   "name": "python3",
   "display_name": "Python 3.8.0 64-bit (conda)"
  },
  "language_info": {
   "codemirror_mode": {
    "name": "ipython",
    "version": 3
   },
   "file_extension": ".py",
   "mimetype": "text/x-python",
   "name": "python",
   "nbconvert_exporter": "python",
   "pygments_lexer": "ipython3",
   "version": "3.8.0"
  }
 },
 "nbformat": 4,
 "nbformat_minor": 4
}