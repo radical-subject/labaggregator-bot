{
 "cells": [
  {
   "cell_type": "code",
   "execution_count": 7,
   "source": [
    "MONGO_URL=\"localhost:27017\"\r\n",
    "MONGO_INITDB_ROOT_USERNAME=\"root\" # \r\n",
    "MONGO_INITDB_ROOT_PASSWORD=\"dr5[gnhn\" # \r\n",
    "MONGO_BOT_USERNAME=\"bot\"\r\n",
    "MONGO_BOT_PASSWORD=\"botpsswd\"\r\n",
    "\r\n",
    "bot_credentials = dict(\r\n",
    "    DATABASE_NAME = \"bot_db\",\r\n",
    "    DATABASE_HOST = MONGO_URL,\r\n",
    "    DATABASE_ADMIN_USERNAME = MONGO_BOT_USERNAME,\r\n",
    "    DATABASE_ADMIN_PASSWORD = MONGO_BOT_PASSWORD\r\n",
    ")\r\n",
    "\r\n",
    "import sys,os\r\n",
    "sys.path.append(\"..\")\r\n",
    "\r\n",
    "\r\n",
    "# database credentials extractor import\r\n",
    "# from modules.db.dbconfig import root_credentials, bot_credentials\r\n",
    "from modules.db.mongodb import MongoDriver\r\n",
    "\r\n",
    "client = MongoDriver(bot_credentials).client\r\n",
    "db_instance = MongoDriver(bot_credentials)\r\n",
    "collection_name = \"timer_data_collection\"\r\n",
    "user_id = 122267418\r\n",
    "query = {\"user_id\": user_id}\r\n",
    "\r\n",
    "print(client)\r\n",
    "client.list_database_names()"
   ],
   "outputs": [
    {
     "output_type": "stream",
     "name": "stdout",
     "text": [
      "MongoClient(host=['localhost:27017'], document_class=dict, tz_aware=False, connect=True)\n"
     ]
    },
    {
     "output_type": "execute_result",
     "data": {
      "text/plain": [
       "['admin', 'config', 'local', 'test_db']"
      ]
     },
     "metadata": {},
     "execution_count": 7
    }
   ],
   "metadata": {}
  },
  {
   "cell_type": "code",
   "execution_count": 10,
   "source": [
    "from modules.db.dbmodel import get_records"
   ],
   "outputs": [],
   "metadata": {}
  },
  {
   "cell_type": "code",
   "execution_count": 11,
   "source": [
    "get_timerdata_object(client, db_instance, collection_name, query, user_id).export()"
   ],
   "outputs": [
    {
     "output_type": "error",
     "ename": "NameError",
     "evalue": "name 'get_timerdata_object' is not defined",
     "traceback": [
      "\u001b[1;31m---------------------------------------------------------------------------\u001b[0m",
      "\u001b[1;31mNameError\u001b[0m                                 Traceback (most recent call last)",
      "Input \u001b[1;32mIn [11]\u001b[0m, in \u001b[0;36m<cell line: 1>\u001b[1;34m()\u001b[0m\n\u001b[1;32m----> 1\u001b[0m \u001b[43mget_timerdata_object\u001b[49m(client, db_instance, collection_name, query, user_id)\u001b[38;5;241m.\u001b[39mexport()\n",
      "\u001b[1;31mNameError\u001b[0m: name 'get_timerdata_object' is not defined"
     ]
    }
   ],
   "metadata": {}
  },
  {
   "cell_type": "code",
   "execution_count": 4,
   "source": [
    "get_records(client, db_instance, collection_name, query, user_id)"
   ],
   "outputs": [
    {
     "output_type": "error",
     "ename": "NameError",
     "evalue": "name 'get_records' is not defined",
     "traceback": [
      "\u001b[1;31m---------------------------------------------------------------------------\u001b[0m",
      "\u001b[1;31mNameError\u001b[0m                                 Traceback (most recent call last)",
      "Input \u001b[1;32mIn [4]\u001b[0m, in \u001b[0;36m<cell line: 1>\u001b[1;34m()\u001b[0m\n\u001b[1;32m----> 1\u001b[0m \u001b[43mget_records\u001b[49m(client, db_instance, collection_name, query, user_id)\n",
      "\u001b[1;31mNameError\u001b[0m: name 'get_records' is not defined"
     ]
    }
   ],
   "metadata": {}
  },
  {
   "cell_type": "code",
   "execution_count": 5,
   "source": [
    "conda list"
   ],
   "outputs": [
    {
     "output_type": "stream",
     "name": "stdout",
     "text": [
      "# packages in environment at C:\\Users\\Teravolt\\anaconda3\\envs\\vendorbot:\n",
      "#\n",
      "# Name                    Version                   Build  Channel\n",
      "apscheduler               3.6.3                    pypi_0    pypi\n",
      "asttokens                 2.0.5              pyhd8ed1ab_0    conda-forge\n",
      "backcall                  0.2.0              pyh9f0ad1d_0    conda-forge\n",
      "backports                 1.0                        py_2    conda-forge\n",
      "backports.functools_lru_cache 1.6.1                      py_0    conda-forge\n",
      "boost                     1.74.0           py38h1266d08_3    conda-forge\n",
      "boost-cpp                 1.74.0               h54f0996_2    conda-forge\n",
      "bzip2                     1.0.8                h8ffe710_4    conda-forge\n",
      "ca-certificates           2021.10.8            h5b45459_0    conda-forge\n",
      "cachetools                4.2.1                    pypi_0    pypi\n",
      "cairo                     1.16.0            hba8bd2f_1007    conda-forge\n",
      "certifi                   2021.10.8        py38haa244fe_1    conda-forge\n",
      "chardet                   4.0.0                    pypi_0    pypi\n",
      "colorama                  0.4.4              pyh9f0ad1d_0    conda-forge\n",
      "cycler                    0.10.0                     py_2    conda-forge\n",
      "debugpy                   1.5.1            py38h885f38d_0    conda-forge\n",
      "decorator                 4.4.2                      py_0    conda-forge\n",
      "entrypoints               0.4                pyhd8ed1ab_0    conda-forge\n",
      "executing                 0.8.3              pyhd8ed1ab_0    conda-forge\n",
      "freetype                  2.10.4               h546665d_1    conda-forge\n",
      "gettext                   0.19.8.1          h1a89ca6_1005    conda-forge\n",
      "google-api-core           1.26.0                   pypi_0    pypi\n",
      "google-api-python-client  1.12.8                   pypi_0    pypi\n",
      "google-auth               1.27.0                   pypi_0    pypi\n",
      "google-auth-httplib2      0.0.4                    pypi_0    pypi\n",
      "googleapis-common-protos  1.52.0                   pypi_0    pypi\n",
      "httplib2                  0.19.0                   pypi_0    pypi\n",
      "icu                       68.1                 h0e60522_0    conda-forge\n",
      "idna                      2.10                     pypi_0    pypi\n",
      "intel-openmp              2020.3             h57928b3_311    conda-forge\n",
      "ipykernel                 6.9.2            py38h4317176_0    conda-forge\n",
      "ipython                   8.1.1            py38haa244fe_0    conda-forge\n",
      "ipython_genutils          0.2.0                      py_1    conda-forge\n",
      "jedi                      0.18.0           py38haa244fe_2    conda-forge\n",
      "jpeg                      9d                   h8ffe710_0    conda-forge\n",
      "jupyter_client            7.1.2              pyhd8ed1ab_0    conda-forge\n",
      "jupyter_core              4.9.2            py38haa244fe_0    conda-forge\n",
      "kiwisolver                1.3.1            py38hbd9d945_1    conda-forge\n",
      "lcms2                     2.12                 h2a16943_0    conda-forge\n",
      "libblas                   3.9.0                     8_mkl    conda-forge\n",
      "libcblas                  3.9.0                     8_mkl    conda-forge\n",
      "libffi                    3.3                  h0e60522_2    conda-forge\n",
      "libglib                   2.66.7               h8c8e623_0    conda-forge\n",
      "libiconv                  1.16                 he774522_0    conda-forge\n",
      "liblapack                 3.9.0                     8_mkl    conda-forge\n",
      "libpng                    1.6.37               h1d00b33_2    conda-forge\n",
      "libsodium                 1.0.18               h8d14728_1    conda-forge\n",
      "libtiff                   4.2.0                hc10be44_0    conda-forge\n",
      "lz4-c                     1.9.3                h8ffe710_0    conda-forge\n",
      "matplotlib-base           3.3.4            py38h34ddff4_0    conda-forge\n",
      "matplotlib-inline         0.1.3              pyhd8ed1ab_0    conda-forge\n",
      "mkl                       2020.4             hb70f87d_311    conda-forge\n",
      "nest-asyncio              1.5.4              pyhd8ed1ab_0    conda-forge\n",
      "numpy                     1.20.1           py38h0cc643e_0    conda-forge\n",
      "oauth2client              4.1.3                    pypi_0    pypi\n",
      "olefile                   0.46               pyh9f0ad1d_1    conda-forge\n",
      "openssl                   1.1.1l               h8ffe710_0    conda-forge\n",
      "packaging                 20.9                     pypi_0    pypi\n",
      "pandas                    1.2.2            py38h4c96930_0    conda-forge\n",
      "parso                     0.8.1              pyhd8ed1ab_0    conda-forge\n",
      "pcre                      8.44                 ha925a31_0    conda-forge\n",
      "pickleshare               0.7.5                   py_1003    conda-forge\n",
      "pillow                    8.1.0            py38h9273828_2    conda-forge\n",
      "pip                       21.0.1             pyhd8ed1ab_0    conda-forge\n",
      "pixman                    0.40.0               h8ffe710_0    conda-forge\n",
      "prompt-toolkit            3.0.16             pyha770c72_0    conda-forge\n",
      "protobuf                  3.15.2                   pypi_0    pypi\n",
      "psutil                    5.9.0            py38h294d835_0    conda-forge\n",
      "pure_eval                 0.2.2              pyhd8ed1ab_0    conda-forge\n",
      "pyasn1                    0.4.8                    pypi_0    pypi\n",
      "pyasn1-modules            0.2.8                    pypi_0    pypi\n",
      "pycairo                   1.20.0           py38h7e31434_1    conda-forge\n",
      "pydrive                   1.3.1                    pypi_0    pypi\n",
      "pygments                  2.8.0              pyhd8ed1ab_0    conda-forge\n",
      "pymongo                   3.11.3                   pypi_0    pypi\n",
      "pyparsing                 2.4.7              pyh9f0ad1d_0    conda-forge\n",
      "python                    3.8.0                hc9e8b01_5    conda-forge\n",
      "python-dateutil           2.8.1                      py_0    conda-forge\n",
      "python-telegram-bot       13.3                     pypi_0    pypi\n",
      "python_abi                3.8                      1_cp38    conda-forge\n",
      "pytz                      2021.1             pyhd8ed1ab_0    conda-forge\n",
      "pywin32                   303              py38h294d835_0    conda-forge\n",
      "pyyaml                    5.4.1                    pypi_0    pypi\n",
      "pyzmq                     22.3.0           py38h09162b1_1    conda-forge\n",
      "rdkit                     2020.09.4        py38h73aae1f_0    conda-forge\n",
      "reportlab                 3.5.60           py38hc3ca807_0    conda-forge\n",
      "requests                  2.25.1                   pypi_0    pypi\n",
      "rsa                       4.7.2                    pypi_0    pypi\n",
      "setuptools                49.6.0           py38haa244fe_3    conda-forge\n",
      "six                       1.15.0             pyh9f0ad1d_0    conda-forge\n",
      "sqlalchemy                1.3.23           py38h294d835_0    conda-forge\n",
      "sqlite                    3.34.0               h8ffe710_0    conda-forge\n",
      "stack_data                0.2.0              pyhd8ed1ab_0    conda-forge\n",
      "tk                        8.6.10               h8ffe710_1    conda-forge\n",
      "tornado                   6.1              py38h294d835_1    conda-forge\n",
      "traitlets                 5.1.1              pyhd8ed1ab_0    conda-forge\n",
      "tzlocal                   2.1                      pypi_0    pypi\n",
      "uritemplate               3.0.1                    pypi_0    pypi\n",
      "urllib3                   1.26.3                   pypi_0    pypi\n",
      "vc                        14.2                 hb210afc_3    conda-forge\n",
      "vs2015_runtime            14.28.29325          h5e1d092_3    conda-forge\n",
      "wcwidth                   0.2.5              pyh9f0ad1d_2    conda-forge\n",
      "wheel                     0.36.2             pyhd3deb0d_0    conda-forge\n",
      "wincertstore              0.2             py38haa244fe_1006    conda-forge\n",
      "xz                        5.2.5                h62dcd97_1    conda-forge\n",
      "zeromq                    4.3.4                h0e60522_1    conda-forge\n",
      "zlib                      1.2.11            h62dcd97_1010    conda-forge\n",
      "zstd                      1.4.8                h4e2f164_1    conda-forge\n",
      "\n",
      "Note: you may need to restart the kernel to use updated packages.\n"
     ]
    }
   ],
   "metadata": {}
  },
  {
   "cell_type": "code",
   "execution_count": 12,
   "source": [
    "collection = client[\"timerbot_db\"][\"users_collection\"]\r\n",
    "\r\n",
    "data = {'_id': 122267418, 'user_id': 122267418, 'username': '@radical_subject', 'firstname': 'Oleg', 'lastname': 'Fedorov'}"
   ],
   "outputs": [],
   "metadata": {}
  },
  {
   "cell_type": "code",
   "execution_count": 13,
   "source": [
    "print(collection.insert_one(data))"
   ],
   "outputs": [
    {
     "output_type": "stream",
     "name": "stdout",
     "text": [
      "<pymongo.results.InsertOneResult object at 0x0000023FBCE87140>\n"
     ]
    }
   ],
   "metadata": {}
  },
  {
   "cell_type": "code",
   "execution_count": null,
   "source": [],
   "outputs": [],
   "metadata": {}
  }
 ],
 "metadata": {
  "kernelspec": {
   "name": "python3",
   "display_name": "Python 3.8.0 64-bit (conda)"
  },
  "language_info": {
   "codemirror_mode": {
    "name": "ipython",
    "version": 3
   },
   "file_extension": ".py",
   "mimetype": "text/x-python",
   "name": "python",
   "nbconvert_exporter": "python",
   "pygments_lexer": "ipython3",
   "version": "3.8.0"
  },
  "interpreter": {
   "hash": "0f624d81ac4b526ed6f013f0ced36a502ce6acd0ba10be2806dfd2eb339c6a11"
  }
 },
 "nbformat": 4,
 "nbformat_minor": 4
}