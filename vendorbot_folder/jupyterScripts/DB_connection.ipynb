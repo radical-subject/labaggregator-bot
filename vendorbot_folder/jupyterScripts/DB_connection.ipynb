{
 "cells": [
  {
   "cell_type": "code",
   "execution_count": 43,
   "metadata": {},
   "outputs": [
    {
     "name": "stdout",
     "output_type": "stream",
     "text": [
      "{'root': <modules.db.mongodb.MongoDriver object at 0x000002BE762A4E20>, 'timerbot_db': <modules.db.mongodb.MongoDriver object at 0x000002BE762A4EB0>}\n",
      "{'DATABASE_NAME': 'timerbot_db', 'DATABASE_HOST': 'localhost:27017', 'DATABASE_ADMIN_USERNAME': 'root', 'DATABASE_ADMIN_PASSWORD': 'dr5[gnhn'}\n",
      "{'DATABASE_NAME': 'timerbot_db', 'DATABASE_HOST': 'localhost:27017', 'DATABASE_ADMIN_USERNAME': 'bot', 'DATABASE_ADMIN_PASSWORD': 'botpsswd'}\n"
     ]
    }
   ],
   "source": [
    "import sys,os\n",
    "sys.path.append(\"..\")\n",
    "\n",
    "MONGO_URL=\"localhost:27017\"\n",
    "os.environ[\"MONGO_URL\"] = MONGO_URL\n",
    "\n",
    "MONGO_INITDB_ROOT_USERNAME=\"root\" # \n",
    "os.environ[\"MONGO_INITDB_ROOT_USERNAME\"] = MONGO_INITDB_ROOT_USERNAME\n",
    "\n",
    "MONGO_INITDB_ROOT_PASSWORD=\"dr5[gnhn\" # \n",
    "os.environ[\"MONGO_INITDB_ROOT_PASSWORD\"] = MONGO_INITDB_ROOT_PASSWORD\n",
    "\n",
    "DATABASE_NAME = \"admin\"\n",
    "os.environ[\"MONGO_INITDB_DATABASE\"] = DATABASE_NAME\n",
    "\n",
    "MONGO_BOT_USERNAME=\"bot\"\n",
    "os.environ[\"MONGO_BOT_USERNAME\"] = MONGO_BOT_USERNAME\n",
    "\n",
    "MONGO_BOT_PASSWORD=\"botpsswd\"\n",
    "os.environ[\"MONGO_BOT_PASSWORD\"] = MONGO_BOT_PASSWORD\n",
    "\n",
    "# timerbot_credentials = dict(\n",
    "#     DATABASE_NAME = \"timerbot_db\",\n",
    "#     DATABASE_HOST = MONGO_URL,\n",
    "#     DATABASE_ADMIN_USERNAME = MONGO_BOT_USERNAME,\n",
    "#     DATABASE_ADMIN_PASSWORD = MONGO_BOT_PASSWORD\n",
    "# )\n",
    "\n",
    "# root_credentials = dict(\n",
    "#     DATABASE_NAME = \"timerbot_db\",\n",
    "#     DATABASE_HOST = MONGO_URL,\n",
    "#     DATABASE_ADMIN_USERNAME = MONGO_INITDB_ROOT_USERNAME,\n",
    "#     DATABASE_ADMIN_PASSWORD = MONGO_INITDB_ROOT_PASSWORD\n",
    "# )\n",
    "\n",
    "# database credentials extractor import\n",
    "from modules.db.dbconfig import root_credentials, timerbot_credentials\n",
    "from modules.db.mongodb import MongoDriver\n",
    "\n",
    "db_instances = dict(root=MongoDriver(root_credentials), timerbot_db=MongoDriver(timerbot_credentials))\n",
    "print(db_instances)\n",
    "print(root_credentials)\n",
    "print(timerbot_credentials)\n",
    "\n",
    "# client = MongoDriver(root_credentials).client\n",
    "# db_instance = MongoDriver(root_credentials)\n",
    "# collection_name = \"timer_data_collection\"\n",
    "# user_id = 122267418\n",
    "# query = {\"user_id\": user_id}\n",
    "\n",
    "# print(client)\n",
    "# client.list_database_names()"
   ]
  },
  {
   "cell_type": "code",
   "execution_count": 8,
   "metadata": {},
   "outputs": [],
   "source": [
    "from modules.db.dbmodel import get_records, get_timerdata_object, purge, add_records\n",
    "data = {'_id': 122267418, 'user_id': 122267418, 'username': '@radical_subject', 'firstname': 'Oleg', 'lastname': 'Fedorov'}\n",
    "# collection_name = \"users_collection\""
   ]
  },
  {
   "cell_type": "code",
   "execution_count": 48,
   "metadata": {},
   "outputs": [
    {
     "ename": "NameError",
     "evalue": "name 'client' is not defined",
     "output_type": "error",
     "traceback": [
      "\u001b[1;31m---------------------------------------------------------------------------\u001b[0m",
      "\u001b[1;31mNameError\u001b[0m                                 Traceback (most recent call last)",
      "\u001b[1;32m<ipython-input-48-7555222d4045>\u001b[0m in \u001b[0;36m<module>\u001b[1;34m\u001b[0m\n\u001b[1;32m----> 1\u001b[1;33m \u001b[0mget_timerdata_object\u001b[0m\u001b[1;33m(\u001b[0m\u001b[0mclient\u001b[0m\u001b[1;33m,\u001b[0m \u001b[0mdb_instance\u001b[0m\u001b[1;33m,\u001b[0m \u001b[0mcollection_name\u001b[0m\u001b[1;33m,\u001b[0m \u001b[0mquery\u001b[0m\u001b[1;33m,\u001b[0m \u001b[0muser_id\u001b[0m\u001b[1;33m)\u001b[0m\u001b[1;33m.\u001b[0m\u001b[0mexport\u001b[0m\u001b[1;33m(\u001b[0m\u001b[1;33m)\u001b[0m\u001b[1;33m\u001b[0m\u001b[1;33m\u001b[0m\u001b[0m\n\u001b[0m",
      "\u001b[1;31mNameError\u001b[0m: name 'client' is not defined"
     ]
    }
   ],
   "source": [
    "# get_timerdata_object(client, db_instance, collection_name, query, user_id).export()"
   ]
  },
  {
   "cell_type": "code",
   "execution_count": 15,
   "metadata": {},
   "outputs": [],
   "source": [
    "# get_records(client, db_instance, collection_name, query, user_id)\n",
    "# purge(client, db_instance)\n",
    "# add_records(client, db_instance, collection_name, data)"
   ]
  },
  {
   "cell_type": "code",
   "execution_count": 16,
   "metadata": {},
   "outputs": [],
   "source": [
    "# collection = client[\"bot_db\"][\"users_collection\"]\n",
    "\n",
    "# data = {'_id': 122267418, 'user_id': 122267418, 'username': '@radical_subject', 'firstname': 'Oleg', 'lastname': 'Fedorov'}"
   ]
  },
  {
   "cell_type": "code",
   "execution_count": 27,
   "metadata": {},
   "outputs": [],
   "source": [
    "# print(collection.insert_one(data))"
   ]
  },
  {
   "cell_type": "code",
   "execution_count": null,
   "metadata": {},
   "outputs": [],
   "source": []
  },
  {
   "cell_type": "code",
   "execution_count": 49,
   "metadata": {},
   "outputs": [],
   "source": [
    "# conda list"
   ]
  },
  {
   "cell_type": "code",
   "execution_count": 50,
   "metadata": {},
   "outputs": [],
   "source": [
    "# db_instances = dict(root=MongoDriver(root_credentials), timerbot_db=MongoDriver(timerbot_credentials))\n",
    "from modules.ourbot.handlers.initial import Inital\n",
    "from modules.db.dbmodel import get_records, get_timerdata_object, purge, add_records"
   ]
  },
  {
   "cell_type": "code",
   "execution_count": 51,
   "metadata": {},
   "outputs": [],
   "source": [
    "initial = Inital(db_instances)"
   ]
  },
  {
   "cell_type": "code",
   "execution_count": 52,
   "metadata": {},
   "outputs": [
    {
     "data": {
      "text/plain": [
       "MongoClient(host=['localhost:27017'], document_class=dict, tz_aware=False, connect=True)"
      ]
     },
     "execution_count": 52,
     "metadata": {},
     "output_type": "execute_result"
    }
   ],
   "source": [
    "initial.timerbot_db_client"
   ]
  },
  {
   "cell_type": "code",
   "execution_count": null,
   "metadata": {},
   "outputs": [],
   "source": [
    "add_records(initial.timerbot_db_client, initial.db_instances[\"timerbot_db\"], initial.collection, data)"
   ]
  },
  {
   "cell_type": "code",
   "execution_count": null,
   "metadata": {},
   "outputs": [],
   "source": [
    "purge(initial.root_client, initial.db_instances[\"timerbot_db\"])"
   ]
  },
  {
   "cell_type": "code",
   "execution_count": null,
   "metadata": {},
   "outputs": [],
   "source": []
  }
 ],
 "metadata": {
  "interpreter": {
   "hash": "57baa5815c940fdaff4d14510622de9616cae602444507ba5d0b6727c008cbd6"
  },
  "kernelspec": {
   "display_name": "Python 3",
   "language": "python",
   "name": "python3"
  },
  "language_info": {
   "codemirror_mode": {
    "name": "ipython",
    "version": 3
   },
   "file_extension": ".py",
   "mimetype": "text/x-python",
   "name": "python",
   "nbconvert_exporter": "python",
   "pygments_lexer": "ipython3",
   "version": "3.8.5"
  }
 },
 "nbformat": 4,
 "nbformat_minor": 4
}
