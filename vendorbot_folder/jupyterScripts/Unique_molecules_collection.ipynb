{
 "cells": [
  {
   "cell_type": "code",
   "execution_count": 2,
   "source": [
    "import sys,os\r\n",
    "sys.path.append(\"..\")\r\n",
    "\r\n",
    "MONGO_URL=\"localhost:27017\"\r\n",
    "os.environ[\"MONGO_URL\"] = MONGO_URL\r\n",
    "\r\n",
    "MONGO_VENDORBOT_DATABASE = \"vendorbot_db\"\r\n",
    "os.environ[\"MONGO_VENDORBOT_DATABASE\"] = MONGO_VENDORBOT_DATABASE\r\n",
    "\r\n",
    "MOLECULES_DATABASE = \"molecules_db\"\r\n",
    "os.environ[\"MOLECULES_DATABASE\"] = MOLECULES_DATABASE\r\n",
    "\r\n",
    "MONGO_BOT_USERNAME=\"bot\"\r\n",
    "os.environ[\"MONGO_BOT_USERNAME\"] = MONGO_BOT_USERNAME\r\n",
    "\r\n",
    "MONGO_BOT_PASSWORD=\"botpsswd\"\r\n",
    "os.environ[\"MONGO_BOT_PASSWORD\"] = MONGO_BOT_PASSWORD\r\n",
    "\r\n",
    "from modules.db.dbconfig import db_client\r\n",
    "from modules.db.users import UsersCollection\r\n",
    "from modules.db.unique_molecules import UniqueMolecules\r\n",
    "\r\n",
    "# collections of data to work with\r\n",
    "users_collection = UsersCollection(db_client, MONGO_VENDORBOT_DATABASE)\r\n",
    "unique_molecules_collection = UniqueMolecules(db_client, MOLECULES_DATABASE)\r\n",
    "\r\n",
    "# user_id = 122267418\r\n",
    "# query = {\"user_id\": user_id}\r\n",
    "\r\n",
    "print(db_client)\r\n",
    "db_client.list_database_names()"
   ],
   "outputs": [
    {
     "output_type": "stream",
     "name": "stdout",
     "text": [
      "MongoClient(host=['localhost:27017'], document_class=dict, tz_aware=False, connect=True, authsource='admin', connecttimeoutms=5)\n"
     ]
    },
    {
     "output_type": "execute_result",
     "data": {
      "text/plain": [
       "['admin', 'blacklist_rdkit_db', 'config', 'local', 'test_db', 'vendorbot_db']"
      ]
     },
     "metadata": {},
     "execution_count": 2
    }
   ],
   "metadata": {}
  },
  {
   "cell_type": "code",
   "execution_count": null,
   "source": [],
   "outputs": [],
   "metadata": {}
  },
  {
   "cell_type": "code",
   "execution_count": 3,
   "source": [
    "from rdkit import Chem\r\n",
    "##########################\r\n",
    "#FIXING CHARGED MOLECULES#\r\n",
    "##########################\r\n",
    "def neutralize_atoms(mol):\r\n",
    "    '''\r\n",
    "    atom neutralizer\r\n",
    "    '''\r\n",
    "    pattern = Chem.MolFromSmarts(\"[+1!h0!$([*]~[-1,-2,-3,-4]),-1!$([*]~[+1,+2,+3,+4])]\")\r\n",
    "    at_matches = mol.GetSubstructMatches(pattern)\r\n",
    "    at_matches_list = [y[0] for y in at_matches]\r\n",
    "    if len(at_matches_list) > 0:\r\n",
    "        for at_idx in at_matches_list:\r\n",
    "            atom = mol.GetAtomWithIdx(at_idx)\r\n",
    "            chg = atom.GetFormalCharge()\r\n",
    "            hcount = atom.GetTotalNumHs()\r\n",
    "            atom.SetFormalCharge(0)\r\n",
    "            atom.SetNumExplicitHs(hcount - chg)\r\n",
    "            atom.UpdatePropertyCache()\r\n",
    "    return mol\r\n",
    "\r\n",
    "from rdkit.Chem.rdmolops import GetFormalCharge\r\n",
    "def charge_fixer(SMILES):\r\n",
    "    '''\r\n",
    "    Neutralize molecules atom by atom\r\n",
    "    '''\r\n",
    "    # Create RDKit molecular objects\r\n",
    "    mol = Chem.MolFromSmiles(smiles)\r\n",
    "    if GetFormalCharge(mol) != 0:\r\n",
    "        neutralize_atoms(mol)\r\n",
    "    return Chem.MolToSmiles(mol)"
   ],
   "outputs": [],
   "metadata": {}
  },
  {
   "cell_type": "code",
   "execution_count": 83,
   "source": [
    "# SMILES\r\n",
    "smiles = 'CC[C@H]([NH3+])CO'"
   ],
   "outputs": [],
   "metadata": {}
  },
  {
   "cell_type": "code",
   "execution_count": 84,
   "source": [
    "from mongordkit.Database import write\r\n",
    "from mongordkit.Search import similarity, substructure\r\n",
    "from mongordkit.Database import registration"
   ],
   "outputs": [],
   "metadata": {}
  },
  {
   "cell_type": "code",
   "execution_count": 85,
   "source": [
    "SMILES = 'C[C@H](N)CO'\r\n",
    "reagent_internal_id = 'a05785ae720b414ca41526baf22bc026'\r\n",
    "\r\n",
    "def reagent_registration(SMILES, reagent_internal_id):\r\n",
    "\r\n",
    "    molfile = Chem.MolFromSmiles(SMILES)\r\n",
    "    scheme = registration.MolDocScheme()\r\n",
    "    scheme.add_value_field('reagent_internal_id_list', [reagent_internal_id])\r\n",
    "    moldoc = scheme.generate_mol_doc(molfile)\r\n",
    "\r\n",
    "    result = write.WriteFromMolList(db_client[MONGO_VENDORBOT_DATABASE].unique_molecules_collection, [molfile], scheme=scheme) \r\n",
    "\r\n",
    "    query = {'index': moldoc['index']}\r\n",
    "    # print(query)\r\n",
    "    if result == 0:\r\n",
    "\r\n",
    "        reagent_internal_id_list = unique_molecules_collection.get_molecule(moldoc['index'])[\"value_data\"]['reagent_internal_id_list']\r\n",
    "        \r\n",
    "        if reagent_internal_id not in reagent_internal_id_list:\r\n",
    "            reagent_internal_id_list.append(reagent_internal_id)\r\n",
    "\r\n",
    "            scheme.add_value_field('reagent_internal_id_list', reagent_internal_id_list)\r\n",
    "\r\n",
    "            moldoc = scheme.generate_mol_doc(molfile)\r\n",
    "            unique_molecules_collection.update_molecule(moldoc['index'], moldoc)\r\n",
    "\r\n",
    "    # print(insertion_result.acknowledged)\r\n",
    "\r\n",
    "reagent_registration(SMILES, reagent_internal_id)"
   ],
   "outputs": [],
   "metadata": {}
  },
  {
   "cell_type": "code",
   "execution_count": 86,
   "source": [
    "from rdkit import RDLogger, Chem\r\n",
    "from mongordkit.Database import write\r\n",
    "from mongordkit.Search import similarity, substructure\r\n",
    "\r\n",
    "from rdkit.Chem import PandasTools, SanitizeMol\r\n",
    "\r\n",
    "\r\n",
    "# Search.PrepareForSearch(rdkit_db, rdkit_db.molecules, rdkit_db.mfp_counts, rdkit_db.permutations)\r\n",
    "substructure.AddPatternFingerprints(unique_molecules_collection)\r\n",
    "similarity.AddMorganFingerprints(unique_molecules_collection, db_client[MOLECULES_DATABASE].mfp_counts)\r\n",
    "\r\n",
    "# Generate 100 different permutations of length 2048 and save them in demo_db.permutations as separate documents.\r\n",
    "similarity.AddRandPermutations(db_client[MOLECULES_DATABASE].permutations)\r\n",
    "\r\n",
    "# Add locality-sensitive hash values to each documents in demo_db.molecules by splitting the 100 different permutations\r\n",
    "# in demo_db.permutations into 25 different buckets.\r\n",
    "similarity.AddLocalityHashes(unique_molecules_collection, db_client[MOLECULES_DATABASE].permutations, 25)\r\n",
    "\r\n",
    "# Create 25 different collections in db_demo each store a subset of hash values for molecules in demo_db.molecules.\r\n",
    "similarity.AddHashCollections(db_client[MOLECULES_DATABASE], unique_molecules_collection)"
   ],
   "outputs": [],
   "metadata": {}
  },
  {
   "cell_type": "code",
   "execution_count": null,
   "source": [
    "from operator import itemgetter\r\n",
    "def similarity_search(database, smiles: str):\r\n",
    "    \"\"\"\r\n",
    "    Ищем похожие реагенты умными функциями\r\n",
    "    :param smiles:\r\n",
    "    :return: отсортированный по похожести список реагентов\r\n",
    "    \"\"\"\r\n",
    "    smiles = smiles.replace(\"|\", \"\")  # вертикальная черта в SMILES - непонятно что несёт, и RDKIT ее не понимает, убираем ее\r\n",
    "    mol = Chem.MolFromSmiles(smiles)\r\n",
    "\r\n",
    "    if not mol:\r\n",
    "        raise Exception(\"MolFromSmiles returned None\")\r\n",
    "\r\n",
    "    res = similarity.SimSearchAggregate(mol, database.unique_molecules_collection, database.mfp_counts, 0.1)\r\n",
    "\r\n",
    "    if not res:\r\n",
    "        return\r\n",
    "\r\n",
    "    res = sorted(res, key=itemgetter(0), reverse=True)\r\n",
    "\r\n",
    "    if res[0] is None:\r\n",
    "        raise Exception(f\"incorrect result: {str(res)}\")\r\n",
    "\r\n",
    "    return res"
   ],
   "outputs": [],
   "metadata": {}
  },
  {
   "cell_type": "code",
   "execution_count": 87,
   "source": [
    "def get_most_similar_reagent(SMILES):\r\n",
    "    \r\n",
    "    best_similarity_result_id = similarity_search(db_client[MONGO_VENDORBOT_DATABASE], SMILES)[0][1]\r\n",
    "    reagent_internal_id_list = unique_molecules_collection.get_molecule(best_similarity_result_id)[\"value_data\"]['reagent_internal_id_list']\r\n",
    "\r\n",
    "    return reagent_internal_id_list\r\n",
    "\r\n",
    "SMILES = 'CCN=C=NCCCN(C)C'\r\n",
    "get_most_similar_reagent(SMILES)\r\n",
    "user_id = \"122267418\"\r\n",
    "\r\n",
    "def batch_reagent_registration(user_id: str):\r\n",
    "    reagent_list = users_collection.get_reagents(user_id)\r\n",
    "\r\n",
    "    for reagent in reagent_list:\r\n",
    "        SMILES = reagent['SMILES']\r\n",
    "        reagent_internal_id = reagent['reagent_internal_id']\r\n",
    "        reagent_registration(SMILES, reagent_internal_id)"
   ],
   "outputs": [],
   "metadata": {}
  },
  {
   "cell_type": "code",
   "execution_count": null,
   "source": [],
   "outputs": [],
   "metadata": {}
  },
  {
   "cell_type": "code",
   "execution_count": null,
   "source": [],
   "outputs": [],
   "metadata": {}
  },
  {
   "cell_type": "code",
   "execution_count": null,
   "source": [],
   "outputs": [],
   "metadata": {}
  },
  {
   "cell_type": "code",
   "execution_count": null,
   "source": [],
   "outputs": [],
   "metadata": {}
  },
  {
   "cell_type": "code",
   "execution_count": null,
   "source": [],
   "outputs": [],
   "metadata": {}
  },
  {
   "cell_type": "code",
   "execution_count": null,
   "source": [],
   "outputs": [],
   "metadata": {}
  },
  {
   "cell_type": "code",
   "execution_count": null,
   "source": [],
   "outputs": [],
   "metadata": {}
  },
  {
   "cell_type": "code",
   "execution_count": null,
   "source": [],
   "outputs": [],
   "metadata": {}
  },
  {
   "cell_type": "code",
   "execution_count": null,
   "source": [],
   "outputs": [],
   "metadata": {}
  },
  {
   "cell_type": "code",
   "execution_count": null,
   "source": [],
   "outputs": [],
   "metadata": {}
  },
  {
   "cell_type": "code",
   "execution_count": null,
   "source": [],
   "outputs": [],
   "metadata": {}
  },
  {
   "cell_type": "code",
   "execution_count": null,
   "source": [],
   "outputs": [],
   "metadata": {}
  },
  {
   "cell_type": "code",
   "execution_count": null,
   "source": [],
   "outputs": [],
   "metadata": {}
  },
  {
   "cell_type": "code",
   "execution_count": null,
   "source": [],
   "outputs": [],
   "metadata": {}
  },
  {
   "cell_type": "code",
   "execution_count": null,
   "source": [],
   "outputs": [],
   "metadata": {}
  },
  {
   "cell_type": "code",
   "execution_count": null,
   "source": [],
   "outputs": [],
   "metadata": {}
  },
  {
   "cell_type": "code",
   "execution_count": null,
   "source": [],
   "outputs": [],
   "metadata": {}
  },
  {
   "cell_type": "code",
   "execution_count": null,
   "source": [],
   "outputs": [],
   "metadata": {}
  },
  {
   "cell_type": "code",
   "execution_count": null,
   "source": [],
   "outputs": [],
   "metadata": {}
  },
  {
   "cell_type": "code",
   "execution_count": null,
   "source": [],
   "outputs": [],
   "metadata": {}
  },
  {
   "cell_type": "code",
   "execution_count": null,
   "source": [],
   "outputs": [],
   "metadata": {}
  },
  {
   "cell_type": "code",
   "execution_count": null,
   "source": [],
   "outputs": [],
   "metadata": {}
  },
  {
   "cell_type": "code",
   "execution_count": null,
   "source": [],
   "outputs": [],
   "metadata": {}
  },
  {
   "cell_type": "code",
   "execution_count": null,
   "source": [],
   "outputs": [],
   "metadata": {}
  },
  {
   "cell_type": "code",
   "execution_count": null,
   "source": [],
   "outputs": [],
   "metadata": {}
  }
 ],
 "metadata": {
  "interpreter": {
   "hash": "ef85096f8413d07a7235613aaafb63e04025c8beca42ae3ef04cb1a8fb34d192"
  },
  "kernelspec": {
   "name": "python3",
   "display_name": "Python 3.8.0 64-bit ('vendorbot_env': conda)"
  },
  "language_info": {
   "codemirror_mode": {
    "name": "ipython",
    "version": 3
   },
   "file_extension": ".py",
   "mimetype": "text/x-python",
   "name": "python",
   "nbconvert_exporter": "python",
   "pygments_lexer": "ipython3",
   "version": "3.8.0"
  }
 },
 "nbformat": 4,
 "nbformat_minor": 4
}