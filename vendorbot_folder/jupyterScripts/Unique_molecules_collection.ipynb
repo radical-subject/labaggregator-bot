{
 "cells": [
  {
   "cell_type": "code",
   "execution_count": 52,
   "source": [
    "import sys,os\r\n",
    "sys.path.append(\"..\")\r\n",
    "\r\n",
    "MONGO_URL=\"localhost:27017\"\r\n",
    "os.environ[\"MONGO_URL\"] = MONGO_URL\r\n",
    "\r\n",
    "MONGO_VENDORBOT_DATABASE = \"vendorbot_db\"\r\n",
    "os.environ[\"MONGO_VENDORBOT_DATABASE\"] = MONGO_VENDORBOT_DATABASE\r\n",
    "\r\n",
    "MOLECULES_DATABASE = \"molecules_db\"\r\n",
    "os.environ[\"MOLECULES_DATABASE\"] = MOLECULES_DATABASE\r\n",
    "\r\n",
    "MONGO_BOT_USERNAME=\"bot\"\r\n",
    "os.environ[\"MONGO_BOT_USERNAME\"] = MONGO_BOT_USERNAME\r\n",
    "\r\n",
    "MONGO_BOT_PASSWORD=\"botpsswd\"\r\n",
    "os.environ[\"MONGO_BOT_PASSWORD\"] = MONGO_BOT_PASSWORD\r\n",
    "\r\n",
    "from modules.db.dbconfig import db_client\r\n",
    "from modules.db.users import UsersCollection\r\n",
    "from modules.db.unique_molecules import UniqueMolecules\r\n",
    "\r\n",
    "# collections of data to work with\r\n",
    "users_collection = UsersCollection(db_client, MONGO_VENDORBOT_DATABASE)\r\n",
    "unique_molecules_collection = UniqueMolecules(db_client, MOLECULES_DATABASE)\r\n",
    "\r\n",
    "print(db_client)\r\n",
    "db_client.list_database_names()"
   ],
   "outputs": [
    {
     "output_type": "stream",
     "name": "stdout",
     "text": [
      "MongoClient(host=['localhost:27017'], document_class=dict, tz_aware=False, connect=True, authsource='admin', connecttimeoutms=5)\n"
     ]
    },
    {
     "output_type": "execute_result",
     "data": {
      "text/plain": [
       "['admin',\n",
       " 'blacklist_rdkit_db',\n",
       " 'config',\n",
       " 'local',\n",
       " 'molecules_db',\n",
       " 'test_db',\n",
       " 'vendorbot_db']"
      ]
     },
     "metadata": {},
     "execution_count": 52
    }
   ],
   "metadata": {}
  },
  {
   "cell_type": "code",
   "execution_count": 53,
   "source": [
    "\r\n",
    "user_id = 122267418\r\n",
    "query = {\"user_id\": user_id}\r\n",
    "users_collection.count_documents({\"user_id\": user_id}) "
   ],
   "outputs": [
    {
     "output_type": "error",
     "ename": "AttributeError",
     "evalue": "'UsersCollection' object has no attribute 'count_documents'",
     "traceback": [
      "\u001b[1;31m---------------------------------------------------------------------------\u001b[0m",
      "\u001b[1;31mAttributeError\u001b[0m                            Traceback (most recent call last)",
      "Input \u001b[1;32mIn [53]\u001b[0m, in \u001b[0;36m<cell line: 3>\u001b[1;34m()\u001b[0m\n\u001b[0;32m      1\u001b[0m user_id \u001b[38;5;241m=\u001b[39m \u001b[38;5;241m122267418\u001b[39m\n\u001b[0;32m      2\u001b[0m query \u001b[38;5;241m=\u001b[39m {\u001b[38;5;124m\"\u001b[39m\u001b[38;5;124muser_id\u001b[39m\u001b[38;5;124m\"\u001b[39m: user_id}\n\u001b[1;32m----> 3\u001b[0m \u001b[43musers_collection\u001b[49m\u001b[38;5;241;43m.\u001b[39;49m\u001b[43mcount_documents\u001b[49m({\u001b[38;5;124m\"\u001b[39m\u001b[38;5;124muser_id\u001b[39m\u001b[38;5;124m\"\u001b[39m: user_id})\n",
      "\u001b[1;31mAttributeError\u001b[0m: 'UsersCollection' object has no attribute 'count_documents'"
     ]
    }
   ],
   "metadata": {}
  },
  {
   "cell_type": "code",
   "execution_count": 54,
   "source": [
    "query = {'index': moldoc['index']}\r\n",
    "unique_molecules_collection.count_documents({\"index\": index}) "
   ],
   "outputs": [
    {
     "output_type": "error",
     "ename": "AttributeError",
     "evalue": "'UniqueMolecules' object has no attribute 'count_documents'",
     "traceback": [
      "\u001b[1;31m---------------------------------------------------------------------------\u001b[0m",
      "\u001b[1;31mAttributeError\u001b[0m                            Traceback (most recent call last)",
      "Input \u001b[1;32mIn [54]\u001b[0m, in \u001b[0;36m<cell line: 2>\u001b[1;34m()\u001b[0m\n\u001b[0;32m      1\u001b[0m query \u001b[38;5;241m=\u001b[39m {\u001b[38;5;124m'\u001b[39m\u001b[38;5;124mindex\u001b[39m\u001b[38;5;124m'\u001b[39m: moldoc[\u001b[38;5;124m'\u001b[39m\u001b[38;5;124mindex\u001b[39m\u001b[38;5;124m'\u001b[39m]}\n\u001b[1;32m----> 2\u001b[0m \u001b[43munique_molecules_collection\u001b[49m\u001b[38;5;241;43m.\u001b[39;49m\u001b[43mcount_documents\u001b[49m({\u001b[38;5;124m\"\u001b[39m\u001b[38;5;124mindex\u001b[39m\u001b[38;5;124m\"\u001b[39m: index})\n",
      "\u001b[1;31mAttributeError\u001b[0m: 'UniqueMolecules' object has no attribute 'count_documents'"
     ]
    }
   ],
   "metadata": {}
  },
  {
   "cell_type": "code",
   "execution_count": 55,
   "source": [
    "from rdkit import Chem\r\n",
    "##########################\r\n",
    "#FIXING CHARGED MOLECULES#\r\n",
    "##########################\r\n",
    "def neutralize_atoms(mol):\r\n",
    "    '''\r\n",
    "    atom neutralizer\r\n",
    "    '''\r\n",
    "    pattern = Chem.MolFromSmarts(\"[+1!h0!$([*]~[-1,-2,-3,-4]),-1!$([*]~[+1,+2,+3,+4])]\")\r\n",
    "    at_matches = mol.GetSubstructMatches(pattern)\r\n",
    "    at_matches_list = [y[0] for y in at_matches]\r\n",
    "    if len(at_matches_list) > 0:\r\n",
    "        for at_idx in at_matches_list:\r\n",
    "            atom = mol.GetAtomWithIdx(at_idx)\r\n",
    "            chg = atom.GetFormalCharge()\r\n",
    "            hcount = atom.GetTotalNumHs()\r\n",
    "            atom.SetFormalCharge(0)\r\n",
    "            atom.SetNumExplicitHs(hcount - chg)\r\n",
    "            atom.UpdatePropertyCache()\r\n",
    "    return mol\r\n",
    "\r\n",
    "from rdkit.Chem.rdmolops import GetFormalCharge\r\n",
    "def charge_fixer(SMILES):\r\n",
    "    '''\r\n",
    "    Neutralize molecules atom by atom\r\n",
    "    '''\r\n",
    "    # Create RDKit molecular objects\r\n",
    "    mol = Chem.MolFromSmiles(smiles)\r\n",
    "    if GetFormalCharge(mol) != 0:\r\n",
    "        neutralize_atoms(mol)\r\n",
    "    return Chem.MolToSmiles(mol)"
   ],
   "outputs": [],
   "metadata": {}
  },
  {
   "cell_type": "code",
   "execution_count": 56,
   "source": [
    "# SMILES\r\n",
    "smiles = 'CC[C@H]([NH3+])CO'"
   ],
   "outputs": [],
   "metadata": {}
  },
  {
   "cell_type": "code",
   "execution_count": 57,
   "source": [
    "from mongordkit.Database import write\r\n",
    "from mongordkit.Search import similarity, substructure\r\n",
    "from mongordkit.Database import registration"
   ],
   "outputs": [],
   "metadata": {}
  },
  {
   "cell_type": "code",
   "execution_count": 59,
   "source": [
    "SMILES = 'C[C@H](N)CO'\r\n",
    "reagent_internal_id = 'a05785ae720b414ca41526baf22bc026'\r\n",
    "user_id = 122267418\r\n",
    "query = {\"user_id\": user_id}\r\n",
    "\r\n",
    "def reagent_registration(SMILES, reagent_internal_id):\r\n",
    "\r\n",
    "    molfile = Chem.MolFromSmiles(SMILES)\r\n",
    "    scheme = registration.MolDocScheme()\r\n",
    "    scheme.add_value_field('reagent_internal_id_list', [reagent_internal_id])\r\n",
    "    moldoc = scheme.generate_mol_doc(molfile)\r\n",
    "\r\n",
    "    result = write.WriteFromMolList(db_client[MOLECULES_DATABASE].unique_molecules_collection, [molfile], scheme=scheme) \r\n",
    "\r\n",
    "    # print(query)\r\n",
    "    if result == 0:\r\n",
    "\r\n",
    "        reagent_internal_id_list = unique_molecules_collection.get_molecule(moldoc['index'])[\"value_data\"]['reagent_internal_id_list']\r\n",
    "        \r\n",
    "        if reagent_internal_id not in reagent_internal_id_list:\r\n",
    "            reagent_internal_id_list.append(reagent_internal_id)\r\n",
    "\r\n",
    "            scheme.add_value_field('reagent_internal_id_list', reagent_internal_id_list)\r\n",
    "\r\n",
    "            moldoc = scheme.generate_mol_doc(molfile)\r\n",
    "            unique_molecules_collection.update_molecule(moldoc['index'], moldoc)\r\n",
    "\r\n",
    "    # print(insertion_result.acknowledged)\r\n",
    "\r\n",
    "reagent_registration(SMILES, reagent_internal_id)"
   ],
   "outputs": [
    {
     "output_type": "stream",
     "name": "stdout",
     "text": [
      "populating mongodb collection with compounds from list...\n",
      "0 molecules successfully imported\n",
      "1 duplicates skipped\n"
     ]
    }
   ],
   "metadata": {}
  },
  {
   "cell_type": "code",
   "execution_count": 42,
   "source": [
    "molfile = Chem.MolFromSmiles(SMILES)\r\n",
    "scheme = registration.MolDocScheme()\r\n",
    "scheme.add_value_field('reagent_internal_id_list', [reagent_internal_id])\r\n",
    "moldoc = scheme.generate_mol_doc(molfile)\r\n",
    "print(moldoc)\r\n",
    "unique_molecules_collection.add_molecule(moldoc)\r\n",
    "result = write.WriteFromMolList(unique_molecules_collection, [molfile], scheme=scheme) "
   ],
   "outputs": [
    {
     "output_type": "stream",
     "name": "stdout",
     "text": [
      "{'rdmol': Binary(b'\\xef\\xbe\\xad\\xde\\x00\\x00\\x00\\x00\\r\\x00\\x00\\x00\\x00\\x00\\x00\\x00\\x00\\x00\\x00\\x00\\x05\\x00\\x00\\x00\\x04\\x00\\x00\\x00\\x80\\x01\\x06\\x00`\\x00\\x00\\x00\\x01\\x03\\x06 4\\x00\\x00\\x00\\x02\\x01\\x04\\x07\\x00`\\x00\\x00\\x00\\x01\\x02\\x06\\x00`\\x00\\x00\\x00\\x02\\x02\\x08\\x00`\\x00\\x00\\x00\\x01\\x01\\x0b\\x00\\x01\\x00\\x01\\x02\\x00\\x01\\x03\\x00\\x03\\x04\\x00\\x14\\x00\\x17\\x04\\x00\\x00\\x00\\x00\\x00\\x00\\x00\\x16', 0), 'index': 'BKMMTJMQCTUHRP-VKHMYHEASA-N', 'smiles': 'C[C@H](N)CO', 'scheme': 'default', 'hashes': {'CanonicalSmiles': 'C[C@H](N)CO', 'inchikey_standard': 'BKMMTJMQCTUHRP-VKHMYHEASA-N'}, 'fingerprints': {}, 'value_data': {'reagent_internal_id_list': ['a05785ae720b414ca41526baf22bc026']}}\n",
      "populating mongodb collection with compounds from list...\n"
     ]
    },
    {
     "output_type": "error",
     "ename": "AttributeError",
     "evalue": "'UniqueMolecules' object has no attribute 'count_documents'",
     "traceback": [
      "\u001b[1;31m---------------------------------------------------------------------------\u001b[0m",
      "\u001b[1;31mAttributeError\u001b[0m                            Traceback (most recent call last)",
      "Input \u001b[1;32mIn [42]\u001b[0m, in \u001b[0;36m<cell line: 7>\u001b[1;34m()\u001b[0m\n\u001b[0;32m      5\u001b[0m \u001b[38;5;28mprint\u001b[39m(moldoc)\n\u001b[0;32m      6\u001b[0m unique_molecules_collection\u001b[38;5;241m.\u001b[39madd_molecule(moldoc)\n\u001b[1;32m----> 7\u001b[0m result \u001b[38;5;241m=\u001b[39m \u001b[43mwrite\u001b[49m\u001b[38;5;241;43m.\u001b[39;49m\u001b[43mWriteFromMolList\u001b[49m\u001b[43m(\u001b[49m\u001b[43munique_molecules_collection\u001b[49m\u001b[43m,\u001b[49m\u001b[43m \u001b[49m\u001b[43m[\u001b[49m\u001b[43mmolfile\u001b[49m\u001b[43m]\u001b[49m\u001b[43m,\u001b[49m\u001b[43m \u001b[49m\u001b[43mscheme\u001b[49m\u001b[38;5;241;43m=\u001b[39;49m\u001b[43mscheme\u001b[49m\u001b[43m)\u001b[49m\n",
      "File \u001b[1;32mc:\\files\\github\\mongo-rdkit-master\\mongordkit\\Database\\write.py:92\u001b[0m, in \u001b[0;36mWriteFromMolList\u001b[1;34m(mol_collection, list, scheme, reg_collection, chunk_size, limit)\u001b[0m\n\u001b[0;32m     90\u001b[0m     \u001b[38;5;28;01mcontinue\u001b[39;00m\n\u001b[0;32m     91\u001b[0m index \u001b[38;5;241m=\u001b[39m scheme\u001b[38;5;241m.\u001b[39mget_index_value(rdmol)\n\u001b[1;32m---> 92\u001b[0m \u001b[38;5;28;01mif\u001b[39;00m \u001b[43mmol_collection\u001b[49m\u001b[38;5;241;43m.\u001b[39;49m\u001b[43mcount_documents\u001b[49m({\u001b[38;5;124m\"\u001b[39m\u001b[38;5;124mindex\u001b[39m\u001b[38;5;124m\"\u001b[39m: index}) \u001b[38;5;241m!=\u001b[39m \u001b[38;5;241m0\u001b[39m:\n\u001b[0;32m     93\u001b[0m     duplicates \u001b[38;5;241m+\u001b[39m\u001b[38;5;241m=\u001b[39m \u001b[38;5;241m1\u001b[39m\n\u001b[0;32m     94\u001b[0m     \u001b[38;5;28;01mcontinue\u001b[39;00m\n",
      "\u001b[1;31mAttributeError\u001b[0m: 'UniqueMolecules' object has no attribute 'count_documents'"
     ]
    }
   ],
   "metadata": {}
  },
  {
   "cell_type": "code",
   "execution_count": null,
   "source": [
    "print(unique_molecules_collection)"
   ],
   "outputs": [],
   "metadata": {}
  },
  {
   "cell_type": "code",
   "execution_count": 86,
   "source": [
    "from rdkit import RDLogger, Chem\r\n",
    "from mongordkit.Database import write\r\n",
    "from mongordkit.Search import similarity, substructure\r\n",
    "\r\n",
    "from rdkit.Chem import PandasTools, SanitizeMol\r\n",
    "\r\n",
    "\r\n",
    "# Search.PrepareForSearch(rdkit_db, rdkit_db.molecules, rdkit_db.mfp_counts, rdkit_db.permutations)\r\n",
    "substructure.AddPatternFingerprints(unique_molecules_collection)\r\n",
    "similarity.AddMorganFingerprints(unique_molecules_collection, db_client[MOLECULES_DATABASE].mfp_counts)\r\n",
    "\r\n",
    "# Generate 100 different permutations of length 2048 and save them in demo_db.permutations as separate documents.\r\n",
    "similarity.AddRandPermutations(db_client[MOLECULES_DATABASE].permutations)\r\n",
    "\r\n",
    "# Add locality-sensitive hash values to each documents in demo_db.molecules by splitting the 100 different permutations\r\n",
    "# in demo_db.permutations into 25 different buckets.\r\n",
    "similarity.AddLocalityHashes(unique_molecules_collection, db_client[MOLECULES_DATABASE].permutations, 25)\r\n",
    "\r\n",
    "# Create 25 different collections in db_demo each store a subset of hash values for molecules in demo_db.molecules.\r\n",
    "similarity.AddHashCollections(db_client[MOLECULES_DATABASE], unique_molecules_collection)"
   ],
   "outputs": [],
   "metadata": {}
  },
  {
   "cell_type": "code",
   "execution_count": null,
   "source": [
    "from operator import itemgetter\r\n",
    "def similarity_search(database, smiles: str):\r\n",
    "    \"\"\"\r\n",
    "    Ищем похожие реагенты умными функциями\r\n",
    "    :param smiles:\r\n",
    "    :return: отсортированный по похожести список реагентов\r\n",
    "    \"\"\"\r\n",
    "    smiles = smiles.replace(\"|\", \"\")  # вертикальная черта в SMILES - непонятно что несёт, и RDKIT ее не понимает, убираем ее\r\n",
    "    mol = Chem.MolFromSmiles(smiles)\r\n",
    "\r\n",
    "    if not mol:\r\n",
    "        raise Exception(\"MolFromSmiles returned None\")\r\n",
    "\r\n",
    "    res = similarity.SimSearchAggregate(mol, database.unique_molecules_collection, database.mfp_counts, 0.1)\r\n",
    "\r\n",
    "    if not res:\r\n",
    "        return\r\n",
    "\r\n",
    "    res = sorted(res, key=itemgetter(0), reverse=True)\r\n",
    "\r\n",
    "    if res[0] is None:\r\n",
    "        raise Exception(f\"incorrect result: {str(res)}\")\r\n",
    "\r\n",
    "    return res"
   ],
   "outputs": [],
   "metadata": {}
  },
  {
   "cell_type": "code",
   "execution_count": 87,
   "source": [
    "def get_most_similar_reagent(SMILES):\r\n",
    "    \r\n",
    "    best_similarity_result_id = similarity_search(db_client[MONGO_VENDORBOT_DATABASE], SMILES)[0][1]\r\n",
    "    reagent_internal_id_list = unique_molecules_collection.get_molecule(best_similarity_result_id)[\"value_data\"]['reagent_internal_id_list']\r\n",
    "\r\n",
    "    return reagent_internal_id_list\r\n",
    "\r\n",
    "SMILES = 'CCN=C=NCCCN(C)C'\r\n",
    "get_most_similar_reagent(SMILES)\r\n",
    "user_id = \"122267418\"\r\n",
    "\r\n",
    "def batch_reagent_registration(user_id: str):\r\n",
    "    reagent_list = users_collection.get_reagents(user_id)\r\n",
    "\r\n",
    "    for reagent in reagent_list:\r\n",
    "        SMILES = reagent['SMILES']\r\n",
    "        reagent_internal_id = reagent['reagent_internal_id']\r\n",
    "        reagent_registration(SMILES, reagent_internal_id)"
   ],
   "outputs": [],
   "metadata": {}
  },
  {
   "cell_type": "code",
   "execution_count": 60,
   "source": [
    "from modules.db.dbschema import UserReagents"
   ],
   "outputs": [],
   "metadata": {}
  },
  {
   "cell_type": "code",
   "execution_count": 68,
   "source": [
    "user_reagents = UserReagents(users_collection.get_user(user_id))\r\n",
    "user_reagents.export()\r\n"
   ],
   "outputs": [
    {
     "output_type": "execute_result",
     "data": {
      "text/plain": [
       "{'_id': '9e9dab00e5f842ab90d156e90b618bb1',\n",
       " 'args': ({'_id': 122267418,\n",
       "   'user_id': 122267418,\n",
       "   'username': 'radical_subject',\n",
       "   'firstname': 'Oleg',\n",
       "   'lastname': 'Fedorov',\n",
       "   'phone_number': '',\n",
       "   'user_reagents': [{'reagent_internal_id': 'd4bfb66beacb43cda65827b3ad458dc0',\n",
       "     'CAS': '3849-21-6',\n",
       "     'SMILES': 'CCOC(=O)/C(C#N)=N/O',\n",
       "     'sharing_status': 'shared',\n",
       "     'timestamp': '20.09.2022 14:58'},\n",
       "    {'reagent_internal_id': '284519ce7d644cd6ae3a167ae075f01e',\n",
       "     'CAS': '153433-21-7',\n",
       "     'SMILES': 'CCOC(=O)/C(C#N)=N/O[P+](N1CCCC1)(N1CCCC1)N1CCCC1.F[P-](F)(F)(F)(F)F',\n",
       "     'sharing_status': 'shared',\n",
       "     'timestamp': '20.09.2022 14:58'},\n",
       "    {'reagent_internal_id': 'e81f36465b9b484fa799ad72eb2895d0',\n",
       "     'CAS': '158014-03-0',\n",
       "     'SMILES': 'CCOC(=O)/C(C#N)=N/[O-].[K+]',\n",
       "     'sharing_status': 'shared',\n",
       "     'timestamp': '20.09.2022 14:58'},\n",
       "    {'reagent_internal_id': '9316cce78f854b80989178185aac1621',\n",
       "     'CAS': '958029-37-3',\n",
       "     'SMILES': 'C[N+](C)=C(N1CCOCC1)n1n[n+]([O-])c2ncccc21.F[P-](F)(F)(F)(F)F',\n",
       "     'sharing_status': 'shared',\n",
       "     'timestamp': '20.09.2022 14:58'},\n",
       "    {'reagent_internal_id': '10e039e308d74013a11326fcc643ef37',\n",
       "     'CAS': '330645-87-9',\n",
       "     'SMILES': 'CN(C)C(On1nnc2ccc(Cl)cc21)=[N+](C)C.F[P-](F)(F)(F)(F)F',\n",
       "     'sharing_status': 'shared',\n",
       "     'timestamp': '20.09.2022 14:58'},\n",
       "    {'reagent_internal_id': 'aa53adc38cd04f54a1a89946421a421b',\n",
       "     'CAS': '693-13-0',\n",
       "     'SMILES': 'CC(C)N=C=NC(C)C',\n",
       "     'sharing_status': 'shared',\n",
       "     'timestamp': '20.09.2022 14:58'},\n",
       "    {'reagent_internal_id': '4205488bffdd4114b7da91c431f288ba',\n",
       "     'CAS': '6485-79-6',\n",
       "     'SMILES': 'CC(C)[SiH](C(C)C)C(C)C',\n",
       "     'sharing_status': 'shared',\n",
       "     'timestamp': '20.09.2022 14:58'},\n",
       "    {'reagent_internal_id': '530acc6ea2de440299aa84212996d49f',\n",
       "     'CAS': '123333-53-9',\n",
       "     'SMILES': 'O.On1nnc2ccccc21',\n",
       "     'sharing_status': 'shared',\n",
       "     'timestamp': '20.09.2022 14:58'},\n",
       "    {'reagent_internal_id': 'c1432e247c974bea96971cc96259bceb',\n",
       "     'CAS': '86123-11-7',\n",
       "     'SMILES': 'O=C(N[C@H](Cc1c[nH]c2ccccc12)C(=O)O)OCC1c2ccccc2-c2ccccc21',\n",
       "     'sharing_status': 'shared',\n",
       "     'timestamp': '20.09.2022 14:58'},\n",
       "    {'reagent_internal_id': '7af51e29a58d4c0d9cf1a563099a64bf',\n",
       "     'CAS': '86123-10-6',\n",
       "     'SMILES': 'O=C(N[C@H](Cc1ccccc1)C(=O)O)OCC1c2ccccc2-c2ccccc21',\n",
       "     'sharing_status': 'shared',\n",
       "     'timestamp': '20.09.2022 14:58'},\n",
       "    {'reagent_internal_id': '86bceb7813cb470aab782036802953d9',\n",
       "     'CAS': '103213-32-7',\n",
       "     'SMILES': 'O=C(N[C@@H](CSC(c1ccccc1)(c1ccccc1)c1ccccc1)C(=O)O)OCC1c2ccccc2-c2ccccc21',\n",
       "     'sharing_status': 'shared',\n",
       "     'timestamp': '20.09.2022 14:58'},\n",
       "    {'reagent_internal_id': 'df2beabbc3f64c7092bba462b71cfd2e',\n",
       "     'CAS': '58438-03-2',\n",
       "     'SMILES': 'N[C@@H](Cc1ccc2ccccc2c1)C(=O)O',\n",
       "     'sharing_status': 'shared',\n",
       "     'timestamp': '20.09.2022 14:58'},\n",
       "    {'reagent_internal_id': '6a7fc5e6e2714f33982010e66c11d1bf',\n",
       "     'CAS': '125700-67-6',\n",
       "     'SMILES': 'CN(C)C(=[O+]n1nnc2ccccc21)N(C)C.[B+3].[F-].[F-].[F-].[F-]',\n",
       "     'sharing_status': 'shared',\n",
       "     'timestamp': '20.09.2022 14:58'},\n",
       "    {'reagent_internal_id': '0791b8595d964b59b0b6974ecb9a7d1e',\n",
       "     'CAS': '96402-49-2',\n",
       "     'SMILES': 'O=C(N[C@@H](Cc1cccc2ccccc12)C(=O)O)OCC1c2ccccc2-c2ccccc21',\n",
       "     'sharing_status': 'shared',\n",
       "     'timestamp': '20.09.2022 14:58'},\n",
       "    {'reagent_internal_id': '3121cf4d66534009aa6265a6d46683c7',\n",
       "     'CAS': '112883-43-9',\n",
       "     'SMILES': 'O=C(N[C@@H](Cc1ccc2ccccc2c1)C(=O)O)OCC1c2ccccc2-c2ccccc21',\n",
       "     'sharing_status': 'shared',\n",
       "     'timestamp': '20.09.2022 14:58'},\n",
       "    {'reagent_internal_id': '3279f8ec24e8467b8f29bf2ad8a9d791',\n",
       "     'CAS': '71989-35-0',\n",
       "     'SMILES': 'C[C@@H](OC(C)(C)C)[C@H](NC(=O)OCC1c2ccccc2-c2ccccc21)C(=O)O',\n",
       "     'sharing_status': 'shared',\n",
       "     'timestamp': '20.09.2022 14:58'},\n",
       "    {'reagent_internal_id': 'a21d6c6a4a8744a6a730bfed218fcb25',\n",
       "     'CAS': '150629-67-7',\n",
       "     'SMILES': 'CC(=NCCCC[C@H](NC(=O)OCC1c2ccccc2-c2ccccc21)C(=O)O)C1=C(O)CC(C)(C)CC1=O',\n",
       "     'sharing_status': 'shared',\n",
       "     'timestamp': '20.09.2022 14:58'},\n",
       "    {'reagent_internal_id': '4a037d85bf8f4a19940048698bfff4c6',\n",
       "     'CAS': '56-41-7',\n",
       "     'SMILES': 'CC(N)C(=O)O',\n",
       "     'sharing_status': 'shared',\n",
       "     'timestamp': '20.09.2022 14:58'},\n",
       "    {'reagent_internal_id': '41cf899f30df4d6c860e137e65de7d7b',\n",
       "     'CAS': '538-75-0',\n",
       "     'SMILES': 'C(=NC1CCCCC1)=NC1CCCCC1',\n",
       "     'sharing_status': 'shared',\n",
       "     'timestamp': '20.09.2022 14:58'},\n",
       "    {'reagent_internal_id': '47d0c9c3695445a68378027c09774b63',\n",
       "     'CAS': '77-92-9',\n",
       "     'SMILES': 'O=C(O)CC(O)(CC(=O)O)C(=O)O',\n",
       "     'sharing_status': 'shared',\n",
       "     'timestamp': '20.09.2022 14:58'}]},)}"
      ]
     },
     "metadata": {},
     "execution_count": 68
    }
   ],
   "metadata": {}
  },
  {
   "cell_type": "code",
   "execution_count": 85,
   "source": [
    "reagent_internal_id = 'd4bfb66beacb43cda65827b3ad458dc0'\r\n",
    "if 'user_reagents' in user_reagents.export().keys():\r\n",
    "    for reagent in user_reagents.user_reagents:\r\n",
    "        print(\"check\")\r\n",
    "        if reagent_internal_id in reagent.values():\r\n",
    "            reagent['test'] = \"SUCCESS\"\r\n",
    "            print(\"reagent\")\r\n",
    "else:\r\n",
    "    print('unsuc')"
   ],
   "outputs": [
    {
     "output_type": "stream",
     "name": "stdout",
     "text": [
      "unsuc\n"
     ]
    }
   ],
   "metadata": {}
  },
  {
   "cell_type": "code",
   "execution_count": 88,
   "source": [
    "user_reagents.export().keys()"
   ],
   "outputs": [
    {
     "output_type": "execute_result",
     "data": {
      "text/plain": [
       "dict_keys(['_id', 'args'])"
      ]
     },
     "metadata": {},
     "execution_count": 88
    }
   ],
   "metadata": {}
  },
  {
   "cell_type": "code",
   "execution_count": null,
   "source": [],
   "outputs": [],
   "metadata": {}
  },
  {
   "cell_type": "code",
   "execution_count": null,
   "source": [],
   "outputs": [],
   "metadata": {}
  },
  {
   "cell_type": "code",
   "execution_count": null,
   "source": [],
   "outputs": [],
   "metadata": {}
  },
  {
   "cell_type": "code",
   "execution_count": null,
   "source": [],
   "outputs": [],
   "metadata": {}
  },
  {
   "cell_type": "code",
   "execution_count": null,
   "source": [],
   "outputs": [],
   "metadata": {}
  },
  {
   "cell_type": "code",
   "execution_count": null,
   "source": [],
   "outputs": [],
   "metadata": {}
  },
  {
   "cell_type": "code",
   "execution_count": null,
   "source": [],
   "outputs": [],
   "metadata": {}
  },
  {
   "cell_type": "code",
   "execution_count": null,
   "source": [],
   "outputs": [],
   "metadata": {}
  },
  {
   "cell_type": "code",
   "execution_count": null,
   "source": [],
   "outputs": [],
   "metadata": {}
  },
  {
   "cell_type": "code",
   "execution_count": null,
   "source": [],
   "outputs": [],
   "metadata": {}
  },
  {
   "cell_type": "code",
   "execution_count": null,
   "source": [],
   "outputs": [],
   "metadata": {}
  },
  {
   "cell_type": "code",
   "execution_count": null,
   "source": [],
   "outputs": [],
   "metadata": {}
  },
  {
   "cell_type": "code",
   "execution_count": null,
   "source": [],
   "outputs": [],
   "metadata": {}
  },
  {
   "cell_type": "code",
   "execution_count": null,
   "source": [],
   "outputs": [],
   "metadata": {}
  },
  {
   "cell_type": "code",
   "execution_count": null,
   "source": [],
   "outputs": [],
   "metadata": {}
  },
  {
   "cell_type": "code",
   "execution_count": null,
   "source": [],
   "outputs": [],
   "metadata": {}
  },
  {
   "cell_type": "code",
   "execution_count": null,
   "source": [],
   "outputs": [],
   "metadata": {}
  },
  {
   "cell_type": "code",
   "execution_count": null,
   "source": [],
   "outputs": [],
   "metadata": {}
  },
  {
   "cell_type": "code",
   "execution_count": null,
   "source": [],
   "outputs": [],
   "metadata": {}
  },
  {
   "cell_type": "code",
   "execution_count": null,
   "source": [],
   "outputs": [],
   "metadata": {}
  },
  {
   "cell_type": "code",
   "execution_count": null,
   "source": [],
   "outputs": [],
   "metadata": {}
  }
 ],
 "metadata": {
  "interpreter": {
   "hash": "ef85096f8413d07a7235613aaafb63e04025c8beca42ae3ef04cb1a8fb34d192"
  },
  "kernelspec": {
   "name": "python3",
   "display_name": "Python 3.8.0 64-bit ('vendorbot_env': conda)"
  },
  "language_info": {
   "codemirror_mode": {
    "name": "ipython",
    "version": 3
   },
   "file_extension": ".py",
   "mimetype": "text/x-python",
   "name": "python",
   "nbconvert_exporter": "python",
   "pygments_lexer": "ipython3",
   "version": "3.8.0"
  }
 },
 "nbformat": 4,
 "nbformat_minor": 4
}