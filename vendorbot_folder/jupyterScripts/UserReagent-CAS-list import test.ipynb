{
 "cells": [
  {
   "cell_type": "code",
   "execution_count": 2,
   "metadata": {},
   "outputs": [],
   "source": [
    "import sys,os\n",
    "sys.path.append(\"..\")\n",
    "\n",
    "\n",
    "\n",
    "\n",
    "\n",
    "\n",
    "from modules.db.dbschema import UserReagents\n",
    "# from modules.db.mongodb import MongoDriver"
   ]
  },
  {
   "cell_type": "code",
   "execution_count": 3,
   "metadata": {},
   "outputs": [],
   "source": [
    "test_record = {\n",
    "        \"_id\": \"980159954\",\n",
    "        \"user_id\": \"980159954\",\n",
    "        \"username\": \"@None\",\n",
    "        \"firstname\": \"Alex\",\n",
    "        \"lastname\": \"Fedorov\",\n",
    "        \"reagent_requests\": [\n",
    "            {\n",
    "                \"requested_CAS\": \"50-00-0\"\n",
    "            }\n",
    "        ],\n",
    "        \"user_reagents\": [\n",
    "            {\n",
    "                \"CAS\": \"50-00-0\",\n",
    "                \"reagent_name\": \"something 4-something\",\n",
    "                \"sharing_status\": \"shared\"\n",
    "            }\n",
    "        ]\n",
    "    }"
   ]
  },
  {
   "cell_type": "code",
   "execution_count": 4,
   "metadata": {},
   "outputs": [],
   "source": [
    "test = UserReagents(**test_record)"
   ]
  },
  {
   "cell_type": "code",
   "execution_count": 5,
   "metadata": {},
   "outputs": [
    {
     "data": {
      "text/plain": [
       "'{\"_id\": \"980159954\", \"user_id\": \"980159954\", \"username\": \"@None\", \"firstname\": \"Alex\", \"lastname\": \"Fedorov\", \"reagent_requests\": [{\"requested_CAS\": \"50-00-0\"}], \"user_reagents\": [{\"CAS\": \"50-00-0\", \"reagent_name\": \"something 4-something\", \"sharing_status\": \"shared\"}]}'"
      ]
     },
     "execution_count": 5,
     "metadata": {},
     "output_type": "execute_result"
    }
   ],
   "source": [
    "test.export()"
   ]
  },
  {
   "cell_type": "code",
   "execution_count": 6,
   "metadata": {},
   "outputs": [
    {
     "data": {
      "text/plain": [
       "'@None'"
      ]
     },
     "execution_count": 6,
     "metadata": {},
     "output_type": "execute_result"
    }
   ],
   "source": [
    "test.username"
   ]
  },
  {
   "cell_type": "code",
   "execution_count": 7,
   "metadata": {},
   "outputs": [],
   "source": [
    "import json\n",
    "new_reagent = UserReagents(**json.loads(test.export()))\n"
   ]
  },
  {
   "cell_type": "code",
   "execution_count": 8,
   "metadata": {},
   "outputs": [
    {
     "data": {
      "text/plain": [
       "'@None'"
      ]
     },
     "execution_count": 8,
     "metadata": {},
     "output_type": "execute_result"
    }
   ],
   "source": [
    "new_reagent.username"
   ]
  },
  {
   "cell_type": "code",
   "execution_count": 9,
   "metadata": {},
   "outputs": [],
   "source": [
    "# new_reagent.add_list_of_reagents(0, 0, ['123', '456', '555'])\n",
    "# # new_reagent.export()"
   ]
  },
  {
   "cell_type": "code",
   "execution_count": 10,
   "metadata": {
    "pycharm": {
     "name": "#%%\n"
    }
   },
   "outputs": [],
   "source": [
    "test_record2 = {\n",
    "        \"reagent_requests\": [\n",
    "            {\n",
    "                \"requested_CAS\": \"50-00-0\"\n",
    "            }\n",
    "        ]\n",
    "    }\n",
    "test_record2 = UserReagents(**test_record2)\n",
    "\n",
    "# test_record2.add_list_of_reagents(0, 0, ['1','2','3', '62-53-3'])\n",
    "# test_record2.export()"
   ]
  },
  {
   "cell_type": "code",
   "execution_count": 11,
   "metadata": {
    "pycharm": {
     "name": "#%%\n"
    }
   },
   "outputs": [],
   "source": [
    "# test_record2.get_user_shared_reagents()"
   ]
  },
  {
   "cell_type": "code",
   "execution_count": 12,
   "metadata": {
    "pycharm": {
     "name": "#%%\n"
    }
   },
   "outputs": [
    {
     "data": {
      "text/plain": [
       "True"
      ]
     },
     "execution_count": 12,
     "metadata": {},
     "output_type": "execute_result"
    }
   ],
   "source": [
    "test_record2.is_CAS_number('7732-18-5')"
   ]
  },
  {
   "cell_type": "code",
   "execution_count": 13,
   "metadata": {
    "pycharm": {
     "name": "#%%\n"
    }
   },
   "outputs": [],
   "source": [
    "# test_record2.resolve_CAS_to_SMILES()"
   ]
  },
  {
   "cell_type": "code",
   "execution_count": 14,
   "metadata": {},
   "outputs": [
    {
     "data": {
      "text/plain": [
       "'C1=CC=C(C=C1)N'"
      ]
     },
     "execution_count": 14,
     "metadata": {},
     "output_type": "execute_result"
    }
   ],
   "source": [
    "import os, sys\n",
    "\n",
    "from modules.ourbot.service.resolver import get_SMILES\n",
    "\n",
    "get_SMILES(\"62-53-3\")"
   ]
  },
  {
   "cell_type": "code",
   "execution_count": 15,
   "metadata": {},
   "outputs": [],
   "source": [
    "import os\n",
    "import pandas as pd\n",
    "data = pd.read_csv('../srs/user_reagent_lists_import/radical_subject_reagents.txt', header = None)\n",
    "radical_subject_reagents_list = data[0].tolist()\n",
    "\n",
    "data = pd.read_csv('../srs/user_reagent_lists_import/Chusov_1.txt', header = None)\n",
    "chusov_reagents_list = data[0].tolist()"
   ]
  },
  {
   "cell_type": "code",
   "execution_count": 16,
   "metadata": {},
   "outputs": [],
   "source": [
    "import sys,os\n",
    "sys.path.append(\"..\")\n",
    "\n",
    "MONGO_URL=\"localhost:27017\"\n",
    "os.environ[\"MONGO_URL\"] = MONGO_URL\n",
    "\n",
    "MONGO_INITDB_ROOT_USERNAME=\"root\" # \n",
    "os.environ[\"MONGO_INITDB_ROOT_USERNAME\"] = MONGO_INITDB_ROOT_USERNAME\n",
    "\n",
    "MONGO_INITDB_ROOT_PASSWORD=\"dr5[gnhn\" # \n",
    "os.environ[\"MONGO_INITDB_ROOT_PASSWORD\"] = MONGO_INITDB_ROOT_PASSWORD\n",
    "\n",
    "DATABASE_NAME = \"admin\"\n",
    "os.environ[\"MONGO_INITDB_DATABASE\"] = DATABASE_NAME\n",
    "\n",
    "MONGO_VENDORBOT_DATABASE = \"vendorbot_db\"\n",
    "os.environ[\"MONGO_VENDORBOT_DATABASE\"] = MONGO_VENDORBOT_DATABASE\n",
    "\n",
    "MONGO_BOT_USERNAME=\"bot\"\n",
    "os.environ[\"MONGO_BOT_USERNAME\"] = MONGO_BOT_USERNAME\n",
    "\n",
    "MONGO_BOT_PASSWORD=\"botpsswd\"\n",
    "os.environ[\"MONGO_BOT_PASSWORD\"] = MONGO_BOT_PASSWORD\n",
    "\n",
    "# timerbot_credentials = dict(\n",
    "#     DATABASE_NAME = \"timerbot_db\",\n",
    "#     DATABASE_HOST = MONGO_URL,\n",
    "#     DATABASE_ADMIN_USERNAME = MONGO_BOT_USERNAME,\n",
    "#     DATABASE_ADMIN_PASSWORD = MONGO_BOT_PASSWORD\n",
    "# )\n",
    "\n",
    "# root_credentials = dict(\n",
    "#     DATABASE_NAME = \"timerbot_db\",\n",
    "#     DATABASE_HOST = MONGO_URL,\n",
    "#     DATABASE_ADMIN_USERNAME = MONGO_INITDB_ROOT_USERNAME,\n",
    "#     DATABASE_ADMIN_PASSWORD = MONGO_INITDB_ROOT_PASSWORD\n",
    "# )\n",
    "\n",
    "# database credentials extractor import\n",
    "from modules.db.dbconfig import root_credentials, timerbot_credentials, blacklist_rdkit_credentials\n",
    "from modules.db.mongodb import MongoDriver\n",
    "\n",
    "db_instances = dict(root=MongoDriver(root_credentials), timerbot_db=MongoDriver(blacklist_rdkit_credentials))\n",
    "# print(db_instances)\n",
    "# print(root_credentials)\n",
    "# print(timerbot_credentials)\n",
    "\n",
    "сlient = MongoDriver(blacklist_rdkit_credentials).client\n",
    "db_instance = MongoDriver(blacklist_rdkit_credentials)\n",
    "# collection_name = \"timer_data_collection\"\n",
    "# user_id = 122267418\n",
    "# query = {\"user_id\": user_id}\n",
    "\n",
    "# print(client)\n",
    "# client.list_database_names()"
   ]
  },
  {
   "cell_type": "code",
   "execution_count": 18,
   "metadata": {},
   "outputs": [
    {
     "name": "stdout",
     "output_type": "stream",
     "text": [
      "Elapsed time: 16.7410 seconds\n"
     ]
    },
    {
     "data": {
      "text/plain": [
       "16.740952399999998"
      ]
     },
     "execution_count": 18,
     "metadata": {},
     "output_type": "execute_result"
    }
   ],
   "source": [
    "timer.start()\n",
    "test_record2.add_list_of_reagents(0, 0, сlient, db_instance, radical_subject_reagents_list)\n",
    "timer.stop()"
   ]
  },
  {
   "cell_type": "code",
   "execution_count": 3,
   "metadata": {},
   "outputs": [],
   "source": [
    "from modules.ourbot.service.resolver import resolve\n",
    "from modules.ourbot.service.timer import Timer\n",
    "\n",
    "timer = Timer()"
   ]
  },
  {
   "cell_type": "code",
   "execution_count": 19,
   "metadata": {},
   "outputs": [
    {
     "name": "stdout",
     "output_type": "stream",
     "text": [
      "[{'CAS': '3849-21-6', 'sharing_status': 'shared', 'contact': 0, 'SMILES': 'CCOC(=O)/C(=N/O)/C#N'}, {'CAS': '153433-21-7', 'sharing_status': 'shared', 'contact': 0, 'SMILES': 'CCOC(=O)/C(=N/O[P+](N1CCCC1)(N2CCCC2)N3CCCC3)/C#N.F[P-](F)(F)(F)(F)F'}, {'CAS': '158014-03-0', 'sharing_status': 'shared', 'contact': 0, 'SMILES': 'CCOC(=O)/C(=N/[O-])/C#N.[K+]'}, {'CAS': '958029-37-3', 'sharing_status': 'shared', 'contact': 0, 'SMILES': 'C[N+](=C(N1CCOCC1)N2C3=C(N=CC=C3)[N+](=N2)[O-])C.F[P-](F)(F)(F)(F)F'}, {'CAS': '330645-87-9', 'sharing_status': 'shared', 'contact': 0, 'SMILES': 'CN(C)C(=[N+](C)C)ON1C2=C(C=CC(=C2)Cl)N=N1.F[P-](F)(F)(F)(F)F'}, {'CAS': '693-13-0', 'sharing_status': 'shared', 'contact': 0, 'SMILES': 'CC(C)N=C=NC(C)C'}, {'CAS': '6485-79-6', 'sharing_status': 'shared', 'contact': 0, 'SMILES': 'CC(C)[Si](C(C)C)C(C)C'}, {'CAS': '123333-53-9', 'sharing_status': 'shared', 'contact': 0, 'SMILES': 'C1=CC=C2C(=C1)N=NN2O.O'}, {'CAS': '86123-11-7', 'sharing_status': 'shared', 'contact': 0, 'SMILES': 'C1=CC=C2C(=C1)C(C3=CC=CC=C32)COC(=O)N[C@H](CC4=CNC5=CC=CC=C54)C(=O)O'}, {'CAS': '86123-10-6', 'sharing_status': 'shared', 'contact': 0, 'SMILES': 'C1=CC=C(C=C1)C[C@H](C(=O)O)NC(=O)OCC2C3=CC=CC=C3C4=CC=CC=C24'}, {'CAS': '103213-32-7', 'sharing_status': 'shared', 'contact': 0, 'SMILES': 'C1=CC=C(C=C1)C(C2=CC=CC=C2)(C3=CC=CC=C3)SC[C@@H](C(=O)O)NC(=O)OCC4C5=CC=CC=C5C6=CC=CC=C46'}, {'CAS': '58438-03-2', 'sharing_status': 'shared', 'contact': 0, 'SMILES': 'C1=CC=C2C=C(C=CC2=C1)C[C@@H](C(=O)O)N'}, {'CAS': '125700-67-6', 'sharing_status': 'shared', 'contact': 0, 'SMILES': '[B-](F)(F)(F)F.CN(C)C(=[N+](C)C)ON1C2=CC=CC=C2N=N1'}, {'CAS': '96402-49-2', 'sharing_status': 'shared', 'contact': 0, 'SMILES': 'C1=CC=C2C(=C1)C=CC=C2C[C@@H](C(=O)O)NC(=O)OCC3C4=CC=CC=C4C5=CC=CC=C35'}, {'CAS': '112883-43-9', 'sharing_status': 'shared', 'contact': 0, 'SMILES': 'C1=CC=C2C=C(C=CC2=C1)C[C@@H](C(=O)O)NC(=O)OCC3C4=CC=CC=C4C5=CC=CC=C35'}, {'CAS': '71989-35-0', 'sharing_status': 'shared', 'contact': 0, 'SMILES': 'C[C@H]([C@@H](C(=O)O)NC(=O)OCC1C2=CC=CC=C2C3=CC=CC=C13)OC(C)(C)C'}, {'CAS': '150629-67-7', 'sharing_status': 'shared', 'contact': 0, 'SMILES': 'CC(=NCCCC[C@@H](C(=O)O)NC(=O)OCC1C2=CC=CC=C2C3=CC=CC=C13)C4=C(CC(CC4=O)(C)C)O'}, {'CAS': '56-41-7', 'sharing_status': 'shared', 'contact': 0, 'SMILES': 'C[C@@H](C(=O)O)N'}, {'CAS': '538-75-0', 'sharing_status': 'shared', 'contact': 0, 'SMILES': 'C1CCC(CC1)N=C=NC2CCCCC2'}, {'CAS': '77-92-9', 'sharing_status': 'shared', 'contact': 0, 'SMILES': 'C(C(=O)O)C(CC(=O)O)(C(=O)O)O'}]\n",
      "Elapsed time: 0.0002 seconds\n"
     ]
    },
    {
     "data": {
      "text/plain": [
       "0.0002077000000042517"
      ]
     },
     "execution_count": 19,
     "metadata": {},
     "output_type": "execute_result"
    }
   ],
   "source": [
    "timer.start()\n",
    "print(test_record2.user_reagents)\n",
    "timer.stop()"
   ]
  },
  {
   "cell_type": "code",
   "execution_count": null,
   "metadata": {},
   "outputs": [],
   "source": [
    "test_record2.resolve_CAS_to_SMILES()"
   ]
  },
  {
   "cell_type": "code",
   "execution_count": null,
   "metadata": {},
   "outputs": [],
   "source": [
    "test_record2.export()"
   ]
  },
  {
   "cell_type": "code",
   "execution_count": null,
   "metadata": {},
   "outputs": [],
   "source": [
    "import sys,os\n",
    "sys.path.append(\"..\")\n",
    "\n",
    "MONGO_URL=\"localhost:27017\"\n",
    "os.environ[\"MONGO_URL\"] = MONGO_URL\n",
    "\n",
    "MONGO_INITDB_ROOT_USERNAME=\"root\" # \n",
    "os.environ[\"MONGO_INITDB_ROOT_USERNAME\"] = MONGO_INITDB_ROOT_USERNAME\n",
    "\n",
    "MONGO_INITDB_ROOT_PASSWORD=\"dr5[gnhn\" # \n",
    "os.environ[\"MONGO_INITDB_ROOT_PASSWORD\"] = MONGO_INITDB_ROOT_PASSWORD\n",
    "\n",
    "DATABASE_NAME = \"admin\"\n",
    "os.environ[\"MONGO_INITDB_DATABASE\"] = DATABASE_NAME\n",
    "\n",
    "MONGO_VENDORBOT_DATABASE = \"vendorbot_db\"\n",
    "os.environ[\"MONGO_VENDORBOT_DATABASE\"] = MONGO_VENDORBOT_DATABASE\n",
    "\n",
    "MONGO_BOT_USERNAME=\"bot\"\n",
    "os.environ[\"MONGO_BOT_USERNAME\"] = MONGO_BOT_USERNAME\n",
    "\n",
    "MONGO_BOT_PASSWORD=\"botpsswd\"\n",
    "os.environ[\"MONGO_BOT_PASSWORD\"] = MONGO_BOT_PASSWORD\n",
    "\n",
    "# timerbot_credentials = dict(\n",
    "#     DATABASE_NAME = \"timerbot_db\",\n",
    "#     DATABASE_HOST = MONGO_URL,\n",
    "#     DATABASE_ADMIN_USERNAME = MONGO_BOT_USERNAME,\n",
    "#     DATABASE_ADMIN_PASSWORD = MONGO_BOT_PASSWORD\n",
    "# )\n",
    "\n",
    "# root_credentials = dict(\n",
    "#     DATABASE_NAME = \"timerbot_db\",\n",
    "#     DATABASE_HOST = MONGO_URL,\n",
    "#     DATABASE_ADMIN_USERNAME = MONGO_INITDB_ROOT_USERNAME,\n",
    "#     DATABASE_ADMIN_PASSWORD = MONGO_INITDB_ROOT_PASSWORD\n",
    "# )\n",
    "\n",
    "# database credentials extractor import\n",
    "from modules.db.dbconfig import root_credentials, timerbot_credentials, blacklist_rdkit_credentials\n",
    "from modules.db.mongodb import MongoDriver\n",
    "\n",
    "db_instances = dict(root=MongoDriver(root_credentials), timerbot_db=MongoDriver(blacklist_rdkit_credentials))\n",
    "# print(db_instances)\n",
    "# print(root_credentials)\n",
    "# print(timerbot_credentials)\n",
    "\n",
    "client = MongoDriver(blacklist_rdkit_credentials).client\n",
    "db_instance = MongoDriver(blacklist_rdkit_credentials)\n",
    "# collection_name = \"timer_data_collection\"\n",
    "# user_id = 122267418\n",
    "# query = {\"user_id\": user_id}\n",
    "\n",
    "# print(client)\n",
    "# client.list_database_names()"
   ]
  },
  {
   "cell_type": "code",
   "execution_count": null,
   "metadata": {},
   "outputs": [],
   "source": [
    "test_record2.blacklist_filter(client, db_instance)"
   ]
  },
  {
   "cell_type": "code",
   "execution_count": null,
   "metadata": {},
   "outputs": [],
   "source": []
  },
  {
   "cell_type": "code",
   "execution_count": 1,
   "metadata": {},
   "outputs": [
    {
     "name": "stdout",
     "output_type": "stream",
     "text": [
      "['@radical_subject', '3849-21-6', '153433-21-7', '158014-03-0', '958029-37-3', '330645-87-9', '693-13-0', '6485-79-6', '123333-53-9', '121-44-6', '89337-28-8', '86123-11-7', '86123-10-6', '103213-32-7', '58438-03-2', '125700-67-6', '96402-49-2', '112883-43-9', '71989-35-0', '150629-67-7', '56-41-7', '538-75-0', '77-92-9', '57-27-2']\n"
     ]
    }
   ],
   "source": [
    "from multiprocessing import Pool\n",
    "import sys,os\n",
    "sys.path.append(\"..\")\n",
    "import pandas as pd\n",
    "\n",
    "from modules.ourbot.service.resolver import resolve\n",
    "from modules.ourbot.service.timer import Timer\n",
    "\n",
    "timer = Timer()\n",
    "\n",
    "import_CAS_df = pd.read_csv('../srs/user_reagent_lists_import/radical_subject_reagents.txt', header = None)\n",
    "# radical_subject_CAS_list = import_CAS_df[0].tolist()\n",
    "\n",
    "# data = pd.read_csv('../srs/user_reagent_lists_import/Chusov_1.txt', header = None)\n",
    "# chusov_reagents_list = data[0].tolist()\n",
    "\n",
    "radical_subject_CAS_list = [row[1][0] for row in import_CAS_df.iterrows()]\n",
    "\n",
    "print(radical_subject_CAS_list)\n",
    "\n",
    "timer.start()\n",
    "n = 5\n",
    "with Pool(processes=n) as pool:\n",
    "    smiles_list = pool.map(resolve, radical_subject_CAS_list)\n",
    "    \n",
    "print(smiles_list)\n",
    "timer.stop()"
   ]
  },
  {
   "cell_type": "code",
   "execution_count": 7,
   "metadata": {},
   "outputs": [
    {
     "data": {
      "text/plain": [
       "['@radical_subject',\n",
       " '3849-21-6',\n",
       " '153433-21-7',\n",
       " '158014-03-0',\n",
       " '958029-37-3',\n",
       " '330645-87-9',\n",
       " '693-13-0',\n",
       " '6485-79-6',\n",
       " '123333-53-9',\n",
       " '121-44-6',\n",
       " '89337-28-8',\n",
       " '86123-11-7',\n",
       " '86123-10-6',\n",
       " '103213-32-7',\n",
       " '58438-03-2',\n",
       " '125700-67-6',\n",
       " '96402-49-2',\n",
       " '112883-43-9',\n",
       " '71989-35-0',\n",
       " '150629-67-7',\n",
       " '56-41-7',\n",
       " '538-75-0',\n",
       " '77-92-9',\n",
       " '57-27-2']"
      ]
     },
     "execution_count": 7,
     "metadata": {},
     "output_type": "execute_result"
    }
   ],
   "source": [
    "\n",
    "# timer.start()\n",
    "# n = 5\n",
    "# with Pool(processes=n) as pool:\n",
    "#     smiles_list = pool.starmap(resolve, [(row[1][0], 'smiles') for row in import_CAS_df.iterrows()])\n",
    "\n",
    "# # df_new = pd.DataFrame({'Compound' : compound_list, 'SmilesCode' : smiles_list})\n",
    "# # df_new.to_csv(index=False)\n",
    "# smiles_list\n",
    "# timer.stop()"
   ]
  },
  {
   "cell_type": "code",
   "execution_count": null,
   "metadata": {},
   "outputs": [],
   "source": [
    "timer.start()\n",
    "n = 5\n",
    "with Pool(processes=n) as pool:\n",
    "    smiles_list = pool.map(resolve, radical_subject_CAS_list)\n",
    "    \n",
    "print(smiles_list)\n",
    "timer.stop()"
   ]
  },
  {
   "cell_type": "code",
   "execution_count": null,
   "metadata": {},
   "outputs": [],
   "source": [
    "from multiprocessing import Pool\n",
    "numbers = [5, 10, 20]\n",
    "def doubler(number):\n",
    "    return number * 2\n",
    "\n",
    "pool = Pool(processes=3)\n",
    "print(pool.map(doubler, numbers))"
   ]
  },
  {
   "cell_type": "code",
   "execution_count": 1,
   "metadata": {},
   "outputs": [
    {
     "name": "stdout",
     "output_type": "stream",
     "text": [
      "[None, 'C[C@H]([NH3+])CO', 'CC(C)(C)N', 'O=C(CC(=O)c1ccccc1)c2ccccc2', 'CCOC(=O)CC(C)=O', 'COC(=O)CC(=O)OC', 'CCOC(=O)CC(=O)c1ccccc1', 'CC(C)OC(=O)CC(=O)OC(C)C', 'CC(C)OC(=O)CC#N', 'CCOC(=O)CC(=O)OCC', 'CC(=O)CC(C)=O', 'CC(C)(C)OC(=O)CC(=O)OC(C)(C)C', 'O=C(CC(=O)OCc1ccccc1)OCc2ccccc2', 'O=C1C2CC3CC(C2)CC1C3', 'COC(=O)CC#N', 'CC(=O)CCc1ccccc1', 'O=C1CCCC1', 'O=C(Cc1ccccc1)Cc2ccccc2', 'Nc1ccc(O)cc1', 'Nc1ccccc1', 'COc1ccc(C=O)cc1', 'C=O', 'Cc1ccc(C=O)cc1', 'Clc1ccccc1C=O', 'Clc1ccc(C=O)cc1', 'O=Cc1sccc1', 'CCOC(=O)CC#N', 'OC(c1ccccc1)c2ccccc2', 'CC(C)Br', 'CCOC(=O)\\\\C=C\\\\C(=O)OCC', 'CCCCO[P](=O)(OCCCC)OCCCC', 'Cc1ccc(O[P](=O)(Oc2ccc(C)cc2)Oc3ccc(C)cc3)cc1', 'C[Si](C)(C)C#N', 'C[Si](C)(C)CCl', 'CC(C)(C)c1ccc(O)c(c1)C(C)(C)C', 'Cl[S](=O)(=O)c1ccccc1', 'C[S](Cl)(=O)=O', 'O[S](Cl)(=O)=O', None, 'CCOC(=O)C(C)C(C)=O', 'CCOC(=O)C1CCCC1=O', 'CCOC(=O)C1CCCCC1=O', 'CC(C)(C)OC(=O)CN=C(c1ccccc1)c2ccccc2', 'BrCc1ccccc1CBr', 'BrCCCCBr', 'Cc1cccc(C)c1[N+]([O-])=O', '[O-][N+](=O)c1ccc(F)cc1F', '[O-][N+](=O)c1ccccc1F', '[O-][N+](=O)c1ccc(F)c(F)c1F', 'N=C(c1ccccc1)c2ccccc2', 'O=C1CCCCC1', '[O-][N+](=O)c1ccc(C=O)cc1', 'O=[P](c1ccccc1)(c2ccccc2)c3ccccc3', '[H+].[Cl-].[Cl-].Cc1ncc(C[n+]2csc(CCO)c2C)c(N)n1', 'CCOC(=O)C(C)=O', 'Cc1ccc(O)cc1', 'Nc1[nH]ncn1', 'CC1(C)CC(=O)C(Br)C(=O)C1', 'Oc1ccccc1O', 'Oc1ccc(C=O)cc1', 'C\\\\C(=N\\\\O)C(O)=O', 'CCN(CC)c1ccccc1', 'CN(C)c1ccccc1', 'CC[NH2+]CC[NH+](C)C', 'COc1ccc(cc1OC)C(O)=O', 'CCn1c2ccccc2c3ccccc13', 'OC(=O)C(Br)=C', 'N1c2ccccc2Sc3ccccc13', 'OC(=O)c1ccccc1Br', 'C1CNCCN1', 'Nc1ccccc1[N+]([O-])=O', 'COc1cccc(C=O)c1', 'ClC(Cl)(Cl)C(=O)c1[nH]ccc1', '[H+].[Cl-].CNO', 'CC(C)[N+]([O-])=O', 'COc1ccccc1C=O', 'FC(F)(F)C(=O)c1ccccc1', 'CCC[N+]([O-])=O', 'FC(F)(F)C(=O)Cc1ccccc1', 'FC(F)(F)C(=O)CC(=O)c1ccccc1', 'Oc1c(cc(cc1[N+]([O-])=O)[N+]([O-])=O)[N+]([O-])=O', 'CC(N)=O', 'S(Sc1ccccc1)c2ccccc2', None, 'CN(C)C(=S)SSC(=S)N(C)C', 'NC(=O)CC#N', 'OC(=O)CCCCCCCC(O)=O', 'O=C1CC(=O)NC(=O)N1', 'Nc1cc(cc2cc(cc(O)c12)[S](O)(=O)=O)[S](O)(=O)=O', 'O.O.[Na+].[Na+].OC(=O)CN(CCN(CC(O)=O)CC([O-])=O)CC([O-])=O', '[O-][N+](=O)c1cccc(C=O)c1', 'CC1CC(C)[S](=O)(=O)C1', '[Na+].OC(=O)c1ccccc1C([O-])=O', '[K+].[K+].[K+].OC(CC([O-])=O)(CC([O-])=O)C([O-])=O', 'NC=O', None, 'O[S](=O)(=O)c1ccccc1', 'O=C(OC(=O)c1ccccc1)c2ccccc2', None, 'CCOC(=O)C(=O)C(F)(F)F', '[O-][N+](=O)c1cccc(c1)C(Cl)=O', '[Na+].CC([O-])=O', 'CN(C)c1ccc(cc1)N=Nc2ccc(cc2)[S]([O-])(=O)=O', 'Oc1ccc(cc1)C2(OC(=O)c3ccccc23)c4ccc(O)cc4', 'CC(=O)OC=C', 'CCCCCCCCCCCCCCCC(O)=O', '[K+].O=C1[N-]C(=O)c2ccccc12', 'OC(=O)C=C', 'OC(=O)CNC(=O)Cc1ccccc1', 'CC(C)C(N)CO', 'OCc1c2OCOc2ccc1[N+]([O-])=O', '[Cl-].C[NH3+]', '[Br-].CC[NH2+]c1cccc2ccccc12', 'Oc1ccccc1', 'CC(=O)c1ccccc1C(O)=O', 'ClC(c1ccccc1)(c2ccccc2)c3ccccc3', None, 'Oc1ccc(Cl)cc1C=O', 'C=CC(=O)NCNC(=O)C=C', 'Nc1cc(ccc1O)[N+]([O-])=O', 'Oc1ccccc1[N+]([O-])=O', 'O=C1CCC(=O)N1', 'NC(CO)(CO)CO', 'CC(N)=O', 'CC(C)(C)c1ccc(O)c(c1)C(C)(C)C', 'BrCc1ccccc1', 'NC(=O)CCl', '[O-][N+](=O)c1ccc(Br)cc1', '[Br-].CC[P+](c1ccccc1)(c2ccccc2)c3ccccc3', 'NC(=O)C=C', 'O=C(c1ccccc1)c2ccccc2', 'OC([C@@H]1CCC[NH2+]1)(c2ccccc2)c3ccccc3', 'ClC(c1ccccc1)c2ccccc2', None, 'Clc1ccccc1Cl', '[O-][N+](=O)c1ccc(SCl)c(c1)[N+]([O-])=O', 'Oc1c(Br)cc(Br)cc1Br', 'Oc1ccc(cc1)[N+]([O-])=O', 'FC(F)(F)c1cc(C=O)cc(c1)C(F)(F)F', 'CC(C)(C)C=O', 'Oc1ccc(cc1)C(F)(F)F', 'COc1ccc(N)c(OC)c1', None, 'COc1ccc(OC)cc1', 'COc1ccc(C(O)=O)c(OC)c1', 'C1CCC(CC1)N=C=NC2CCCCC2', 'CN(C)[P](=O)(N(C)C)N(C)C', 'CC(C)=CC=O', 'NC(=O)CCl', '[Na+].CCC([O-])=O', 'NC(=O)C(Cl)(Cl)Cl', 'CCNCC.O[P](O)(O)=O', 'OC(=O)C(Cl)(Cl)Cl', 'c1ccc(cc1)C#Cc2ccccc2', 'CCC(CO)(CO)CO', 'Oc1c(cc(cc1[N+]([O-])=O)[N+]([O-])=O)[N+]([O-])=O', 'OCC(F)(F)F', 'COC(=O)C1=C(C)NC(=C(C1c2ccccc2[N+]([O-])=O)C(=O)OC)C', None, None, 'OCCC#N', 'NCCCCCCO', 'CN(C)c1cccc2c1cccc2[S](=O)(=O)NCCCCCN', '[Cu](|[S](=O)(=O)C(F)(F)F)|[S](=O)(=O)C(F)(F)F', '[O-][N+](=O)c1ccccc1/C=C/c2ccccc2', 'CC(C)c1ccc(cc1)C(C)C', 'NC(=O)C=C', 'OC(=O)CCCCCCCCC(O)=O', 'Oc1ccccc1O', 'Cc1ccc(N)cc1', 'CC(C)(C)[Si](C)(C)Cl', 'CC1=NN(c2ccc(cc2)[N+]([O-])=O)C(=O)C1[N+]([O-])=O', 'NCC(O)=O', 'OC(=O)CCC(O)=O', '[Cl-].[NH3+]CC#C', 'C1COCCOCCOCCOCCOCCO1', 'OCCC[S](O)(=O)=O', 'Brc1ccccc1', 'COc1ccccc1', 'Cc1ccc(C)cc1', 'CC(C)(C)c1ccc(N)cc1', 'CCC(=O)C(O)=O', 'BrC(c1ccccc1)c2ccccc2', None, 'Oc1ccc(C=O)cc1O', 'Oc1ccc(O)cc1', 'Oc1ccc(cc1[N+]([O-])=O)[N+]([O-])=O', 'CO[S](=O)(=O)OC', '[O-][N+](=O)c1ccc(Cl)c(c1)[N+]([O-])=O', 'Oc1ccc(cc1)[N+]([O-])=O', 'CC(O)CCO', 'Nc1ccccc1C(=O)c2ccccc2', 'COc1ccc(\\\\C=C\\\\C(O)=O)cc1', 'CCCCCI', 'C\\\\C(NO)=C(/C)N=O', 'Oc1ccc2ccccc2c1C=O', 'CC1OC(C)OC(C)O1', 'ClCc1ccccc1', 'CN(C)c1ccc(C=O)cc1', None, 'CCCCOC(=O)C(C)=C', 'O=Cc1occc1', 'COC(=O)\\\\C=C\\\\c1ccccc1', 'BrCCCCBr', '[O-][N+](=O)c1ccc(cc1)C(=O)CBr', 'COC(C)(C)OC', '[Cl-].CN(C)c1ccc(cc1)[C+](c2ccccc2)c3ccc(cc3)N(C)C', 'CC(C)C(=O)C(C)C', 'O=C1CCCC1(c2ccccc2)c3ccccc3', 'CN(C)c1ccccc1', 'CC(=O)C=O', 'BrCCBr', 'CCCCCCCCCCCCCCCC(=O)OC', '[nH]1cnc2ccccc12', 'CCN1CCCCC1', 'c1ccc(nc1)c2ccccn2', 'CNC(N)=O', 'CCCCCCCCCCCCCCCCCC(O)=O', 'CCCCCCCCCCCC(O)=O', 'NC(N)=N.SC#N', '[H+].[Cl-].CCN', 'Nc1ccc(cc1)[N+]([O-])=O', '[H+].[Cl-].NO', '[H+].[Cl-].NNC(N)=O', 'Nc1ccc(Oc2ccc(N)cc2)cc1', 'Nc1ccc(cc1)C(O)=O', 'Nc1cccc(c1)C(O)=O', '[nH]1nc2ccccc2n1', 'CN(C)c1cccc(O)c1', 'NCC=C', 'Oc1ccccc1O', 'CC(C)NC(C)C', 'CCNCC', 'NCCCCCCN', 'N(c1ccccc1)c2ccccc2', 'Nc1ccccc1N', 'NNc1ccc(cc1[N+]([O-])=O)[N+]([O-])=O', 'NCCc1ccccc1', 'NNC(N)=S', 'Nc1ccc(N)cc1', 'NC(=O)C=C', 'NC(=O)C(N)=O', 'CN(C)c1ccccc1', 'CC(C)(N=NC(C)(C)C#N)C#N', 'Nc1ccc(cc1[N+]([O-])=O)[N+]([O-])=O', 'OC(C(O)C(O)=O)C(O)=O', 'CCCCCCCCCCCCCCCCCCC(O)=O', 'CNC(=S)NC', 'O.NN', 'OCC#CCO', 'CCCCCCCCCC(O)=O', 'CCCCCCCCCCC(O)=O', 'Nc1cccc2ccccc12', 'Cc1ccc(N)cc1', 'CCCCCCCCC=C', None, '[O-][N+](=O)c1cc2C(=O)C(=O)Nc2c(c1)[N+]([O-])=O', '[O-][N+](=O)c1ccc2NC(=O)C(=O)c2c1', 'N#CCC#N', '[O-][N+](=O)c1cc2C(=O)C(=O)Nc2c(c1)[N+]([O-])=O', '[O-][N+](=O)c1ccc2NC(=O)C(=O)c2c1', 'N#CCC#N', 'CCOC(=O)C1CCCNC1', 'N#CCC#N', None, None, 'CCO[P+](=O)OCC', '[Ti]', 'CCCCCCCC/C=C/CCCCCCCC(O)=O', 'Nc1ccc(O)cc1', 'CCOC(=O)CC(=O)OCC', 'Fc1ccc(CCl)cc1', 'COc1ccc(C=O)c(OC)c1OC', 'Oc1ccc(C=O)c(O)c1', 'CCCCOCCCC', 'C1C=Cc2ccccc12', 'CC(C)C(=O)C(C)C', 'CN(C)c1ccc(N)cc1.O[S](O)(=O)=O', 'O=C1CCCC1', 'OC(=O)c1ccccc1Br', '[O-][S](=O)c1ccccc1', 'COc1ccc2ccccc2c1', 'Fc1cccc(CBr)c1', 'C1COc2ccccc2OCCOCCOc3ccccc3OCCO1', 'O=Cc1ccc(OCc2ccccc2)cc1', 'O=C1c2ccccc2Oc3ccccc13', 'C(NCc1ccccc1)c2ccccc2', None, 'Clc1ccccc1C=O', 'O=CC1CC1', 'CCI', 'CC(C)(C)OC(=O)OC(=O)OC(C)(C)C', 'CCC[N+]([O-])=O', '[O-][N+](=O)c1ccc(CBr)cc1', 'NC(c1ccccc1)c2ccccc2', 'CN(C)CCN(C)C', 'ClC(=O)OCc1ccccc1', 'BrCC=C', 'CN(N=O)[S](=O)(=O)c1ccc(C)cc1', 'COc1ccc(C=O)cc1', None, 'CC=O', 'O=C(n1ccnc1)n2ccnc2', 'ClCC1CO1', 'CC(C)I', 'CC(C)CC=O', 'O=Cc1ccc2ccccc2c1', 'ClC(Cl)(Cl)Br', 'COc1cccc(C=O)c1', 'CCOC(Cl)=O', '[H+].[Cl-].C1CCNC1', 'CCOC(=O)C(Cl)=O', 'COc1ccc(Cl)cc1', 'COc1ccc(C=O)cc1', 'O=Cc1ccccc1', 'CC(C)OC(=O)CBr', 'BrCCBr', 'Cc1ccc(C=O)cc1', 'CCC\\\\C=C(/CC)C=O', 'C[Si](C)(C)C', 'ClCC(=O)OC(=O)CCl', 'C[Si](C)(C)N=[N+]=[N-]', 'NCC=C', 'FC(F)(F)C(=O)OC(=O)C(F)(F)F', 'C1CCC2OC2C1', 'CC(C=O)C#N', 'OOC(=O)c1cccc(Cl)c1', 'C1CC=CC1', 'Cc1cccc(C)n1', 'OC(=O)C(Cl)(Cl)Cl', 'CC(C)(C)C=O', 'Oc1ccccc1C(=O)c2ccccc2', 'CC(C)CCC[C@@H](C)[C@H]1CC[C@H]2[C@@H]3CC=C4C[C@@H](O)CC[C@]4(C)[C@H]3CC[C@]12C', '[Li+].C[C-](C)C', 'CN(C)CCN(C)C', 'O=Cc1ccc2ccccc2c1', 'O=Cc1sccc1', 'CC(C)(C)c1ccc(CCl)cc1', 'Fc1ccccc1CCl', 'Clc1cccc(C=O)c1', 'O=Cc1ccncc1', 'Fc1ccc(C=O)cc1', 'C1CCN2CCCN=C2CC1', 'BrP(Br)Br', 'Cl[P](=O)(c1ccccc1)c2ccccc2', 'ClCC#CCCl', 'OC(=O)C(F)(F)F', '[Li+].CCC[CH2-]', 'COC(=O)C(C)=C', 'NCc1ccccc1', 'O=[CH-]1[Co]2|[Co++]1[CH-]2=O.[C-]#[O+].[C-]#[O+].[C-]#[O+].[C-]#[O+].[C-]#[O+].[C-]#[O+]', 'CNCC(O)=O', 'OB(O)c1ccccc1', 'C1CCN2CCCN=C2CC1', 'CC1(C)OC(=O)CC(=O)O1', 'O=Cc1ccc(cc1)C#N', 'CC(=O)C(=O)c1ccccc1', 'P(c1ccccc1)c2ccccc2', None, 'CC(N)c1ccccc1', 'CC(=O)CCC(C)=O', 'C1CN(CCN1)c2ncccn2', 'CC(C)(C)c1ccc(CN)cc1', 'O=C1CCSC1', 'O=CC=[P](c1ccccc1)(c2ccccc2)c3ccccc3', 'OOC(=O)c1cccc(Cl)c1', None, 'Nc1ccncc1', None, None, 'C[C@@H]([NH3+])c1cccc2ccccc12', None, 'Brc1ccccn1', 'OC(=O)Cc1ccccc1[N+]([O-])=O', None, 'O=Cc1c[nH]c2ccccc12', None, 'O=CC1CCC=CC1', 'CN1CCC(=O)CC1', 'O=Cc1ccc2[nH]ccc2c1', 'O=Cc1cccc2ccccc12', None, 'COC(CCl)OC', 'O=C1CCCC=C1', 'BrCCC=C', 'FN([S](=O)(=O)c1ccccc1)[S](=O)(=O)c2ccccc2', 'NC(=O)c1ccccc1', '[Au]', 'Oc1ccc(cc1)c2ccccc2', 'Oc1cc(O)c(c(O)c1)C([O-])=O', None, None, None, 'COc1cc(cc(OC)c1OC)C(N)=O', '[O-][N+](=O)c1ccccc1[N+]([O-])=O', 'Nc1ccccn1', '[Cu+].[I-]', 'CCC(C(O)=O)C(O)=O', 'CC(=O)Nc1ccc(cc1)C(O)=O', None, 'N#CCc1ccccn1', 'CCCC(=O)CCC', 'ClCC=O', None, None, None, None, None, None, '[Mo].[C-]#[O+].[C-]#[O+].[C-]#[O+].[C-]#[O+].[C-]#[O+].[C-]#[O+]', None, None, None, None, None, None, '[Re].[Re].[C-]#[O+].[C-]#[O+].[C-]#[O+].[C-]#[O+].[C-]#[O+].[C-]#[O+].[C-]#[O+].[C-]#[O+].[C-]#[O+].[C-]#[O+]', None, None, '[Rh+].[C--]#[O+].c1ccc(cc1)P(c2ccccc2)c3ccccc3.c4ccc(cc4)P(c5ccccc5)c6ccccc6.c7ccc(cc7)P(c8ccccc8)c9ccccc9.[H-]', None, None, 'Nc1ccc(Br)cc1', 'CC(C=O)c1ccccc1', 'ClC(=O)OCc1ccccc1', 'O=C1CCC1', None, None, 'C=CC=O', 'O=CCCc1ccccc1', 'O=Cc1cccc(Oc2ccccc2)c1', 'Cc1ccc(C)c(C=O)c1', 'Brc1ccccc1C=O', 'Fc1ccccc1C=O', 'ClCOCCl', 'C[N+]1([O-])CCOCC1', 'O=Cc1ccccc1', 'Nc1ccc2cc[nH]c2c1', 'CCCC(=O)C(C)=O', 'OC(=O)c1ccccc1[N+]([O-])=O', 'OC(=O)c1ccc(cc1)[N+]([O-])=O', 'OC(=O)C1CCCCN1', 'NC(=O)c1cccnc1', 'O=C1CCC=C1', '[Cl-][Cr](=O)(=O)=O.[H+].c1ccncc1', 'COc1cccc(N)c1', 'Cc1ccc(cc1)C(O)=O', 'OC(=O)CCc1ccccc1', 'CCCCI', 'OC(=O)CCCCCCC(O)=O', '[O-][N+](=O)c1ccc(Cl)c(Cl)c1', 'O=C(c1ccccc1)c2ccccc2', 'O=C(\\\\C=C\\\\c1ccccc1)c2ccccc2', 'C(N(Cc1ccccc1)Cc2ccccc2)c3ccccc3', 'CC(=O)C1CC1', 'CCCCCCCCCCCCN', 'CNc1ccccc1', '[H+].[Cl-].C1CCNC1', 'CC(=O)c1ccccc1', 'ClC(=O)OCc1ccccc1', 'CC(C)(C)OC(=O)OC(=O)OC(C)(C)C', 'Cc1cc(C)cc(c1)[N+]([O-])=O', '[O-][N+](=O)c1cccc(CBr)c1', '[O-][N+](=O)c1ccccc1CBr', 'COc1cc(N)cc(OC)c1', 'Nc1ccc2[nH]ccc2c1', 'O=C1CCCC=C1', 'BrCCC=C', 'CC1(C)CCCC(C)(C)N1', None, 'CC(C)(C)OC(=O)OC(=O)OC(C)(C)C', 'OC(=O)C1CCCC1', '[O-]C(=O)CC12CC3CC(CC(C3)C1)C2', 'CC(C)CC(O)=O', '[O-][N+](=O)c1cccc2c1cccc2[N+]([O-])=O', 'Oc1ccc(C=O)cc1', 'C1CCC(CC1)NC2CCCCC2', '[Br-].C[P+](c1ccccc1)(c2ccccc2)c3ccccc3', None, '[O-][N+](=O)c1cccc(c1)[N+]([O-])=O', 'CNC', 'Cc1ccc(cc1)[S](Cl)(=O)=O', 'Clc1ccc(Cl)cc1', 'OC(=O)CCl', 'CC(C)(C)c1ccc(cc1)C(O)=O', '[H+].[Cl-].COC(=O)Cc1ccccc1N', 'O=CCCc1ccccc1', 'BrCCCCBr', 'CC1(C)C2CC3OC3(C)C1C2', 'OC(=O)CC1CC2CCC1C2', 'ICC=C', 'OC(=O)CC1CCCCC1', '[Br-].CCCC[N+](CCCC)(CCCC)CCCC', 'OC(=O)CCBr', '[Cl-].CC[N+](CC)(CC)Cc1ccccc1', 'O=C1CCC=C1', 'O=C1CCCN1', 'ClC(=O)C(Cl)=O', 'CC(=O)CCC#C', 'CCOC(CCCl)OCC', 'Fc1c(F)c(F)c(Br)c(F)c1F', 'O=C1CCCCC1c2ccccc2', 'O=C(Cc1ccccc1)Cc2ccccc2', '[O-][N+](=O)c1ccc(cc1)[N+]([O-])=O', 'Cc1ccc(cc1)[N+]([O-])=O', 'CCC(C)=O', 'NC(=O)c1ccccc1', 'OC(=O)Cc1ccc(cc1)[N+]([O-])=O', '[I-].[I-].[Sm++]', 'C1CN2CCN1CC2', 'O=C(\\\\C=C\\\\c1ccccc1)c2ccccc2', 'CC1(C)[C@H]2CC[C@@]1(C)C(=O)C2', 'NCCO', 'CCCCCCCCCCCCCCCCCC(O)=O', 'OC(=O)c1ccccc1', 'NCC(O)=O', 'COC(=O)CCCCCCCCC(=O)OC', 'OCCO', '[H+].[Cl-].Nc1ccccc1', 'CC(=O)C=C', 'CSCCC=O', '[K+].CC(C)(C)[O-]', '[Na+].c1ccc(cc1)[B-](c2ccccc2)(c3ccccc3)c4ccccc4', '[Na+].c1ccc(cc1)[B-](c2ccccc2)(c3ccccc3)c4ccccc4', 'CCOc1ccc(cc1)[N+]([O-])=O', 'OCc1oc(C=O)cc1', 'COc1ccc(C=O)cc1Br', 'CC(C)(C)c1cc(C=O)c(O)c(c1)C(C)(C)C', '[H+].[Cl-].C1CCNC1', None, '[Cl-].CCOC(=O)C[NH3+]', None, 'ONC(=O)c1ccccc1', '[H+].[Cl-].CN(C)CCCl', 'FC(F)(F)c1ccccc1', 'OC(=O)CC(O)=O', None, 'OC(=O)C12CC3CC(CC(C3)C1)C2', 'OC(=O)CCc1c[nH]c2ccccc12', 'COC(=O)C(=O)C(F)(F)F', 'COC(=O)C(=O)c1ccccc1', None, 'CC(C)COC=O', 'COC=O', 'O=C1CCCN1', 'CCCCN', 'OC(=O)C=O', 'O=COCc1ccccc1', None, 'Cc1cccc(C=O)c1', 'O=COCCc1ccccc1', 'Clc1ccc(cc1)C(=O)c2ccccc2', 'O=Cc1ccc(OCc2ccccc2)cc1', '[O-][N+](=O)c1ccccc1C=O', 'Oc1ccc(C=O)cc1', 'C[C@H]([NH3+])CO', '[Br-].CC[N+](CC)(CC)CC', 'c1ccc2ccccc2c1', 'COc1ccc(I)cc1', 'CCC(=O)OC(=O)CC', 'CCC(=O)OC(=O)CC', 'O.Cc1ccc(cc1)[S](O)(=O)=O', 'Cc1ccc(cc1)[S](O)(=O)=O', 'CN(C)CCO', 'CCCC=O', 'CCCC=O', None, '[Cl].[Cl].[Rh].[Rh].C\\\\1C\\\\C=C/CC\\\\C=C1.C\\\\2C\\\\C=C/CC\\\\C=C2', '[Cl-].[Cl-].[Cl-].[Rh+3]', '[Ru].CC(=O)CC(C)=O.CC(=O)CC(C)=O.CC(=O)CC(C)=O', None, None, 'OC(=O)C1CCCN1', 'Nc1ccccc1Br', '[Cl-].[Cl-].[Cl-].[Cl-].[Ti+4]', 'c1cnc2c(c1)ccc3cccnc23', 'Oc1cccc(O)c1', 'CCN1CCCC1', 'CC(=O)c1cccc(O)c1', 'CC(=O)c1ccc(C=O)cc1', 'COc1cccc(c1)C(C)=O', None, None, None, None, None, 'O=CC1CCCCC1', 'Fc1ccccc1Br', 'CC(=O)c1ccccc1[N+]([O-])=O', 'CC1(C)CCCC(C)(C)N1', '[O-][N+](=O)c1ccc(Cl)cc1C=O', 'Oc1ccc(c(C=O)c1)[N+]([O-])=O', '[O-][N+](=O)c1cc(Cl)ccc1C=O', None, None, None, 'CO[S](=O)(=O)OC', 'CI', 'CI', 'CC(C)NC(C)C', 'ClC(=O)C(Cl)=O', 'OC(=O)/C(Cl)=C(/Cl)C=O', '[I-].CCCC[N+](CCCC)(CCCC)CCCC', 'CC(C)(C)C=O', 'CC(C)C=O', '[CH3-]|[Mg++].[I-]', 'O=C/C=C/c1ccccc1', 'O=C1CCCCC1', 'CCOC(=O)CC(=O)OCC', '[F-].CCCC[N+](CCCC)(CCCC)CCCC', 'CC(=O)c1cccc(N)c1', None, '[Br-].CCCC[N+](CCCC)(CCCC)CCCC', None, 'CCC#CCC', 'C1Cc2ccccc2CN1', 'CC1(C)CCCC(C)(C)N1', 'Fc1ccccc1Br', 'CC(C)(C)OC(=O)N1CC[NH2+]CC1', 'CCOC(=O)N1CCNCC1', 'CN1CCNCC1', 'O=COc1ccccc1', 'Fc1ccc(C=O)cc1', 'CN(C)CCO', 'Nc1ccc(N)c(c1)[N+]([O-])=O', 'CCN(C(C)C)C(C)C', '[CH3-]|[Mg++].[Br-]', 'O=Cc1sccc1', '[O-][N+](=O)c1ccccc1c2ccccc2[N+]([O-])=O', 'CC(Cl)C(O)=O', 'O[S](=O)(=O)c1ccccc1N2N=C(CC2=O)c3ccccc3', 'CC1=NN(C(=O)C1)c2c(C)cc(cc2Cl)[S](O)(=O)=O', 'CC1=NN(C(=O)C1)c2c(C)cc(cc2Cl)[S](O)(=O)=O', None, 'Cc1cc(ccc1N2N=C(CC2=O)C(O)=O)[S](O)(=O)=O', None, None, 'CCOC1=NN(C(=O)C1)c2ccc(cc2)[N+]([O-])=O', None, 'OC(=O)C1=NN(C(=O)C1)c2ccc(cc2)[S](O)(=O)=O', 'Cl|[V](|Cl)(|Cl)=O', 'CCCCC1CO1', 'c1ccc(cc1)P(c2ccccc2)c3ccccc3', 'Nc1ccc(Cc2ccc(N)cc2)cc1', 'Nc1ccc(cc1)[S](=O)(=O)c2ccc(N)cc2', 'Nc1ccc(N)cc1', 'C[S](Cl)(=O)=O', 'CC(C)(C)c1ccc(O)cc1', None, '[B+3].[H-].[H-].[H-].[Na+].[C-]#N', '[Na+].CC(=O)O[BH-](OC(C)=O)OC(C)=O', 'Cc1cc(C)cc(C)c1', 'Ic1ccccc1', 'FC(=O)c1ccccc1', None, None, 'O[C@@H]1CC[NH2+]C1', 'COc1ccc2cc(C=O)ccc2c1', 'Brc1ccc(C=O)cc1', 'O.O.C[N+](C)(C)[O-]', 'C[C@]12CC[C@H]3[C@@H](CCc4cc(O)ccc34)[C@@H]1CCC2=O', 'CC(=O)OC1CCC2(C)C3CCC4(C)C(CCC4C(C)=O)C3CC=C2C1', 'C[C@]12CC[C@H]3[C@@H](CCC4=CC(=O)CC[C@]34C)[C@@H]1CCC2=O', 'CC(=O)[C@@]1(O)CC[C@H]2[C@@H]3CCC4=CC(=O)CC[C@]4(C)[C@H]3CC[C@]12C', 'CC(=O)O[C@H]1CC[C@]2(C)[C@H]3CC[C@@]4(C)[C@@H](CC=C4C(C)=O)[C@@H]3CC=C2C1', 'CC(C)CCCC(C)C1CCC2C3CCC4=CC(=O)CCC4(C)C3CCC12C', '[NH4+].[Fe+3].[O-][S]([O-])(=O)=O.[O-][S]([O-])(=O)=O', 'CC(=O)c1ccccc1', 'C[Si](C)(C)Cl', 'C[Si](C)(C)N[Si](C)(C)C', '[I-].CCCC[N+](CCCC)(CCCC)CCCC', 'CCOC(=O)C#N', 'C1OCOCO1', 'O=C/C=C/c1ccccc1', 'CN(C)c1cc[nH+]cc1', 'Cc1ccc(cc1)C(O)=O', 'COc1cc(C=O)cc(OC)c1O', 'OC1CNC(C1)C(O)=O', 'CC(=O)C(F)(F)F', 'CCOC(=O)CC(C)=O', 'CC(C=O)C#N', 'C[Si](C)(C)N[Si](C)(C)C', '[Fe].[C-]#[O+].[C-]#[O+].[C-]#[O+].[C-]#[O+].[C-]#[O+]', 'Nc1ccc(N)cc1', 'CCOc1ccc(C=O)cc1', 'COc1cc(C=O)ccc1O', '[O-][N+](=O)c1ccccc1', 'CC(=O)CCC(O)=O', 'CC(C)C(O)=O', '[O-]C(=O)CN1CCCC1=O', 'C1CCC\\\\C=C/CC1', 'OC(=O)c1ccc(O)cc1', 'CC(C)OC(=O)Nc1ccc(O)c(Cl)c1', 'O[C@@H](C(O)=O)c1ccccc1', 'O=C1CCCCCC1', None, None, 'CCCCC(C)=O', 'OC1CC[NH2+]CC1', 'CC(=O)c1oc(C)cc1', '[O-][N+](=O)c1cc(c(F)cc1F)[N+]([O-])=O', 'CC1CCC(=O)O1', 'ClC(=O)OCC1c2ccccc2c3ccccc13', 'CC(C)(C)OC(C)(C)C', '[O-]C(=O)CC(F)(F)F', 'CC(C)CCC(C)=O', 'CC(=O)O[I](OC(C)=O)c1ccccc1', 'FC(F)(F)C=O', 'Fc1c(F)c(F)c(F)c(F)c1F', 'CCOC(=O)C=O', 'COc1ccccc1OC', 'C1CCC=CC1', 'O=C1CCCc2ccccc12', None, None, '[Al+3].[Cl-].[n-]1c2nc3nc(nc4[n-]c(nc5nc(nc1c6ccccc26)c7ccccc57)c8ccccc48)c9ccccc39', None, 'C[Al](C)Cl', '[Fe].[C-]#[O+].[C-]#[O+].[C-]#[O+].[C-]#[O+].[C-]#[O+]', 'Cc1ccc(C=O)cc1', 'CC(C)(C)OO', 'CC(C)(C)OO', 'N#Cc1cccc(n1)C#N', None, '[NH3+][C@@H]1[C@H](O)Cc2ccccc12', 'FC(F)(F)c1cc(C=O)cc(c1)C(F)(F)F', 'F[Si](c1ccccc1)(c2ccccc2)c3ccccc3', 'FC(F)(F)c1ccc(C=O)cc1', 'CC(C)(C)[Si](C)(C)Cl', 'C1CC2OC2C1', 'C1CCC2OC2C1', 'C1OC1c2ccccc2', 'CC1CO1', 'C1CCCC2OC2CC1', 'C\\\\1CC2OC2CC\\\\C=C1', 'ClCC1CO1', 'ClCC1CO1', 'C[N+]([O-])=O', None, 'CC[N+]([O-])=O', 'CC[N+]([O-])=O', 'CC(C)c1ccc(cc1)C(C)CC=O', 'O=C1CCCC1', 'OC1CCCC1', 'COc1ccc(C=O)cc1', 'CCC(O)=O', 'O=C/C=C/c1ccccc1', 'FC(F)(F)C(=O)OC(=O)C(F)(F)F', 'COCCl', 'OCCC=C', 'C[Si](C)(C)Cl', None, 'C[Si](C)(C)CC=C', 'CCCC[Sn](CCCC)(CCCC)CC=C', 'O=Cc1cccnc1', None, None, 'CCN=Cc1ccccc1', 'CN(C)c1cccc2c1cccc2[S](Cl)(=O)=O', None, '[F-].[F-].[F-].[F-].[Ti+4]', None, 'BrC(Br)(Br)C=O', 'COc1ccc(Br)cc1', 'CC(C)(C)N', None, 'CC(=O)CC(C)=O', 'COC(=O)CBr', 'C[Si](C)(C)OC(=C)c1ccccc1', 'CC(N)c1ccccc1', 'C[S](Cl)(=O)=O', 'CC(N=C=O)c1ccccc1', 'C[Si](C)(Cl)Cl', 'C[C@H](N)c1ccccc1', None, 'O=C(OOC(=O)c1ccccc1)c2ccccc2', 'O=Cc1ccccn1', 'ClC(=O)c1ccccc1', 'OCC#C', 'Oc1ccc2ccccc2c1', 'Cc1cccc(C=O)n1', 'NCCN', 'CCO[Si](OCC)(OCC)OCC', 'O.[Na+].[O-]P=O', 'CCOC(=O)CC(=O)OCC', 'CCC(C)N', 'COc1cc(C=O)ccc1OCC=C', None, 'OC(O)C(Cl)(Cl)Cl', None, 'OCc1ccccc1', 'COC1OC(CO)C(O)C(O)C1O', 'CCCCOC(=O)c1ccccc1C(=O)OCCCC', 'O=C(OCC(COC(=O)c1ccccc1)(COC(=O)c2ccccc2)COC(=O)c3ccccc3)c4ccccc4', 'OC(=O)C12CC3CC(CC(C3)C1)C2', '[Na]', '[OH-].[Na+]', '[OH-].[Na+]', '[Na+].[Na+].[O-]C([O-])=O', '[Na+].[Na+].[O-]C([O-])=O', 'N.N.OC(O)=O', '[Na+].[Cl-]', '[K+].[K+].[O-]C([O-])=O', '[Na+].[Na+].[O-][S]([O-])(=O)=O', 'O=Cc1ccc(cc1)C#N', 'O', 'NC(=O)CN1CCCC1=O', 'CC(=O)c1ccccc1', 'O=C1CCCCC1', 'O=C1Nc2ccccc2C1=O', 'OCC(O)C=O', None, 'O=CCCCC=O', 'C[N+]([O-])=O', 'Oc1ccccc1C=O', None, None, 'C[C@H](N)c1ccccc1', 'OCCN(CCO)CCO', 'FC(F)(F)c1cccc(C=O)c1', 'NC1CCC(O)CC1', 'FC(F)(F)C(=O)O[I](OC(=O)C(F)(F)F)c1ccccc1', 'CN1CCNCC1', 'O=Cc1ccccn1', 'COc1ccc(N)cc1', 'COc1ccc(N)cc1', 'CC(C)[C@H]1CC=C(C)C=C1', 'CCOC(=O)c1ccc(N)cc1', 'OC(=O)C1CNC1', 'CNCc1ccccc1', 'C=CCOCC1CO1', None, 'C1OC1COc2ccccc2', 'CNCCO', 'CC(=O)c1ccccc1O', 'C(CCOCC1CO1)COCC2CO2', 'CCOC(=O)C1CCNCC1', 'C=CCOCC1CO1', 'COc1cc2CCC(=O)c2cc1OC', 'FC(F)(F)c1cccc(C=O)c1', 'O=C1CSC(=O)N1', 'CC1(C)[C@H](CC[C@@]1(C)C([O-])=O)C([O-])=O', 'CCOC(=O)CBr', 'O=C/C=C/c1ccccc1', 'CC(C)(C)C1CCC(=O)CC1', None, None, 'Brc1ccc(C=O)cc1', 'C1COCCN1', 'CC1(C)[C@H]2CC[C@](C)(C2)C1=O', 'COc1cccc(c1)C(C)=O', '[NH3+]Cc1cccc2ccccc12', 'Ic1ccc(C=O)cc1', 'O.O.O.O.O.[Cu++].[O-][S]([O-])(=O)=O', 'C[Si](C)(C)CC=C', 'C1CC=CO1', 'C#Cc1ccccc1', 'C[Si](C)(C)OC(=C)c1ccccc1', 'Nc1oc2ccccc2n1', 'CC(C)(C)N=[P](N1CCCC1)(N2CCCC2)N3CCCC3', 'CN(C)c1cccc2cccc(N(C)C)c12', None, 'C1OCC=C1', 'OCC1CCCO1', None, 'C1Cc2ccccc2N1', None, '[Cl-].[Cl-].[Cl-].[Cl-].[Cl-].[Nb+5]', None, 'C[NH+](C)CCC[NH+](C)C', 'N[S](=O)(=O)c1ccccc1', 'C[NH+](C)CCCC[NH+](C)C', None, 'Nc1[nH]c2ccccc2n1', 'CO[Si](CC=C)(OC)OC', 'N[S](N)(=O)=O', 'Nc1sc2ccccc2n1', 'Nc1sccn1', 'Nc1ncccn1', 'O=Cc1c2ccccc2cc3ccccc13', 'Cc1c(Br)c(O)c(Br)cc1C2(O[S](=O)(=O)c3ccccc23)c4cc(Br)c(O)c(Br)c4C', 'CC1(C)O[B]OC1(C)C', None, '[Ni++].[Br-].[Br-]', '[Mg++].CC(C)(C)[O-]', 'CC(C)(C)OC(N)=O', 'O=Cc1oc2ccccc2c1', 'O=Cc1ccncc1', 'O=Cc1cc2ccccc2c3ccccc13', '[Cl-].[Cl-].[Ni++]', 'C1CNc2ccccc2C1', None, '[nH]1ccc2ccccc12', None, None, None, None, None, None, 'O=[P](Oc1ccccc1)(Oc2ccccc2)Oc3ccccc3', 'BrC(/C=O)=C/c1ccccc1', 'OC(=O)C#C', 'C1CCCNCC1', None, 'NCCc1ccccc1', 'NCCc1ccc(N)cc1', 'O=C(C1CC1)c2ccccc2', '[nH]1ccnc1', 'CCOC(=O)C(NC(=O)OC(C)(C)C)C(=O)OCC', None, 'COc1ccc(cc1)C(Cl)=O', '[Li+].[Li+].[O-]C([O-])=O', 'c1ccc(cc1)\\\\C=C\\\\c2ccccc2', 'c1ccc(cc1)\\\\C=C\\\\c2ccccc2', '[Ti+4].CC(C)[O-].CC(C)[O-].CC(C)[O-].CC(C)[O-]', 'FC(F)(F)c1cc(cc(c1)C(F)(F)F)N=C=S', '[Ru+3].[I-].[I-].[I-]', None, None, None, 'CCN(C(C)C)C(C)C', None, 'O=C(c1ccccc1)C(=O)c2ccccc2', 'BrC1CCCC1', 'Cc1ccccc1C=O', 'OC\\\\C=C/c1ccccc1', '[Zn++].[I-].[I-]', None, 'O=CC=O', 'Clc1ccc(cc1)P(c2ccc(Cl)cc2)c3ccc(Cl)cc3', None, '[Cl-].c1ccc(cc1)[P](=[N+]=[P](c2ccccc2)(c3ccccc3)c4ccccc4)(c5ccccc5)c6ccccc6', '[Cl-].CCCC[N+](CCCC)(CCCC)CCCC', 'Oc1ccc2ccccc2c1N=O', None, 'C1COC=CC1', 'CC(C)CO', 'CCCCCOC=O', 'CCCCCOC(C)=O', 'CC(C)COC(C)=O', None, 'CC(C)C(N)CO', 'O=C1C2CC3CC(C2)CC1C3', 'N#Cc1ccccn1', None, 'CC(C)(C)[C@H]([NH3+])CO', '[F-].[F-].[F-].[F-].[Ti+4]', '[nH]1ccnc1', 'CN(C)c1ccc(cc1)C(=O)c2ccc(cc2)N(C)C', 'COc1ccccc1', 'CCOC(OCC)OCC', 'COC(OC)OC', 'CCOC(=O)CBr', 'C[Si](C)(C)Cl', 'O=C(c1ccccc1)C(=O)c2ccccc2', 'CC(Br)=O', 'CCCC(C)C=O', 'COc1ccccc1N', 'OCc1ccc2OCOc2c1', 'Cc1ccccc1C=O', 'Fc1ccc(cc1)C(=O)c2ccc(F)cc2', 'COc1ccc(C=O)cc1Br', 'COc1ccc(C=O)cc1O', None, 'CC\\\\C=C(/C)C=O', 'CC1(C)[C@H](CC[C@@]1(C)C([O-])=O)C([O-])=O', 'ClC1=C(Cl)C(=O)C(=C(C#N)C1=O)C#N', 'CC(C)c1cccc(C(C)C)c1N', 'Nc1ccc(F)cc1', 'CC(=O)c1cccc(n1)C(C)=O', 'COC(=O)C[P](=O)(OC)OC', 'CCOC(=O)C[N+]([O-])=O', 'Nc1ccccc1Br', 'OC\\\\C=C/c1ccccc1', '[Ru+3].[I-].[I-].[I-]']\n",
      "Elapsed time: 32.0727 seconds\n"
     ]
    }
   ],
   "source": [
    "from multiprocessing import Pool\n",
    "import sys,os\n",
    "sys.path.append(\"..\")\n",
    "import pandas as pd\n",
    "\n",
    "from modules.ourbot.service.resolver import resolve\n",
    "from modules.ourbot.service.timer import Timer\n",
    "\n",
    "timer = Timer()\n",
    "\n",
    "import_CAS_df = pd.read_csv('../srs/user_reagent_lists_import/radical_subject_reagents.txt', header = None)\n",
    "radical_subject_CAS_list = import_CAS_df[0].tolist()\n",
    "\n",
    "data = pd.read_csv('../srs/user_reagent_lists_import/Chusov_1.txt', header = None)\n",
    "chusov_reagents_list = data[0].tolist()\n",
    "\n",
    "# radical_subject_CAS_list = [row[1][0] for row in import_CAS_df.iterrows()]\n",
    "\n",
    "# print(radical_subject_CAS_list)\n",
    "\n",
    "# print(chusov_reagents_list)\n",
    "\n",
    "if __name__ == '__main__':\n",
    "    \n",
    "    timer.start()\n",
    "    n = 50\n",
    "    with Pool(processes=n) as pool:\n",
    "        smiles_list = pool.map(resolve, chusov_reagents_list)\n",
    "        \n",
    "    print(smiles_list)\n",
    "    timer.stop()"
   ]
  },
  {
   "cell_type": "code",
   "execution_count": 9,
   "metadata": {},
   "outputs": [
    {
     "name": "stdout",
     "output_type": "stream",
     "text": [
      "[Compound(3283498)]\n"
     ]
    }
   ],
   "source": [
    "import pubchempy\n",
    "str_input = \"73401-74-8\"\n",
    "\n",
    "print(pubchempy.get_compounds(str_input, \"name\"))"
   ]
  },
  {
   "cell_type": "code",
   "execution_count": null,
   "metadata": {},
   "outputs": [],
   "source": []
  }
 ],
 "metadata": {
  "interpreter": {
   "hash": "0f624d81ac4b526ed6f013f0ced36a502ce6acd0ba10be2806dfd2eb339c6a11"
  },
  "kernelspec": {
   "display_name": "Python 3 (ipykernel)",
   "language": "python",
   "name": "python3"
  },
  "language_info": {
   "codemirror_mode": {
    "name": "ipython",
    "version": 3
   },
   "file_extension": ".py",
   "mimetype": "text/x-python",
   "name": "python",
   "nbconvert_exporter": "python",
   "pygments_lexer": "ipython3",
   "version": "3.8.0"
  }
 },
 "nbformat": 4,
 "nbformat_minor": 2
}
