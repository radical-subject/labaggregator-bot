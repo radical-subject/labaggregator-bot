{
 "cells": [
  {
   "cell_type": "code",
   "execution_count": 1,
   "metadata": {},
   "outputs": [],
   "source": [
    "import sys,os\n",
    "sys.path.append(\"..\")\n",
    "\n",
    "\n",
    "from modules.db.dbschema import UserReagents\n",
    "# from modules.db.mongodb import MongoDriver"
   ]
  },
  {
   "cell_type": "code",
   "execution_count": 2,
   "metadata": {},
   "outputs": [],
   "source": [
    "test_record = {\n",
    "        \"_id\": \"980159954\",\n",
    "        \"user_id\": \"980159954\",\n",
    "        \"username\": \"@None\",\n",
    "        \"firstname\": \"Alex\",\n",
    "        \"lastname\": \"Fedorov\",\n",
    "        \"reagent_requests\": [\n",
    "            {\n",
    "                \"requested_CAS\": \"50-00-0\"\n",
    "            }\n",
    "        ],\n",
    "        \"user_reagents\": [\n",
    "            {\n",
    "                \"CAS\": \"50-00-0\",\n",
    "                \"reagent_name\": \"something 4-something\",\n",
    "                \"sharing_status\": \"shared\"\n",
    "            }\n",
    "        ]\n",
    "    }"
   ]
  },
  {
   "cell_type": "code",
   "execution_count": 3,
   "metadata": {},
   "outputs": [],
   "source": [
    "test = UserReagents(**test_record)"
   ]
  },
  {
   "cell_type": "code",
   "execution_count": 4,
   "metadata": {},
   "outputs": [
    {
     "data": {
      "text/plain": [
       "'{\"_id\": \"980159954\", \"user_id\": \"980159954\", \"username\": \"@None\", \"firstname\": \"Alex\", \"lastname\": \"Fedorov\", \"reagent_requests\": [{\"requested_CAS\": \"50-00-0\"}], \"user_reagents\": [{\"CAS\": \"50-00-0\", \"reagent_name\": \"something 4-something\", \"sharing_status\": \"shared\"}]}'"
      ]
     },
     "execution_count": 4,
     "metadata": {},
     "output_type": "execute_result"
    }
   ],
   "source": [
    "test.export()"
   ]
  },
  {
   "cell_type": "code",
   "execution_count": 5,
   "metadata": {},
   "outputs": [
    {
     "data": {
      "text/plain": [
       "'@None'"
      ]
     },
     "execution_count": 5,
     "metadata": {},
     "output_type": "execute_result"
    }
   ],
   "source": [
    "test.username"
   ]
  },
  {
   "cell_type": "code",
   "execution_count": 6,
   "metadata": {},
   "outputs": [],
   "source": [
    "import json\n",
    "new_reagent = UserReagents(**json.loads(test.export()))\n"
   ]
  },
  {
   "cell_type": "code",
   "execution_count": 7,
   "metadata": {},
   "outputs": [
    {
     "data": {
      "text/plain": [
       "'@None'"
      ]
     },
     "execution_count": 7,
     "metadata": {},
     "output_type": "execute_result"
    }
   ],
   "source": [
    "new_reagent.username"
   ]
  },
  {
   "cell_type": "code",
   "execution_count": 8,
   "metadata": {},
   "outputs": [],
   "source": [
    "# new_reagent.add_list_of_reagents(0, 0, ['123', '456', '555'])\n",
    "# # new_reagent.export()"
   ]
  },
  {
   "cell_type": "code",
   "execution_count": 9,
   "metadata": {
    "pycharm": {
     "name": "#%%\n"
    }
   },
   "outputs": [],
   "source": [
    "test_record2 = {\n",
    "        \"reagent_requests\": [\n",
    "            {\n",
    "                \"requested_CAS\": \"50-00-0\"\n",
    "            }\n",
    "        ]\n",
    "    }\n",
    "test_record2 = UserReagents(**test_record2)\n",
    "\n",
    "# test_record2.add_list_of_reagents(0, 0, ['1','2','3', '62-53-3'])\n",
    "# test_record2.export()"
   ]
  },
  {
   "cell_type": "code",
   "execution_count": 10,
   "metadata": {
    "pycharm": {
     "name": "#%%\n"
    }
   },
   "outputs": [],
   "source": [
    "# test_record2.get_user_shared_reagents()"
   ]
  },
  {
   "cell_type": "code",
   "execution_count": 11,
   "metadata": {
    "pycharm": {
     "name": "#%%\n"
    }
   },
   "outputs": [
    {
     "data": {
      "text/plain": [
       "True"
      ]
     },
     "execution_count": 11,
     "metadata": {},
     "output_type": "execute_result"
    }
   ],
   "source": [
    "test_record2.is_CAS_number('7732-18-5')"
   ]
  },
  {
   "cell_type": "code",
   "execution_count": 12,
   "metadata": {
    "pycharm": {
     "name": "#%%\n"
    }
   },
   "outputs": [],
   "source": [
    "# test_record2.resolve_CAS_to_SMILES()"
   ]
  },
  {
   "cell_type": "code",
   "execution_count": 13,
   "metadata": {},
   "outputs": [
    {
     "data": {
      "text/plain": [
       "'C1=CC=C(C=C1)N'"
      ]
     },
     "execution_count": 13,
     "metadata": {},
     "output_type": "execute_result"
    }
   ],
   "source": [
    "import os, sys\n",
    "\n",
    "from modules.ourbot.service.resolver import get_SMILES\n",
    "\n",
    "get_SMILES(\"62-53-3\")"
   ]
  },
  {
   "cell_type": "code",
   "execution_count": 14,
   "metadata": {},
   "outputs": [],
   "source": [
    "import os\n",
    "import pandas as pd\n",
    "data = pd.read_csv('../srs/user_reagent_lists_import/radical_subject_reagents.txt', header = None)\n",
    "radical_subject_reagents_list = data[0].tolist()\n",
    "\n",
    "data = pd.read_csv('../srs/user_reagent_lists_import/Chusov_1.txt', header = None)\n",
    "chusov_reagents_list = data[0].tolist()"
   ]
  },
  {
   "cell_type": "code",
   "execution_count": 15,
   "metadata": {},
   "outputs": [],
   "source": [
    "import sys,os\n",
    "sys.path.append(\"..\")\n",
    "\n",
    "MONGO_URL=\"localhost:27017\"\n",
    "os.environ[\"MONGO_URL\"] = MONGO_URL\n",
    "\n",
    "MONGO_INITDB_ROOT_USERNAME=\"root\" # \n",
    "os.environ[\"MONGO_INITDB_ROOT_USERNAME\"] = MONGO_INITDB_ROOT_USERNAME\n",
    "\n",
    "MONGO_INITDB_ROOT_PASSWORD=\"dr5[gnhn\" # \n",
    "os.environ[\"MONGO_INITDB_ROOT_PASSWORD\"] = MONGO_INITDB_ROOT_PASSWORD\n",
    "\n",
    "DATABASE_NAME = \"admin\"\n",
    "os.environ[\"MONGO_INITDB_DATABASE\"] = DATABASE_NAME\n",
    "\n",
    "MONGO_VENDORBOT_DATABASE = \"vendorbot_db\"\n",
    "os.environ[\"MONGO_VENDORBOT_DATABASE\"] = MONGO_VENDORBOT_DATABASE\n",
    "\n",
    "MONGO_BOT_USERNAME=\"bot\"\n",
    "os.environ[\"MONGO_BOT_USERNAME\"] = MONGO_BOT_USERNAME\n",
    "\n",
    "MONGO_BOT_PASSWORD=\"botpsswd\"\n",
    "os.environ[\"MONGO_BOT_PASSWORD\"] = MONGO_BOT_PASSWORD\n",
    "\n",
    "# timerbot_credentials = dict(\n",
    "#     DATABASE_NAME = \"timerbot_db\",\n",
    "#     DATABASE_HOST = MONGO_URL,\n",
    "#     DATABASE_ADMIN_USERNAME = MONGO_BOT_USERNAME,\n",
    "#     DATABASE_ADMIN_PASSWORD = MONGO_BOT_PASSWORD\n",
    "# )\n",
    "\n",
    "# root_credentials = dict(\n",
    "#     DATABASE_NAME = \"timerbot_db\",\n",
    "#     DATABASE_HOST = MONGO_URL,\n",
    "#     DATABASE_ADMIN_USERNAME = MONGO_INITDB_ROOT_USERNAME,\n",
    "#     DATABASE_ADMIN_PASSWORD = MONGO_INITDB_ROOT_PASSWORD\n",
    "# )\n",
    "\n",
    "# database credentials extractor import\n",
    "from modules.db.dbconfig import root_credentials, timerbot_credentials, blacklist_rdkit_credentials\n",
    "from modules.db.mongodb import MongoDriver\n",
    "\n",
    "db_instances = dict(root=MongoDriver(root_credentials), timerbot_db=MongoDriver(blacklist_rdkit_credentials))\n",
    "# print(db_instances)\n",
    "# print(root_credentials)\n",
    "# print(timerbot_credentials)\n",
    "\n",
    "сlient = MongoDriver(blacklist_rdkit_credentials).client\n",
    "db_instance = MongoDriver(blacklist_rdkit_credentials)\n",
    "# collection_name = \"timer_data_collection\"\n",
    "# user_id = 122267418\n",
    "# query = {\"user_id\": user_id}\n",
    "\n",
    "# print(client)\n",
    "# client.list_database_names()"
   ]
  },
  {
   "cell_type": "code",
   "execution_count": 16,
   "metadata": {},
   "outputs": [],
   "source": [
    "test_record2.add_list_of_reagents(0, 0, сlient, db_instance, radical_subject_reagents_list)"
   ]
  },
  {
   "cell_type": "code",
   "execution_count": null,
   "metadata": {},
   "outputs": [],
   "source": []
  },
  {
   "cell_type": "code",
   "execution_count": 17,
   "metadata": {},
   "outputs": [
    {
     "data": {
      "text/plain": [
       "[{'CAS': '3849-21-6',\n",
       "  'sharing_status': 'shared',\n",
       "  'contact': 0,\n",
       "  'SMILES': 'CCOC(=O)/C(=N/O)/C#N'},\n",
       " {'CAS': '153433-21-7',\n",
       "  'sharing_status': 'shared',\n",
       "  'contact': 0,\n",
       "  'SMILES': 'CCOC(=O)/C(=N/O[P+](N1CCCC1)(N2CCCC2)N3CCCC3)/C#N.F[P-](F)(F)(F)(F)F'},\n",
       " {'CAS': '158014-03-0',\n",
       "  'sharing_status': 'shared',\n",
       "  'contact': 0,\n",
       "  'SMILES': 'CCOC(=O)/C(=N/[O-])/C#N.[K+]'},\n",
       " {'CAS': '958029-37-3',\n",
       "  'sharing_status': 'shared',\n",
       "  'contact': 0,\n",
       "  'SMILES': 'C[N+](=C(N1CCOCC1)N2C3=C(N=CC=C3)[N+](=N2)[O-])C.F[P-](F)(F)(F)(F)F'},\n",
       " {'CAS': '330645-87-9',\n",
       "  'sharing_status': 'shared',\n",
       "  'contact': 0,\n",
       "  'SMILES': 'CN(C)C(=[N+](C)C)ON1C2=C(C=CC(=C2)Cl)N=N1.F[P-](F)(F)(F)(F)F'},\n",
       " {'CAS': '693-13-0',\n",
       "  'sharing_status': 'shared',\n",
       "  'contact': 0,\n",
       "  'SMILES': 'CC(C)N=C=NC(C)C'},\n",
       " {'CAS': '6485-79-6',\n",
       "  'sharing_status': 'shared',\n",
       "  'contact': 0,\n",
       "  'SMILES': 'CC(C)[Si](C(C)C)C(C)C'},\n",
       " {'CAS': '123333-53-9',\n",
       "  'sharing_status': 'shared',\n",
       "  'contact': 0,\n",
       "  'SMILES': 'C1=CC=C2C(=C1)N=NN2O.O'},\n",
       " {'CAS': '86123-11-7',\n",
       "  'sharing_status': 'shared',\n",
       "  'contact': 0,\n",
       "  'SMILES': 'C1=CC=C2C(=C1)C(C3=CC=CC=C32)COC(=O)N[C@H](CC4=CNC5=CC=CC=C54)C(=O)O'},\n",
       " {'CAS': '86123-10-6',\n",
       "  'sharing_status': 'shared',\n",
       "  'contact': 0,\n",
       "  'SMILES': 'C1=CC=C(C=C1)C[C@H](C(=O)O)NC(=O)OCC2C3=CC=CC=C3C4=CC=CC=C24'},\n",
       " {'CAS': '103213-32-7',\n",
       "  'sharing_status': 'shared',\n",
       "  'contact': 0,\n",
       "  'SMILES': 'C1=CC=C(C=C1)C(C2=CC=CC=C2)(C3=CC=CC=C3)SC[C@@H](C(=O)O)NC(=O)OCC4C5=CC=CC=C5C6=CC=CC=C46'},\n",
       " {'CAS': '58438-03-2',\n",
       "  'sharing_status': 'shared',\n",
       "  'contact': 0,\n",
       "  'SMILES': 'C1=CC=C2C=C(C=CC2=C1)C[C@@H](C(=O)O)N'},\n",
       " {'CAS': '125700-67-6',\n",
       "  'sharing_status': 'shared',\n",
       "  'contact': 0,\n",
       "  'SMILES': '[B-](F)(F)(F)F.CN(C)C(=[N+](C)C)ON1C2=CC=CC=C2N=N1'},\n",
       " {'CAS': '96402-49-2',\n",
       "  'sharing_status': 'shared',\n",
       "  'contact': 0,\n",
       "  'SMILES': 'C1=CC=C2C(=C1)C=CC=C2C[C@@H](C(=O)O)NC(=O)OCC3C4=CC=CC=C4C5=CC=CC=C35'},\n",
       " {'CAS': '112883-43-9',\n",
       "  'sharing_status': 'shared',\n",
       "  'contact': 0,\n",
       "  'SMILES': 'C1=CC=C2C=C(C=CC2=C1)C[C@@H](C(=O)O)NC(=O)OCC3C4=CC=CC=C4C5=CC=CC=C35'},\n",
       " {'CAS': '71989-35-0',\n",
       "  'sharing_status': 'shared',\n",
       "  'contact': 0,\n",
       "  'SMILES': 'C[C@H]([C@@H](C(=O)O)NC(=O)OCC1C2=CC=CC=C2C3=CC=CC=C13)OC(C)(C)C'},\n",
       " {'CAS': '150629-67-7',\n",
       "  'sharing_status': 'shared',\n",
       "  'contact': 0,\n",
       "  'SMILES': 'CC(=NCCCC[C@@H](C(=O)O)NC(=O)OCC1C2=CC=CC=C2C3=CC=CC=C13)C4=C(CC(CC4=O)(C)C)O'},\n",
       " {'CAS': '56-41-7',\n",
       "  'sharing_status': 'shared',\n",
       "  'contact': 0,\n",
       "  'SMILES': 'C[C@@H](C(=O)O)N'},\n",
       " {'CAS': '538-75-0',\n",
       "  'sharing_status': 'shared',\n",
       "  'contact': 0,\n",
       "  'SMILES': 'C1CCC(CC1)N=C=NC2CCCCC2'},\n",
       " {'CAS': '77-92-9',\n",
       "  'sharing_status': 'shared',\n",
       "  'contact': 0,\n",
       "  'SMILES': 'C(C(=O)O)C(CC(=O)O)(C(=O)O)O'}]"
      ]
     },
     "execution_count": 17,
     "metadata": {},
     "output_type": "execute_result"
    }
   ],
   "source": [
    "test_record2.user_reagents"
   ]
  },
  {
   "cell_type": "code",
   "execution_count": 18,
   "metadata": {},
   "outputs": [],
   "source": [
    "test_record2.resolve_CAS_to_SMILES()"
   ]
  },
  {
   "cell_type": "code",
   "execution_count": 19,
   "metadata": {},
   "outputs": [
    {
     "data": {
      "text/plain": [
       "'{\"_id\": \"2012ef85729d4f6c84dba8a8069862f4\", \"reagent_requests\": [{\"requested_CAS\": \"50-00-0\"}], \"user_reagents\": [{\"CAS\": \"62-53-3\", \"sharing_status\": \"shared\", \"contact\": 0, \"SMILES\": \"C1=CC=C(C=C1)N\"}, {\"CAS\": \"3849-21-6\", \"sharing_status\": \"shared\", \"contact\": 0, \"SMILES\": \"CCOC(=O)/C(=N/O)/C#N\"}, {\"CAS\": \"153433-21-7\", \"sharing_status\": \"shared\", \"contact\": 0, \"SMILES\": \"CCOC(=O)/C(=N/O[P+](N1CCCC1)(N2CCCC2)N3CCCC3)/C#N.F[P-](F)(F)(F)(F)F\"}, {\"CAS\": \"158014-03-0\", \"sharing_status\": \"shared\", \"contact\": 0, \"SMILES\": \"CCOC(=O)/C(=N/[O-])/C#N.[K+]\"}, {\"CAS\": \"958029-37-3\", \"sharing_status\": \"shared\", \"contact\": 0, \"SMILES\": \"C[N+](=C(N1CCOCC1)N2C3=C(N=CC=C3)[N+](=N2)[O-])C.F[P-](F)(F)(F)(F)F\"}, {\"CAS\": \"330645-87-9\", \"sharing_status\": \"shared\", \"contact\": 0, \"SMILES\": \"CN(C)C(=[N+](C)C)ON1C2=C(C=CC(=C2)Cl)N=N1.F[P-](F)(F)(F)(F)F\"}, {\"CAS\": \"693-13-0\", \"sharing_status\": \"shared\", \"contact\": 0, \"SMILES\": \"CC(C)N=C=NC(C)C\"}, {\"CAS\": \"6485-79-6\", \"sharing_status\": \"shared\", \"contact\": 0, \"SMILES\": \"CC(C)[Si](C(C)C)C(C)C\"}, {\"CAS\": \"123333-53-9\", \"sharing_status\": \"shared\", \"contact\": 0, \"SMILES\": \"C1=CC=C2C(=C1)N=NN2O.O\"}, {\"CAS\": \"86123-11-7\", \"sharing_status\": \"shared\", \"contact\": 0, \"SMILES\": \"C1=CC=C2C(=C1)C(C3=CC=CC=C32)COC(=O)N[C@H](CC4=CNC5=CC=CC=C54)C(=O)O\"}, {\"CAS\": \"86123-10-6\", \"sharing_status\": \"shared\", \"contact\": 0, \"SMILES\": \"C1=CC=C(C=C1)C[C@H](C(=O)O)NC(=O)OCC2C3=CC=CC=C3C4=CC=CC=C24\"}, {\"CAS\": \"103213-32-7\", \"sharing_status\": \"shared\", \"contact\": 0, \"SMILES\": \"C1=CC=C(C=C1)C(C2=CC=CC=C2)(C3=CC=CC=C3)SC[C@@H](C(=O)O)NC(=O)OCC4C5=CC=CC=C5C6=CC=CC=C46\"}, {\"CAS\": \"58438-03-2\", \"sharing_status\": \"shared\", \"contact\": 0, \"SMILES\": \"C1=CC=C2C=C(C=CC2=C1)C[C@@H](C(=O)O)N\"}, {\"CAS\": \"125700-67-6\", \"sharing_status\": \"shared\", \"contact\": 0, \"SMILES\": \"[B-](F)(F)(F)F.CN(C)C(=[N+](C)C)ON1C2=CC=CC=C2N=N1\"}, {\"CAS\": \"96402-49-2\", \"sharing_status\": \"shared\", \"contact\": 0, \"SMILES\": \"C1=CC=C2C(=C1)C=CC=C2C[C@@H](C(=O)O)NC(=O)OCC3C4=CC=CC=C4C5=CC=CC=C35\"}, {\"CAS\": \"112883-43-9\", \"sharing_status\": \"shared\", \"contact\": 0, \"SMILES\": \"C1=CC=C2C=C(C=CC2=C1)C[C@@H](C(=O)O)NC(=O)OCC3C4=CC=CC=C4C5=CC=CC=C35\"}, {\"CAS\": \"71989-35-0\", \"sharing_status\": \"shared\", \"contact\": 0, \"SMILES\": \"C[C@H]([C@@H](C(=O)O)NC(=O)OCC1C2=CC=CC=C2C3=CC=CC=C13)OC(C)(C)C\"}, {\"CAS\": \"150629-67-7\", \"sharing_status\": \"shared\", \"contact\": 0, \"SMILES\": \"CC(=NCCCC[C@@H](C(=O)O)NC(=O)OCC1C2=CC=CC=C2C3=CC=CC=C13)C4=C(CC(CC4=O)(C)C)O\"}, {\"CAS\": \"56-41-7\", \"sharing_status\": \"shared\", \"contact\": 0, \"SMILES\": \"C[C@@H](C(=O)O)N\"}, {\"CAS\": \"538-75-0\", \"sharing_status\": \"shared\", \"contact\": 0, \"SMILES\": \"C1CCC(CC1)N=C=NC2CCCCC2\"}, {\"CAS\": \"77-92-9\", \"sharing_status\": \"shared\", \"contact\": 0, \"SMILES\": \"C(C(=O)O)C(CC(=O)O)(C(=O)O)O\"}, {\"CAS\": \"57-27-2\", \"sharing_status\": \"shared\", \"contact\": 0, \"SMILES\": \"CN1CC[C@]23[C@@H]4[C@H]1CC5=C2C(=C(C=C5)O)O[C@H]3[C@H](C=C4)O\"}]}'"
      ]
     },
     "execution_count": 19,
     "metadata": {},
     "output_type": "execute_result"
    }
   ],
   "source": [
    "test_record2.export()"
   ]
  },
  {
   "cell_type": "code",
   "execution_count": 20,
   "metadata": {},
   "outputs": [],
   "source": [
    "import sys,os\n",
    "sys.path.append(\"..\")\n",
    "\n",
    "MONGO_URL=\"localhost:27017\"\n",
    "os.environ[\"MONGO_URL\"] = MONGO_URL\n",
    "\n",
    "MONGO_INITDB_ROOT_USERNAME=\"root\" # \n",
    "os.environ[\"MONGO_INITDB_ROOT_USERNAME\"] = MONGO_INITDB_ROOT_USERNAME\n",
    "\n",
    "MONGO_INITDB_ROOT_PASSWORD=\"dr5[gnhn\" # \n",
    "os.environ[\"MONGO_INITDB_ROOT_PASSWORD\"] = MONGO_INITDB_ROOT_PASSWORD\n",
    "\n",
    "DATABASE_NAME = \"admin\"\n",
    "os.environ[\"MONGO_INITDB_DATABASE\"] = DATABASE_NAME\n",
    "\n",
    "MONGO_VENDORBOT_DATABASE = \"vendorbot_db\"\n",
    "os.environ[\"MONGO_VENDORBOT_DATABASE\"] = MONGO_VENDORBOT_DATABASE\n",
    "\n",
    "MONGO_BOT_USERNAME=\"bot\"\n",
    "os.environ[\"MONGO_BOT_USERNAME\"] = MONGO_BOT_USERNAME\n",
    "\n",
    "MONGO_BOT_PASSWORD=\"botpsswd\"\n",
    "os.environ[\"MONGO_BOT_PASSWORD\"] = MONGO_BOT_PASSWORD\n",
    "\n",
    "# timerbot_credentials = dict(\n",
    "#     DATABASE_NAME = \"timerbot_db\",\n",
    "#     DATABASE_HOST = MONGO_URL,\n",
    "#     DATABASE_ADMIN_USERNAME = MONGO_BOT_USERNAME,\n",
    "#     DATABASE_ADMIN_PASSWORD = MONGO_BOT_PASSWORD\n",
    "# )\n",
    "\n",
    "# root_credentials = dict(\n",
    "#     DATABASE_NAME = \"timerbot_db\",\n",
    "#     DATABASE_HOST = MONGO_URL,\n",
    "#     DATABASE_ADMIN_USERNAME = MONGO_INITDB_ROOT_USERNAME,\n",
    "#     DATABASE_ADMIN_PASSWORD = MONGO_INITDB_ROOT_PASSWORD\n",
    "# )\n",
    "\n",
    "# database credentials extractor import\n",
    "from modules.db.dbconfig import root_credentials, timerbot_credentials, blacklist_rdkit_credentials\n",
    "from modules.db.mongodb import MongoDriver\n",
    "\n",
    "db_instances = dict(root=MongoDriver(root_credentials), timerbot_db=MongoDriver(blacklist_rdkit_credentials))\n",
    "# print(db_instances)\n",
    "# print(root_credentials)\n",
    "# print(timerbot_credentials)\n",
    "\n",
    "client = MongoDriver(blacklist_rdkit_credentials).client\n",
    "db_instance = MongoDriver(blacklist_rdkit_credentials)\n",
    "# collection_name = \"timer_data_collection\"\n",
    "# user_id = 122267418\n",
    "# query = {\"user_id\": user_id}\n",
    "\n",
    "# print(client)\n",
    "# client.list_database_names()"
   ]
  },
  {
   "cell_type": "code",
   "execution_count": 21,
   "metadata": {},
   "outputs": [
    {
     "name": "stdout",
     "output_type": "stream",
     "text": [
      "[0.375, 'YXFVVABEGXRONW-UHFFFAOYSA-N']\n",
      "[0.2631578947368421, 'DULCUDSUACXJJC-UHFFFAOYSA-N']\n",
      "[0.23943661971830985, 'HYPPXZBJBPSRLK-UHFFFAOYSA-N']\n",
      "[0.25, 'DULCUDSUACXJJC-UHFFFAOYSA-N']\n",
      "[0.23880597014925373, 'KIGCTKOESITMKH-UHFFFAOYSA-N']\n",
      "[0.22972972972972974, 'PXBVEXGRHZFEOF-UHFFFAOYSA-N']\n",
      "[0.14285714285714285, 'PUAQLLVFLMYYJJ-ZETCQYMHSA-N']\n",
      "[0.15789473684210525, 'NCXUNZWLEYGQAH-UHFFFAOYSA-N']\n",
      "[0.23076923076923078, 'ZJWSSWFQIOEVCU-UHFFFAOYSA-N']\n",
      "[0.375, 'QSQQQURBVYWZKJ-UHFFFAOYSA-N']\n",
      "[0.2978723404255319, 'CRZQGDNQQAALAY-UHFFFAOYSA-N']\n",
      "[0.25757575757575757, 'VWCUGCYZZGRKEE-UHFFFAOYSA-N']\n",
      "[0.3333333333333333, 'KWTSXDURSIMDCE-UHFFFAOYSA-N']\n",
      "[0.21212121212121213, 'ZJWSSWFQIOEVCU-UHFFFAOYSA-N']\n",
      "[0.2463768115942029, 'DEVFRCROWCKFEL-UHFFFAOYSA-N']\n",
      "[0.25, 'NSWWDACHSBMHLV-UHFFFAOYSA-N']\n",
      "[0.26153846153846155, 'VWCUGCYZZGRKEE-UHFFFAOYSA-N']\n",
      "[0.21428571428571427, 'VWCUGCYZZGRKEE-UHFFFAOYSA-N']\n",
      "[0.43478260869565216, 'PUAQLLVFLMYYJJ-ZETCQYMHSA-N']\n",
      "[0.3, 'PAFZNILMFXTMIY-UHFFFAOYSA-N']\n",
      "[0.2608695652173913, 'SJZRECIVHVDYJC-UHFFFAOYSA-N']\n",
      "[1.0, 'BQJCRHHNABKAKU-KBQPJGBKSA-N']\n"
     ]
    }
   ],
   "source": [
    "test_record2.blacklist_filter(client, db_instance)"
   ]
  },
  {
   "cell_type": "code",
   "execution_count": null,
   "metadata": {},
   "outputs": [],
   "source": []
  }
 ],
 "metadata": {
  "interpreter": {
   "hash": "0f624d81ac4b526ed6f013f0ced36a502ce6acd0ba10be2806dfd2eb339c6a11"
  },
  "kernelspec": {
   "display_name": "Python 3 (ipykernel)",
   "language": "python",
   "name": "python3"
  },
  "language_info": {
   "codemirror_mode": {
    "name": "ipython",
    "version": 3
   },
   "file_extension": ".py",
   "mimetype": "text/x-python",
   "name": "python",
   "nbconvert_exporter": "python",
   "pygments_lexer": "ipython3",
   "version": "3.8.0"
  }
 },
 "nbformat": 4,
 "nbformat_minor": 2
}
