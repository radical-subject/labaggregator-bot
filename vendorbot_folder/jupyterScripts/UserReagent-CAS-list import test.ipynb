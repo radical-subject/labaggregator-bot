{
 "cells": [
  {
   "cell_type": "code",
   "execution_count": 1,
   "metadata": {},
   "outputs": [],
   "source": [
    "import sys,os\n",
    "sys.path.append(\"..\")\n",
    "\n",
    "\n",
    "from modules.db.dbschema import UserReagents\n",
    "# from modules.db.mongodb import MongoDriver"
   ]
  },
  {
   "cell_type": "code",
   "execution_count": 2,
   "metadata": {},
   "outputs": [],
   "source": [
    "test_record = {\n",
    "        \"_id\": \"980159954\",\n",
    "        \"user_id\": \"980159954\",\n",
    "        \"username\": \"@None\",\n",
    "        \"firstname\": \"Alex\",\n",
    "        \"lastname\": \"Fedorov\",\n",
    "        \"reagent_requests\": [\n",
    "            {\n",
    "                \"requested_CAS\": \"50-00-0\"\n",
    "            }\n",
    "        ],\n",
    "        \"user_reagents\": [\n",
    "            {\n",
    "                \"CAS\": \"50-00-0\",\n",
    "                \"reagent_name\": \"something 4-something\",\n",
    "                \"sharing_status\": \"shared\"\n",
    "            }\n",
    "        ]\n",
    "    }"
   ]
  },
  {
   "cell_type": "code",
   "execution_count": 3,
   "metadata": {},
   "outputs": [],
   "source": [
    "test = UserReagents(**test_record)"
   ]
  },
  {
   "cell_type": "code",
   "execution_count": 4,
   "metadata": {},
   "outputs": [
    {
     "data": {
      "text/plain": [
       "'{\"_id\": \"980159954\", \"user_id\": \"980159954\", \"username\": \"@None\", \"firstname\": \"Alex\", \"lastname\": \"Fedorov\", \"reagent_requests\": [{\"requested_CAS\": \"50-00-0\"}], \"user_reagents\": [{\"CAS\": \"50-00-0\", \"reagent_name\": \"something 4-something\", \"sharing_status\": \"shared\"}]}'"
      ]
     },
     "execution_count": 4,
     "metadata": {},
     "output_type": "execute_result"
    }
   ],
   "source": [
    "test.export()"
   ]
  },
  {
   "cell_type": "code",
   "execution_count": 5,
   "metadata": {},
   "outputs": [
    {
     "data": {
      "text/plain": [
       "'@None'"
      ]
     },
     "execution_count": 5,
     "metadata": {},
     "output_type": "execute_result"
    }
   ],
   "source": [
    "test.username"
   ]
  },
  {
   "cell_type": "code",
   "execution_count": 6,
   "metadata": {},
   "outputs": [],
   "source": [
    "import json\n",
    "new_reagent = UserReagents(**json.loads(test.export()))\n"
   ]
  },
  {
   "cell_type": "code",
   "execution_count": 7,
   "metadata": {},
   "outputs": [
    {
     "data": {
      "text/plain": [
       "'@None'"
      ]
     },
     "execution_count": 7,
     "metadata": {},
     "output_type": "execute_result"
    }
   ],
   "source": [
    "new_reagent.username"
   ]
  },
  {
   "cell_type": "code",
   "execution_count": 8,
   "metadata": {},
   "outputs": [],
   "source": [
    "# new_reagent.add_list_of_reagents(0, 0, ['123', '456', '555'])\n",
    "# # new_reagent.export()"
   ]
  },
  {
   "cell_type": "code",
   "execution_count": 9,
   "metadata": {
    "pycharm": {
     "name": "#%%\n"
    }
   },
   "outputs": [],
   "source": [
    "test_record2 = {\n",
    "        \"reagent_requests\": [\n",
    "            {\n",
    "                \"requested_CAS\": \"50-00-0\"\n",
    "            }\n",
    "        ]\n",
    "    }\n",
    "test_record2 = UserReagents(**test_record2)\n",
    "\n",
    "# test_record2.add_list_of_reagents(0, 0, ['1','2','3', '62-53-3'])\n",
    "# test_record2.export()"
   ]
  },
  {
   "cell_type": "code",
   "execution_count": 10,
   "metadata": {
    "pycharm": {
     "name": "#%%\n"
    }
   },
   "outputs": [],
   "source": [
    "# test_record2.get_user_shared_reagents()"
   ]
  },
  {
   "cell_type": "code",
   "execution_count": 11,
   "metadata": {
    "pycharm": {
     "name": "#%%\n"
    }
   },
   "outputs": [
    {
     "data": {
      "text/plain": [
       "True"
      ]
     },
     "execution_count": 11,
     "metadata": {},
     "output_type": "execute_result"
    }
   ],
   "source": [
    "test_record2.is_CAS_number('7732-18-5')"
   ]
  },
  {
   "cell_type": "code",
   "execution_count": 12,
   "metadata": {
    "pycharm": {
     "name": "#%%\n"
    }
   },
   "outputs": [],
   "source": [
    "# test_record2.resolve_CAS_to_SMILES()"
   ]
  },
  {
   "cell_type": "code",
   "execution_count": 13,
   "metadata": {},
   "outputs": [
    {
     "data": {
      "text/plain": [
       "'C1=CC=C(C=C1)N'"
      ]
     },
     "execution_count": 13,
     "metadata": {},
     "output_type": "execute_result"
    }
   ],
   "source": [
    "import os, sys\n",
    "\n",
    "from modules.ourbot.service.resolver import get_SMILES\n",
    "\n",
    "get_SMILES(\"62-53-3\")"
   ]
  },
  {
   "cell_type": "code",
   "execution_count": 14,
   "metadata": {},
   "outputs": [],
   "source": [
    "import os\n",
    "import pandas as pd\n",
    "data = pd.read_csv('../srs/user_reagent_lists_import/radical_subject_reagents.txt', header = None)\n",
    "radical_subject_reagents_list = data[0].tolist()\n",
    "\n",
    "data = pd.read_csv('../srs/user_reagent_lists_import/Chusov_1.txt', header = None)\n",
    "chusov_reagents_list = data[0].tolist()"
   ]
  },
  {
   "cell_type": "code",
   "execution_count": 15,
   "metadata": {},
   "outputs": [],
   "source": [
    "import sys,os\n",
    "sys.path.append(\"..\")\n",
    "\n",
    "MONGO_URL=\"localhost:27017\"\n",
    "os.environ[\"MONGO_URL\"] = MONGO_URL\n",
    "\n",
    "MONGO_INITDB_ROOT_USERNAME=\"root\" # \n",
    "os.environ[\"MONGO_INITDB_ROOT_USERNAME\"] = MONGO_INITDB_ROOT_USERNAME\n",
    "\n",
    "MONGO_INITDB_ROOT_PASSWORD=\"dr5[gnhn\" # \n",
    "os.environ[\"MONGO_INITDB_ROOT_PASSWORD\"] = MONGO_INITDB_ROOT_PASSWORD\n",
    "\n",
    "DATABASE_NAME = \"admin\"\n",
    "os.environ[\"MONGO_INITDB_DATABASE\"] = DATABASE_NAME\n",
    "\n",
    "MONGO_VENDORBOT_DATABASE = \"vendorbot_db\"\n",
    "os.environ[\"MONGO_VENDORBOT_DATABASE\"] = MONGO_VENDORBOT_DATABASE\n",
    "\n",
    "MONGO_BOT_USERNAME=\"bot\"\n",
    "os.environ[\"MONGO_BOT_USERNAME\"] = MONGO_BOT_USERNAME\n",
    "\n",
    "MONGO_BOT_PASSWORD=\"botpsswd\"\n",
    "os.environ[\"MONGO_BOT_PASSWORD\"] = MONGO_BOT_PASSWORD\n",
    "\n",
    "# timerbot_credentials = dict(\n",
    "#     DATABASE_NAME = \"timerbot_db\",\n",
    "#     DATABASE_HOST = MONGO_URL,\n",
    "#     DATABASE_ADMIN_USERNAME = MONGO_BOT_USERNAME,\n",
    "#     DATABASE_ADMIN_PASSWORD = MONGO_BOT_PASSWORD\n",
    "# )\n",
    "\n",
    "# root_credentials = dict(\n",
    "#     DATABASE_NAME = \"timerbot_db\",\n",
    "#     DATABASE_HOST = MONGO_URL,\n",
    "#     DATABASE_ADMIN_USERNAME = MONGO_INITDB_ROOT_USERNAME,\n",
    "#     DATABASE_ADMIN_PASSWORD = MONGO_INITDB_ROOT_PASSWORD\n",
    "# )\n",
    "\n",
    "# database credentials extractor import\n",
    "from modules.db.dbconfig import root_credentials, timerbot_credentials, blacklist_rdkit_credentials\n",
    "from modules.db.mongodb import MongoDriver\n",
    "\n",
    "db_instances = dict(root=MongoDriver(root_credentials), timerbot_db=MongoDriver(blacklist_rdkit_credentials))\n",
    "# print(db_instances)\n",
    "# print(root_credentials)\n",
    "# print(timerbot_credentials)\n",
    "\n",
    "сlient = MongoDriver(blacklist_rdkit_credentials).client\n",
    "db_instance = MongoDriver(blacklist_rdkit_credentials)\n",
    "# collection_name = \"timer_data_collection\"\n",
    "# user_id = 122267418\n",
    "# query = {\"user_id\": user_id}\n",
    "\n",
    "# print(client)\n",
    "# client.list_database_names()"
   ]
  },
  {
   "cell_type": "code",
   "execution_count": 16,
   "metadata": {},
   "outputs": [],
   "source": [
    "test_record2.add_list_of_reagents(0, 0, сlient, db_instance, radical_subject_reagents_list)"
   ]
  },
  {
   "cell_type": "code",
   "execution_count": null,
   "metadata": {},
   "outputs": [],
   "source": []
  },
  {
   "cell_type": "code",
   "execution_count": null,
   "metadata": {},
   "outputs": [],
   "source": [
    "test_record2.user_reagents"
   ]
  },
  {
   "cell_type": "code",
   "execution_count": null,
   "metadata": {},
   "outputs": [],
   "source": [
    "test_record2.resolve_CAS_to_SMILES()"
   ]
  },
  {
   "cell_type": "code",
   "execution_count": null,
   "metadata": {},
   "outputs": [],
   "source": [
    "test_record2.export()"
   ]
  },
  {
   "cell_type": "code",
   "execution_count": null,
   "metadata": {},
   "outputs": [],
   "source": [
    "import sys,os\n",
    "sys.path.append(\"..\")\n",
    "\n",
    "MONGO_URL=\"localhost:27017\"\n",
    "os.environ[\"MONGO_URL\"] = MONGO_URL\n",
    "\n",
    "MONGO_INITDB_ROOT_USERNAME=\"root\" # \n",
    "os.environ[\"MONGO_INITDB_ROOT_USERNAME\"] = MONGO_INITDB_ROOT_USERNAME\n",
    "\n",
    "MONGO_INITDB_ROOT_PASSWORD=\"dr5[gnhn\" # \n",
    "os.environ[\"MONGO_INITDB_ROOT_PASSWORD\"] = MONGO_INITDB_ROOT_PASSWORD\n",
    "\n",
    "DATABASE_NAME = \"admin\"\n",
    "os.environ[\"MONGO_INITDB_DATABASE\"] = DATABASE_NAME\n",
    "\n",
    "MONGO_VENDORBOT_DATABASE = \"vendorbot_db\"\n",
    "os.environ[\"MONGO_VENDORBOT_DATABASE\"] = MONGO_VENDORBOT_DATABASE\n",
    "\n",
    "MONGO_BOT_USERNAME=\"bot\"\n",
    "os.environ[\"MONGO_BOT_USERNAME\"] = MONGO_BOT_USERNAME\n",
    "\n",
    "MONGO_BOT_PASSWORD=\"botpsswd\"\n",
    "os.environ[\"MONGO_BOT_PASSWORD\"] = MONGO_BOT_PASSWORD\n",
    "\n",
    "# timerbot_credentials = dict(\n",
    "#     DATABASE_NAME = \"timerbot_db\",\n",
    "#     DATABASE_HOST = MONGO_URL,\n",
    "#     DATABASE_ADMIN_USERNAME = MONGO_BOT_USERNAME,\n",
    "#     DATABASE_ADMIN_PASSWORD = MONGO_BOT_PASSWORD\n",
    "# )\n",
    "\n",
    "# root_credentials = dict(\n",
    "#     DATABASE_NAME = \"timerbot_db\",\n",
    "#     DATABASE_HOST = MONGO_URL,\n",
    "#     DATABASE_ADMIN_USERNAME = MONGO_INITDB_ROOT_USERNAME,\n",
    "#     DATABASE_ADMIN_PASSWORD = MONGO_INITDB_ROOT_PASSWORD\n",
    "# )\n",
    "\n",
    "# database credentials extractor import\n",
    "from modules.db.dbconfig import root_credentials, timerbot_credentials, blacklist_rdkit_credentials\n",
    "from modules.db.mongodb import MongoDriver\n",
    "\n",
    "db_instances = dict(root=MongoDriver(root_credentials), timerbot_db=MongoDriver(blacklist_rdkit_credentials))\n",
    "# print(db_instances)\n",
    "# print(root_credentials)\n",
    "# print(timerbot_credentials)\n",
    "\n",
    "client = MongoDriver(blacklist_rdkit_credentials).client\n",
    "db_instance = MongoDriver(blacklist_rdkit_credentials)\n",
    "# collection_name = \"timer_data_collection\"\n",
    "# user_id = 122267418\n",
    "# query = {\"user_id\": user_id}\n",
    "\n",
    "# print(client)\n",
    "# client.list_database_names()"
   ]
  },
  {
   "cell_type": "code",
   "execution_count": null,
   "metadata": {},
   "outputs": [],
   "source": [
    "test_record2.blacklist_filter(client, db_instance)"
   ]
  },
  {
   "cell_type": "code",
   "execution_count": null,
   "metadata": {},
   "outputs": [],
   "source": []
  },
  {
   "cell_type": "code",
   "execution_count": null,
   "metadata": {},
   "outputs": [],
   "source": []
  }
 ],
 "metadata": {
  "interpreter": {
   "hash": "0f624d81ac4b526ed6f013f0ced36a502ce6acd0ba10be2806dfd2eb339c6a11"
  },
  "kernelspec": {
   "display_name": "Python 3 (ipykernel)",
   "language": "python",
   "name": "python3"
  },
  "language_info": {
   "codemirror_mode": {
    "name": "ipython",
    "version": 3
   },
   "file_extension": ".py",
   "mimetype": "text/x-python",
   "name": "python",
   "nbconvert_exporter": "python",
   "pygments_lexer": "ipython3",
   "version": "3.8.0"
  }
 },
 "nbformat": 4,
 "nbformat_minor": 2
}
