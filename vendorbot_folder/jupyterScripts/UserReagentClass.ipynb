{
 "cells": [
  {
   "cell_type": "code",
   "execution_count": 1,
   "source": [
    "import sys,os\n",
    "sys.path.append(\"..\")\n",
    "\n",
    "\n",
    "from modules.db.dbschema import UserReagents\n",
    "# from modules.db.mongodb import MongoDriver"
   ],
   "outputs": [],
   "metadata": {}
  },
  {
   "cell_type": "code",
   "execution_count": 2,
   "source": [
    "test_record = {\n",
    "        \"_id\": \"980159954\",\n",
    "        \"user_id\": \"980159954\",\n",
    "        \"username\": \"@None\",\n",
    "        \"firstname\": \"Alex\",\n",
    "        \"lastname\": \"Fedorov\",\n",
    "        \"reagent_requests\": [\n",
    "            {\n",
    "                \"requested_CAS\": \"50-00-0\"\n",
    "            }\n",
    "        ],\n",
    "        \"user_reagents\": [\n",
    "            {\n",
    "                \"CAS\": \"50-00-0\",\n",
    "                \"reagent_name\": \"something 4-something\",\n",
    "                \"sharing_status\": \"shared\"\n",
    "            }\n",
    "        ]\n",
    "    }"
   ],
   "outputs": [],
   "metadata": {}
  },
  {
   "cell_type": "code",
   "execution_count": 3,
   "source": [
    "test = UserReagents(**test_record)"
   ],
   "outputs": [],
   "metadata": {}
  },
  {
   "cell_type": "code",
   "execution_count": 4,
   "source": [
    "test.export()"
   ],
   "outputs": [
    {
     "data": {
      "text/plain": "'{\"_id\": \"980159954\", \"user_id\": \"980159954\", \"username\": \"@None\", \"firstname\": \"Alex\", \"lastname\": \"Fedorov\", \"reagent_requests\": [{\"requested_CAS\": \"50-00-0\"}], \"user_reagents\": [{\"CAS\": \"50-00-0\", \"reagent_name\": \"something 4-something\", \"sharing_status\": \"shared\"}]}'"
     },
     "execution_count": 4,
     "metadata": {},
     "output_type": "execute_result"
    }
   ],
   "metadata": {}
  },
  {
   "cell_type": "code",
   "execution_count": 5,
   "source": [
    "test.username"
   ],
   "outputs": [
    {
     "data": {
      "text/plain": "'@None'"
     },
     "execution_count": 5,
     "metadata": {},
     "output_type": "execute_result"
    }
   ],
   "metadata": {}
  },
  {
   "cell_type": "code",
   "execution_count": 6,
   "source": [
    "import json\n",
    "new_reagent = UserReagents(**json.loads(test.export()))\n"
   ],
   "outputs": [],
   "metadata": {}
  },
  {
   "cell_type": "code",
   "execution_count": 7,
   "source": [
    "new_reagent.username"
   ],
   "outputs": [
    {
     "data": {
      "text/plain": "'@None'"
     },
     "execution_count": 7,
     "metadata": {},
     "output_type": "execute_result"
    }
   ],
   "metadata": {}
  },
  {
   "cell_type": "code",
   "execution_count": 9,
   "source": [
    "new_reagent.add_list_of_reagents(0,['123', '456', '555'])\n",
    "new_reagent.export()"
   ],
   "outputs": [
    {
     "data": {
      "text/plain": "'{\"_id\": \"980159954\", \"user_id\": \"980159954\", \"username\": \"@None\", \"firstname\": \"Alex\", \"lastname\": \"Fedorov\", \"reagent_requests\": [{\"requested_CAS\": \"50-00-0\"}], \"user_reagents\": [{\"CAS\": \"50-00-0\", \"reagent_name\": \"something 4-something\", \"sharing_status\": \"shared\"}]}'"
     },
     "execution_count": 9,
     "metadata": {},
     "output_type": "execute_result"
    }
   ],
   "metadata": {}
  },
  {
   "cell_type": "code",
   "execution_count": 10,
   "source": [
    "test_record2 = {\n",
    "\n",
    "        \"reagent_requests\": [\n",
    "            {\n",
    "                \"requested_CAS\": \"50-00-0\"\n",
    "            }\n",
    "        ]\n",
    "    }\n",
    "test_record2 = UserReagents(**test_record2)\n",
    "test_record2.add_list_of_reagents(0,['1','2','3', '7732-18-5'])\n",
    "test_record2.export()"
   ],
   "outputs": [
    {
     "data": {
      "text/plain": "'{\"_id\": \"c567272f4a21430da6bdb9f8a1bfea0b\", \"reagent_requests\": [{\"requested_CAS\": \"50-00-0\"}], \"user_reagents\": [{\"CAS\": \"7732-18-5\", \"sharing_status\": \"shared\"}]}'"
     },
     "execution_count": 10,
     "metadata": {},
     "output_type": "execute_result"
    }
   ],
   "metadata": {
    "pycharm": {
     "name": "#%%\n"
    }
   }
  },
  {
   "cell_type": "code",
   "execution_count": 11,
   "outputs": [
    {
     "data": {
      "text/plain": "[{'CAS': '7732-18-5', 'sharing_status': 'shared'}]"
     },
     "execution_count": 11,
     "metadata": {},
     "output_type": "execute_result"
    }
   ],
   "source": [
    "test_record2.get_user_shared_reagents()"
   ],
   "metadata": {
    "collapsed": false,
    "pycharm": {
     "name": "#%%\n"
    }
   }
  },
  {
   "cell_type": "code",
   "execution_count": 12,
   "outputs": [
    {
     "data": {
      "text/plain": "True"
     },
     "execution_count": 12,
     "metadata": {},
     "output_type": "execute_result"
    }
   ],
   "source": [
    "test_record2.is_CAS_number('7732-18-5')"
   ],
   "metadata": {
    "collapsed": false,
    "pycharm": {
     "name": "#%%\n"
    }
   }
  },
  {
   "cell_type": "code",
   "execution_count": null,
   "outputs": [],
   "source": [],
   "metadata": {
    "collapsed": false,
    "pycharm": {
     "name": "#%%\n"
    }
   }
  }
 ],
 "metadata": {
  "orig_nbformat": 4,
  "language_info": {
   "name": "python",
   "version": "3.8.0",
   "mimetype": "text/x-python",
   "codemirror_mode": {
    "name": "ipython",
    "version": 3
   },
   "pygments_lexer": "ipython3",
   "nbconvert_exporter": "python",
   "file_extension": ".py"
  },
  "kernelspec": {
   "name": "python3",
   "display_name": "Python 3.8.0 64-bit (conda)"
  },
  "interpreter": {
   "hash": "0f624d81ac4b526ed6f013f0ced36a502ce6acd0ba10be2806dfd2eb339c6a11"
  }
 },
 "nbformat": 4,
 "nbformat_minor": 2
}