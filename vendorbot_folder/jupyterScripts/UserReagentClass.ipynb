{
 "cells": [
  {
   "cell_type": "code",
   "execution_count": 12,
   "source": [
    "from typing import Text\r\n",
    "import uuid, json \r\n",
    "import os, time, logging\r\n",
    "# os.environ['TZ'] = 'Europe/Moscow'\r\n",
    "\r\n",
    "# from modules.ourbot.service.decorators import log_errors\r\n",
    "# logger = logging.getLogger(__name__)\r\n",
    "\r\n",
    "# time.tzset()\r\n",
    "\r\n",
    "class UserReagents:\r\n",
    "    \"\"\"\r\n",
    "    This is object for manipulating easily with user \r\n",
    "    attributes before sending updated data to database. \r\n",
    "\r\n",
    "    test_record = {\r\n",
    "        _id: \"980159954\",\r\n",
    "        user_id: \"980159954\",\r\n",
    "        username: \"@None\",\r\n",
    "        firstname: \"Alex\",\r\n",
    "        lastname: \"Fedorov\"\r\n",
    "        institution: [\r\n",
    "            {\r\n",
    "                institution_object\r\n",
    "            },\r\n",
    "            {\r\n",
    "                institution_object\r\n",
    "            }\r\n",
    "        ]\r\n",
    "        reagent_requests: [\r\n",
    "            {\r\n",
    "                requested_CAS: \"50-00-0\"\r\n",
    "            }\r\n",
    "        ],\r\n",
    "        user_reagents: [\r\n",
    "            {\r\n",
    "                CAS: \"50-00-0\",\r\n",
    "                reagent_name: \"something 4-something\"\r\n",
    "                sharing_status: \"shared\"\r\n",
    "            }\r\n",
    "        ]\r\n",
    "    }\r\n",
    "\r\n",
    "    \"\"\"\r\n",
    "    def __init__(self, *args, **kwargs):\r\n",
    "        if args: # If args is not empty.\r\n",
    "            self.args = args\r\n",
    "        if kwargs:\r\n",
    "            for key, value in kwargs.items():\r\n",
    "                setattr(self, key, value)\r\n",
    "\r\n",
    "        # присвоить id если его не было \r\n",
    "        if \"_id\" not in kwargs.keys():\r\n",
    "            self._id = uuid.uuid4().hex\r\n",
    "    \r\n",
    "    def __iter__(self):\r\n",
    "      for attr, value in self.__dict__.items():\r\n",
    "          yield attr, value\r\n",
    "\r\n",
    "    def add_list_of_reagents(self, user_id, CAS_list=dict):\r\n",
    "        timestamp = time.strftime(\"%d.%m.%Y %H:%M:%S\", time.localtime())\r\n",
    "        current_time = timestamp\r\n",
    "        try:\r\n",
    "            for i in CAS_list:\r\n",
    "                self.user_reagents.append({\"CAS\" : i})\r\n",
    "        except AttributeError:\r\n",
    "            setattr(self, \"user_reagents\", [{}])\r\n",
    "            for i in CAS_list:\r\n",
    "                self.user_reagents.append({\r\n",
    "                                            \"CAS\" : i,\r\n",
    "                                            \"sharing_status\": \"shared\"\r\n",
    "                                            })\r\n",
    "           \r\n",
    "\r\n",
    "    def get_user_shared_reagents(self):\r\n",
    "        return self.user_reagents\r\n",
    "\r\n",
    "    def export(self):\r\n",
    "        \"\"\"\r\n",
    "        wallet_export = {\r\n",
    "            \"name\": self.name\r\n",
    "            \"wallet_id\": self.wallet_id,\r\n",
    "            \"money\": self.money,  \r\n",
    "            \"time\": self.time,\r\n",
    "            \"ownership\": self.ownership,\r\n",
    "            \"history_of_changes\": self.history_of_changes\r\n",
    "        }\r\n",
    "        \"\"\"      \r\n",
    "        user_reagents_export = {**{\"_id\": self.user_id}, **dict(self)}\r\n",
    "        return json.dumps(wallet_export) # exports json string (to use it as python object you should convert it by json.loads())\r\n",
    "\r\n"
   ],
   "outputs": [],
   "metadata": {}
  },
  {
   "cell_type": "code",
   "execution_count": 13,
   "source": [
    "test_record = {\r\n",
    "        \"_id\": \"980159954\",\r\n",
    "        \"user_id\": \"980159954\",\r\n",
    "        \"username\": \"@None\",\r\n",
    "        \"firstname\": \"Alex\",\r\n",
    "        \"lastname\": \"Fedorov\",\r\n",
    "        \"reagent_requests\": [\r\n",
    "            {\r\n",
    "                \"requested_CAS\": \"50-00-0\"\r\n",
    "            }\r\n",
    "        ],\r\n",
    "        \"user_reagents\": [\r\n",
    "            {\r\n",
    "                \"CAS\": \"50-00-0\",\r\n",
    "                \"reagent_name\": \"something 4-something\",\r\n",
    "                \"sharing_status\": \"shared\"\r\n",
    "            }\r\n",
    "        ]\r\n",
    "    }"
   ],
   "outputs": [],
   "metadata": {}
  },
  {
   "cell_type": "code",
   "execution_count": 14,
   "source": [
    "test = UserReagents(test_record)"
   ],
   "outputs": [],
   "metadata": {}
  },
  {
   "cell_type": "code",
   "execution_count": 15,
   "source": [
    "test.export()"
   ],
   "outputs": [
    {
     "output_type": "error",
     "ename": "AttributeError",
     "evalue": "'UserReagents' object has no attribute 'user_id'",
     "traceback": [
      "\u001b[1;31m---------------------------------------------------------------------------\u001b[0m",
      "\u001b[1;31mAttributeError\u001b[0m                            Traceback (most recent call last)",
      "Input \u001b[1;32mIn [15]\u001b[0m, in \u001b[0;36m<cell line: 1>\u001b[1;34m()\u001b[0m\n\u001b[1;32m----> 1\u001b[0m \u001b[43mtest\u001b[49m\u001b[38;5;241;43m.\u001b[39;49m\u001b[43mexport\u001b[49m\u001b[43m(\u001b[49m\u001b[43m)\u001b[49m\n",
      "Input \u001b[1;32mIn [12]\u001b[0m, in \u001b[0;36mUserReagents.export\u001b[1;34m(self)\u001b[0m\n\u001b[0;32m     78\u001b[0m \u001b[38;5;28;01mdef\u001b[39;00m \u001b[38;5;21mexport\u001b[39m(\u001b[38;5;28mself\u001b[39m):\n\u001b[0;32m     79\u001b[0m     \u001b[38;5;124;03m\"\"\"\u001b[39;00m\n\u001b[0;32m     80\u001b[0m \u001b[38;5;124;03m    wallet_export = {\u001b[39;00m\n\u001b[0;32m     81\u001b[0m \u001b[38;5;124;03m        \"name\": self.name\u001b[39;00m\n\u001b[1;32m   (...)\u001b[0m\n\u001b[0;32m     87\u001b[0m \u001b[38;5;124;03m    }\u001b[39;00m\n\u001b[0;32m     88\u001b[0m \u001b[38;5;124;03m    \"\"\"\u001b[39;00m      \n\u001b[1;32m---> 89\u001b[0m     user_reagents_export \u001b[38;5;241m=\u001b[39m {\u001b[38;5;241m*\u001b[39m\u001b[38;5;241m*\u001b[39m{\u001b[38;5;124m\"\u001b[39m\u001b[38;5;124m_id\u001b[39m\u001b[38;5;124m\"\u001b[39m: \u001b[38;5;28;43mself\u001b[39;49m\u001b[38;5;241;43m.\u001b[39;49m\u001b[43muser_id\u001b[49m}, \u001b[38;5;241m*\u001b[39m\u001b[38;5;241m*\u001b[39m\u001b[38;5;28mdict\u001b[39m(\u001b[38;5;28mself\u001b[39m)}\n\u001b[0;32m     90\u001b[0m     \u001b[38;5;28;01mreturn\u001b[39;00m json\u001b[38;5;241m.\u001b[39mdumps(wallet_export)\n",
      "\u001b[1;31mAttributeError\u001b[0m: 'UserReagents' object has no attribute 'user_id'"
     ]
    }
   ],
   "metadata": {}
  },
  {
   "cell_type": "code",
   "execution_count": 19,
   "source": [
    "test._id"
   ],
   "outputs": [
    {
     "output_type": "execute_result",
     "data": {
      "text/plain": [
       "'1e9426ac0a424b448d7dc5bcca26b806'"
      ]
     },
     "metadata": {},
     "execution_count": 19
    }
   ],
   "metadata": {}
  },
  {
   "cell_type": "code",
   "execution_count": null,
   "source": [],
   "outputs": [],
   "metadata": {}
  }
 ],
 "metadata": {
  "orig_nbformat": 4,
  "language_info": {
   "name": "python",
   "version": "3.8.0",
   "mimetype": "text/x-python",
   "codemirror_mode": {
    "name": "ipython",
    "version": 3
   },
   "pygments_lexer": "ipython3",
   "nbconvert_exporter": "python",
   "file_extension": ".py"
  },
  "kernelspec": {
   "name": "python3",
   "display_name": "Python 3.8.0 64-bit (conda)"
  },
  "interpreter": {
   "hash": "0f624d81ac4b526ed6f013f0ced36a502ce6acd0ba10be2806dfd2eb339c6a11"
  }
 },
 "nbformat": 4,
 "nbformat_minor": 2
}