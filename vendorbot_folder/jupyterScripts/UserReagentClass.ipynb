{
 "cells": [
  {
   "cell_type": "code",
   "execution_count": 11,
   "source": [
    "import sys,os\r\n",
    "sys.path.append(\"..\")\r\n",
    "\r\n",
    "\r\n",
    "from modules.db.dbschema import UserReagents\r\n",
    "# from modules.db.mongodb import MongoDriver"
   ],
   "outputs": [],
   "metadata": {}
  },
  {
   "cell_type": "code",
   "execution_count": 23,
   "source": [
    "test_record = {\r\n",
    "        \"_id\": \"980159954\",\r\n",
    "        \"user_id\": \"980159954\",\r\n",
    "        \"username\": \"@None\",\r\n",
    "        \"firstname\": \"Alex\",\r\n",
    "        \"lastname\": \"Fedorov\",\r\n",
    "        \"reagent_requests\": [\r\n",
    "            {\r\n",
    "                \"requested_CAS\": \"50-00-0\"\r\n",
    "            }\r\n",
    "        ],\r\n",
    "        \"user_reagents\": [\r\n",
    "            {\r\n",
    "                \"CAS\": \"50-00-0\",\r\n",
    "                \"reagent_name\": \"something 4-something\",\r\n",
    "                \"sharing_status\": \"shared\"\r\n",
    "            }\r\n",
    "        ]\r\n",
    "    }"
   ],
   "outputs": [],
   "metadata": {}
  },
  {
   "cell_type": "code",
   "execution_count": 24,
   "source": [
    "test = UserReagents(**test_record)"
   ],
   "outputs": [],
   "metadata": {}
  },
  {
   "cell_type": "code",
   "execution_count": 25,
   "source": [
    "test.export()"
   ],
   "outputs": [
    {
     "output_type": "execute_result",
     "data": {
      "text/plain": [
       "'{\"_id\": \"980159954\", \"user_id\": \"980159954\", \"username\": \"@None\", \"firstname\": \"Alex\", \"lastname\": \"Fedorov\", \"reagent_requests\": [{\"requested_CAS\": \"50-00-0\"}], \"user_reagents\": [{\"CAS\": \"50-00-0\", \"reagent_name\": \"something 4-something\", \"sharing_status\": \"shared\"}]}'"
      ]
     },
     "metadata": {},
     "execution_count": 25
    }
   ],
   "metadata": {}
  },
  {
   "cell_type": "code",
   "execution_count": 26,
   "source": [
    "test.username"
   ],
   "outputs": [
    {
     "output_type": "execute_result",
     "data": {
      "text/plain": [
       "'@None'"
      ]
     },
     "metadata": {},
     "execution_count": 26
    }
   ],
   "metadata": {}
  },
  {
   "cell_type": "code",
   "execution_count": 32,
   "source": [
    "import json\r\n",
    "new_reagent = UserReagents(**json.loads(test.export()))\r\n"
   ],
   "outputs": [],
   "metadata": {}
  },
  {
   "cell_type": "code",
   "execution_count": 33,
   "source": [
    "new_reagent.username"
   ],
   "outputs": [
    {
     "output_type": "execute_result",
     "data": {
      "text/plain": [
       "'@None'"
      ]
     },
     "metadata": {},
     "execution_count": 33
    }
   ],
   "metadata": {}
  },
  {
   "cell_type": "code",
   "execution_count": null,
   "source": [],
   "outputs": [],
   "metadata": {}
  }
 ],
 "metadata": {
  "orig_nbformat": 4,
  "language_info": {
   "name": "python",
   "version": "3.8.0",
   "mimetype": "text/x-python",
   "codemirror_mode": {
    "name": "ipython",
    "version": 3
   },
   "pygments_lexer": "ipython3",
   "nbconvert_exporter": "python",
   "file_extension": ".py"
  },
  "kernelspec": {
   "name": "python3",
   "display_name": "Python 3.8.0 64-bit (conda)"
  },
  "interpreter": {
   "hash": "0f624d81ac4b526ed6f013f0ced36a502ce6acd0ba10be2806dfd2eb339c6a11"
  }
 },
 "nbformat": 4,
 "nbformat_minor": 2
}