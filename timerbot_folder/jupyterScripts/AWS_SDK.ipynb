{
 "cells": [
  {
   "cell_type": "code",
   "execution_count": 1,
   "metadata": {},
   "outputs": [
    {
     "name": "stdout",
     "output_type": "stream",
     "text": [
      "Collecting boto3\n",
      "  Downloading boto3-1.14.25.tar.gz (97 kB)\n",
      "\u001b[K     |████████████████████████████████| 97 kB 1.5 MB/s eta 0:00:011\n",
      "\u001b[?25hCollecting botocore<1.18.0,>=1.17.25\n",
      "  Downloading botocore-1.17.25-py2.py3-none-any.whl (6.4 MB)\n",
      "\u001b[K     |████████████████████████████████| 6.4 MB 3.1 MB/s eta 0:00:01\n",
      "\u001b[?25hCollecting jmespath<1.0.0,>=0.7.1\n",
      "  Downloading jmespath-0.10.0-py2.py3-none-any.whl (24 kB)\n",
      "Collecting s3transfer<0.4.0,>=0.3.0\n",
      "  Downloading s3transfer-0.3.3-py2.py3-none-any.whl (69 kB)\n",
      "\u001b[K     |████████████████████████████████| 69 kB 7.7 MB/s  eta 0:00:01\n",
      "\u001b[?25hRequirement already satisfied: urllib3<1.26,>=1.20; python_version != \"3.4\" in /home/oikura/anaconda3/lib/python3.7/site-packages (from botocore<1.18.0,>=1.17.25->boto3) (1.25.8)\n",
      "Requirement already satisfied: python-dateutil<3.0.0,>=2.1 in /home/oikura/anaconda3/lib/python3.7/site-packages (from botocore<1.18.0,>=1.17.25->boto3) (2.8.1)\n",
      "Collecting docutils<0.16,>=0.10\n",
      "  Downloading docutils-0.15.2-py3-none-any.whl (547 kB)\n",
      "\u001b[K     |████████████████████████████████| 547 kB 9.3 MB/s eta 0:00:01\n",
      "\u001b[?25hRequirement already satisfied: six>=1.5 in /home/oikura/anaconda3/lib/python3.7/site-packages (from python-dateutil<3.0.0,>=2.1->botocore<1.18.0,>=1.17.25->boto3) (1.14.0)\n",
      "Building wheels for collected packages: boto3\n",
      "  Building wheel for boto3 (setup.py) ... \u001b[?25ldone\n",
      "\u001b[?25h  Created wheel for boto3: filename=boto3-1.14.25-py2.py3-none-any.whl size=127657 sha256=13b1ce0d960feffd20b1368a7cb0db0b1e5e4a0c1a6dea1e26efa8e35ec31ee4\n",
      "  Stored in directory: /home/oikura/.cache/pip/wheels/bc/73/48/8b529ad1832b17e4c94e6efb98037b418c93efe74f367ff408\n",
      "Successfully built boto3\n",
      "Installing collected packages: jmespath, docutils, botocore, s3transfer, boto3\n",
      "  Attempting uninstall: docutils\n",
      "    Found existing installation: docutils 0.16\n",
      "    Uninstalling docutils-0.16:\n",
      "      Successfully uninstalled docutils-0.16\n",
      "Successfully installed boto3-1.14.25 botocore-1.17.25 docutils-0.15.2 jmespath-0.10.0 s3transfer-0.3.3\n"
     ]
    }
   ],
   "source": [
    "!pip install boto3"
   ]
  },
  {
   "cell_type": "code",
   "execution_count": 4,
   "metadata": {},
   "outputs": [
    {
     "name": "stdout",
     "output_type": "stream",
     "text": [
      "{'StartingInstances': [{'CurrentState': {'Code': 0, 'Name': 'pending'}, 'InstanceId': 'i-015762c095e58d96f', 'PreviousState': {'Code': 80, 'Name': 'stopped'}}], 'ResponseMetadata': {'RequestId': 'd564eb28-ec25-4eba-8fcc-9be26fb6a70e', 'HTTPStatusCode': 200, 'HTTPHeaders': {'x-amzn-requestid': 'd564eb28-ec25-4eba-8fcc-9be26fb6a70e', 'content-type': 'text/xml;charset=UTF-8', 'content-length': '579', 'date': 'Wed, 22 Jul 2020 18:54:55 GMT', 'server': 'AmazonEC2'}, 'RetryAttempts': 0}}\n"
     ]
    }
   ],
   "source": [
    "import boto3\n",
    "client = boto3.client('ec2')\n",
    "        \n",
    "response = client.start_instances(\n",
    "    InstanceIds=[\n",
    "        'i-015762c095e58d96f',\n",
    "    ],\n",
    ")\n",
    "\n",
    "print(response['StartingInstances'][0]['CurrentState']['Name'])"
   ]
  },
  {
   "cell_type": "code",
   "execution_count": 5,
   "metadata": {},
   "outputs": [
    {
     "name": "stdout",
     "output_type": "stream",
     "text": [
      "{'Code': 64, 'Name': 'stopping'}\n"
     ]
    }
   ],
   "source": [
    "import boto3\n",
    "client = boto3.client('ec2')\n",
    "        \n",
    "response = client.stop_instances(\n",
    "    InstanceIds=[\n",
    "        'i-015762c095e58d96f',\n",
    "    ],\n",
    ")\n",
    "\n",
    "print(response['StoppingInstances'][0]['CurrentState']['Name'])"
   ]
  },
  {
   "cell_type": "code",
   "execution_count": 12,
   "metadata": {},
   "outputs": [
    {
     "name": "stdout",
     "output_type": "stream",
     "text": [
      "{'Code': 80, 'Name': 'stopped'}\n"
     ]
    }
   ],
   "source": [
    "import boto3\n",
    "client = boto3.client('ec2')\n",
    "ec2 = boto3.resource('ec2')\n",
    "\n",
    "id = 'i-015762c095e58d96f'\n",
    "        \n",
    "instance = ec2.Instance(id)\n",
    "print (instance.state)"
   ]
  },
  {
   "cell_type": "code",
   "execution_count": null,
   "metadata": {},
   "outputs": [],
   "source": [
    "#connection to my research p2.xlarge amazon GPU instance for machine learning applications\n",
    "#import amazon python SDK\n",
    "import boto3\n",
    "client = boto3.client('ec2')\n",
    "ec2 = boto3.resource('ec2')\n",
    "#id of my p2xlarge instance\n",
    "id = 'i-015762c095e58d96f'\n",
    "instance = ec2.Instance(id)\n",
    "#start instance\n",
    "def start_p2xlarge():\n",
    "    if instance.state['Code'] = 80:\n",
    "        response = client.start_instances(\n",
    "            InstanceIds=[\n",
    "                'i-015762c095e58d96f',\n",
    "            ],\n",
    "        )\n",
    "        return response['StartingInstances'][0]['CurrentState']['Name']\n",
    "    else: \n",
    "        return \"please wait, instance is stopping or doing something else\"\n",
    "\n",
    "#stop instance\n",
    "def stop_p2xlarge():\n",
    "    response = client.stop_instances(\n",
    "        InstanceIds=[\n",
    "            'i-015762c095e58d96f',\n",
    "        ],\n",
    "    )\n",
    "    return response['StoppingInstances'][0]['CurrentState']['Name']\n",
    "\n",
    "    "
   ]
  }
 ],
 "metadata": {
  "kernelspec": {
   "display_name": "Python 3",
   "language": "python",
   "name": "python3"
  },
  "language_info": {
   "codemirror_mode": {
    "name": "ipython",
    "version": 3
   },
   "file_extension": ".py",
   "mimetype": "text/x-python",
   "name": "python",
   "nbconvert_exporter": "python",
   "pygments_lexer": "ipython3",
   "version": "3.7.6"
  }
 },
 "nbformat": 4,
 "nbformat_minor": 4
}
