{
 "cells": [
  {
   "cell_type": "code",
   "execution_count": 13,
   "metadata": {},
   "outputs": [
    {
     "name": "stdout",
     "output_type": "stream",
     "text": [
      "занималась француским\n",
      "13.10.2021 0:00:00 - 13.10.2021 23:59:59\n"
     ]
    }
   ],
   "source": [
    "import clr\n",
    "import os, sys\n",
    "sys.path.append('..')\n",
    "from System import DateTime\n",
    "import dateparser\n",
    "\n",
    "dll_dir = \"../Hors.0.9.30/lib/netstandard2.0/\"\n",
    "dllname = 'Hors'\n",
    "path = r'%s%s' % (dll_dir, dllname)\n",
    "sys.path.append(os.getcwd())\n",
    "clr.AddReference(path)\n",
    "\n",
    "\n",
    "from Hors import HorsTextParser\n",
    "my_instance = HorsTextParser()\n",
    "\n",
    "# print(datetime.datetime.now().strftime(\"%d.%m.%Y %H:%M:%S\"))\n",
    "\n",
    "result = my_instance.Parse(\"позавчера занималась француским\", DateTime.Now)\n",
    "text = result.Text #-> string: \"будет красивый закат\"\n",
    "formatText = result.TextWithTokens #-> string: \"{0} будет красивый закат\"\n",
    "datefrom = result.Dates[0].DateFrom #-> DateTime: 26.03.2019 23:00:00\n",
    "dateto = result.Dates[0].DateTo #-> DateTime: 26.03.2019 23:00:00\n",
    "\n",
    "print(text)\n",
    "print(datefrom, \"-\", dateto)"
   ]
  },
  {
   "cell_type": "code",
   "execution_count": 4,
   "metadata": {},
   "outputs": [
    {
     "name": "stdout",
     "output_type": "stream",
     "text": [
      "Requirement already satisfied: pythonnet in c:\\anaconda3\\envs\\timerbot_env\\lib\\site-packages (2.5.2)\n",
      "Requirement already satisfied: pycparser in c:\\anaconda3\\envs\\timerbot_env\\lib\\site-packages (from pythonnet) (2.20)\n",
      "Collecting dateparser\n",
      "  Downloading dateparser-1.1.0-py2.py3-none-any.whl (288 kB)\n",
      "Requirement already satisfied: pytz in c:\\anaconda3\\envs\\timerbot_env\\lib\\site-packages (from dateparser) (2021.1)\n",
      "Requirement already satisfied: tzlocal in c:\\anaconda3\\envs\\timerbot_env\\lib\\site-packages (from dateparser) (3.0)\n",
      "Collecting regex!=2019.02.19,!=2021.8.27\n",
      "  Downloading regex-2021.10.8-cp38-cp38-win_amd64.whl (273 kB)\n",
      "Requirement already satisfied: python-dateutil in c:\\anaconda3\\envs\\timerbot_env\\lib\\site-packages (from dateparser) (2.8.2)\n",
      "Requirement already satisfied: six>=1.5 in c:\\anaconda3\\envs\\timerbot_env\\lib\\site-packages (from python-dateutil->dateparser) (1.16.0)\n",
      "Requirement already satisfied: backports.zoneinfo in c:\\anaconda3\\envs\\timerbot_env\\lib\\site-packages (from tzlocal->dateparser) (0.2.1)\n",
      "Requirement already satisfied: tzdata in c:\\anaconda3\\envs\\timerbot_env\\lib\\site-packages (from tzlocal->dateparser) (2021.1)\n",
      "Installing collected packages: regex, dateparser\n",
      "Successfully installed dateparser-1.1.0 regex-2021.10.8\n"
     ]
    }
   ],
   "source": [
    "! pip install pythonnet\n",
    "! pip install dateparser"
   ]
  },
  {
   "cell_type": "code",
   "execution_count": 35,
   "metadata": {},
   "outputs": [
    {
     "ename": "IndexError",
     "evalue": "list index out of range",
     "output_type": "error",
     "traceback": [
      "\u001b[0;31m---------------------------------------------------------------------------\u001b[0m",
      "\u001b[0;31mIndexError\u001b[0m                                Traceback (most recent call last)",
      "\u001b[0;32m<ipython-input-35-c296d3cd0b2e>\u001b[0m in \u001b[0;36m<module>\u001b[0;34m\u001b[0m\n\u001b[1;32m     61\u001b[0m \u001b[0;34m\u001b[0m\u001b[0m\n\u001b[1;32m     62\u001b[0m \u001b[0;34m\u001b[0m\u001b[0m\n\u001b[0;32m---> 63\u001b[0;31m \u001b[0mhors_parse\u001b[0m\u001b[0;34m(\u001b[0m\u001b[0minput_text\u001b[0m\u001b[0;34m)\u001b[0m\u001b[0;34m\u001b[0m\u001b[0;34m\u001b[0m\u001b[0m\n\u001b[0m\u001b[1;32m     64\u001b[0m \u001b[0;34m\u001b[0m\u001b[0m\n\u001b[1;32m     65\u001b[0m \u001b[0;34m\u001b[0m\u001b[0m\n",
      "\u001b[0;32m<ipython-input-35-c296d3cd0b2e>\u001b[0m in \u001b[0;36mhors_parse\u001b[0;34m(user_input_text)\u001b[0m\n\u001b[1;32m     28\u001b[0m     \u001b[0mtext\u001b[0m \u001b[0;34m=\u001b[0m \u001b[0mresult\u001b[0m\u001b[0;34m.\u001b[0m\u001b[0mText\u001b[0m \u001b[0;31m#-> string: \"будет красивый закат\"\u001b[0m\u001b[0;34m\u001b[0m\u001b[0;34m\u001b[0m\u001b[0m\n\u001b[1;32m     29\u001b[0m     \u001b[0mformatText\u001b[0m \u001b[0;34m=\u001b[0m \u001b[0mresult\u001b[0m\u001b[0;34m.\u001b[0m\u001b[0mTextWithTokens\u001b[0m \u001b[0;31m#-> string: \"{0} будет красивый закат\"\u001b[0m\u001b[0;34m\u001b[0m\u001b[0;34m\u001b[0m\u001b[0m\n\u001b[0;32m---> 30\u001b[0;31m     \u001b[0mdatefrom\u001b[0m \u001b[0;34m=\u001b[0m \u001b[0mresult\u001b[0m\u001b[0;34m.\u001b[0m\u001b[0mDates\u001b[0m\u001b[0;34m[\u001b[0m\u001b[0;36m0\u001b[0m\u001b[0;34m]\u001b[0m\u001b[0;34m.\u001b[0m\u001b[0mDateFrom\u001b[0m \u001b[0;31m#-> DateTime: 26.03.2019 23:00:00\u001b[0m\u001b[0;34m\u001b[0m\u001b[0;34m\u001b[0m\u001b[0m\n\u001b[0m\u001b[1;32m     31\u001b[0m     \u001b[0mdateto\u001b[0m \u001b[0;34m=\u001b[0m \u001b[0mresult\u001b[0m\u001b[0;34m.\u001b[0m\u001b[0mDates\u001b[0m\u001b[0;34m[\u001b[0m\u001b[0;36m0\u001b[0m\u001b[0;34m]\u001b[0m\u001b[0;34m.\u001b[0m\u001b[0mDateTo\u001b[0m \u001b[0;31m#-> DateTime: 26.03.2019 23:00:00\u001b[0m\u001b[0;34m\u001b[0m\u001b[0;34m\u001b[0m\u001b[0m\n\u001b[1;32m     32\u001b[0m \u001b[0;34m\u001b[0m\u001b[0m\n",
      "\u001b[0;31mIndexError\u001b[0m: list index out of range"
     ]
    }
   ],
   "source": [
    "import clr\n",
    "import os, sys\n",
    "sys.path.append('..')\n",
    "import modules.dbmodel as dbmodel\n",
    "from System import DateTime\n",
    "import dateparser\n",
    "\n",
    "import pymorphy2\n",
    "import re\n",
    "\n",
    "morph = pymorphy2.MorphAnalyzer()\n",
    "\n",
    "dll_dir = \"../Hors.0.9.30/lib/netstandard2.0/\"\n",
    "dllname = 'Hors'\n",
    "path = r'%s%s' % (dll_dir, dllname)\n",
    "sys.path.append(os.getcwd())\n",
    "clr.AddReference(path)\n",
    "\n",
    "from Hors import HorsTextParser\n",
    "my_instance = HorsTextParser()\n",
    "\n",
    "\n",
    "input_text = \"fdlhkjb dfzlnb zkjzlkdfnb \"\n",
    "user_id = 336091411\n",
    "\n",
    "def hors_parse(user_input_text):\n",
    "    result = my_instance.Parse(user_input_text, DateTime.Now)\n",
    "    text = result.Text #-> string: \"будет красивый закат\"\n",
    "    formatText = result.TextWithTokens #-> string: \"{0} будет красивый закат\"\n",
    "    datefrom = result.Dates[0].DateFrom #-> DateTime: 26.03.2019 23:00:00\n",
    "    dateto = result.Dates[0].DateTo #-> DateTime: 26.03.2019 23:00:00\n",
    "\n",
    "#     print(text)\n",
    "#     print (result.Dates[0])\n",
    "#     print(datefrom, \"-\", dateto)\n",
    "\n",
    "    s = input_text.split()\n",
    "    s_subtraction = text.split()\n",
    "    \n",
    "    list_of_categories = []\n",
    "    for item in dbmodel.list_categories_including_archived(user_id):\n",
    "        list_of_categories.append(item.lower())\n",
    "    for word in s_subtraction:\n",
    "        if morph.parse(word)[0].normal_form in list_of_categories:\n",
    "            print (\"категория определена автоматически\")\n",
    "            for i in range(len(list_of_categories)):\n",
    "                if morph.parse(word)[0].normal_form == dbmodel.list_categories_including_archived(user_id)[i].lower():\n",
    "                    text = dbmodel.list_categories_including_archived(user_id)[i]\n",
    "        \n",
    "    result_s = []\n",
    "    for element in s:\n",
    "        if element not in s_subtraction:\n",
    "            result_s.append(element)\n",
    "    s = \" \".join(result_s)\n",
    "\n",
    "    try:\n",
    "        date = dateparser.parse(u'{}'.format(s)).strftime(\"%Y-%m-%d %H:%M:%S\")\n",
    "        return [text, date]\n",
    "    except AttributeError:\n",
    "        return [text, dateparser.parse(u'{}'.format(str(datefrom))).strftime(\"%Y-%m-%d %H:%M:%S\")]\n",
    "    \n",
    "    \n",
    "hors_parse(input_text)\n",
    "\n",
    "\n",
    "\n"
   ]
  },
  {
   "cell_type": "code",
   "execution_count": 5,
   "metadata": {},
   "outputs": [
    {
     "name": "stdout",
     "output_type": "stream",
     "text": [
      "Requirement already satisfied: dateparser in /home/oikura/anaconda3/lib/python3.7/site-packages (0.7.6)\n",
      "Requirement already satisfied: tzlocal in /home/oikura/anaconda3/lib/python3.7/site-packages (from dateparser) (2.1)\n",
      "Requirement already satisfied: python-dateutil in /home/oikura/anaconda3/lib/python3.7/site-packages (from dateparser) (2.8.1)\n",
      "Requirement already satisfied: regex!=2019.02.19 in /home/oikura/anaconda3/lib/python3.7/site-packages (from dateparser) (2020.6.8)\n",
      "Requirement already satisfied: pytz in /home/oikura/anaconda3/lib/python3.7/site-packages (from dateparser) (2019.3)\n",
      "Requirement already satisfied: six>=1.5 in /home/oikura/anaconda3/lib/python3.7/site-packages (from python-dateutil->dateparser) (1.14.0)\n",
      "Note: you may need to restart the kernel to use updated packages.\n"
     ]
    }
   ],
   "source": [
    "%pip install dateparser"
   ]
  },
  {
   "cell_type": "code",
   "execution_count": 43,
   "metadata": {},
   "outputs": [
    {
     "data": {
      "text/plain": [
       "'09.07.2020'"
      ]
     },
     "execution_count": 43,
     "metadata": {},
     "output_type": "execute_result"
    }
   ],
   "source": [
    "import dateparser\n",
    "dateparser.parse(u'20.09.2020 с 14:00 до 18:00').strftime(\"%d.%m.%Y\")"
   ]
  },
  {
   "cell_type": "code",
   "execution_count": null,
   "metadata": {},
   "outputs": [],
   "source": [
    "morph.parse('думающему')[0].normal_form"
   ]
  }
 ],
 "metadata": {
  "kernelspec": {
   "display_name": "Python 3 (ipykernel)",
   "language": "python",
   "name": "python3"
  },
  "language_info": {
   "codemirror_mode": {
    "name": "ipython",
    "version": 3
   },
   "file_extension": ".py",
   "mimetype": "text/x-python",
   "name": "python",
   "nbconvert_exporter": "python",
   "pygments_lexer": "ipython3",
   "version": "3.8.0"
  }
 },
 "nbformat": 4,
 "nbformat_minor": 4
}
