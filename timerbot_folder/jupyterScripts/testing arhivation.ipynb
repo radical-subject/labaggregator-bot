{
 "cells": [
  {
   "cell_type": "code",
   "execution_count": 7,
   "metadata": {},
   "outputs": [
    {
     "name": "stdout",
     "output_type": "stream",
     "text": [
      "Category was successfully Archived.\n"
     ]
    }
   ],
   "source": [
    "import os, sys\n",
    "sys.path.append(\"..\")\n",
    "\n",
    "import logging\n",
    "import time\n",
    "#python telegram bot\n",
    "from telegram.ext import Updater, CommandHandler, MessageHandler, Filters, ConversationHandler, CallbackQueryHandler\n",
    "from telegram import ReplyKeyboardMarkup, InlineKeyboardMarkup, InlineKeyboardButton, ReplyKeyboardRemove, KeyboardButton\n",
    "#custom modules\n",
    "from modules import dbconfig, dbmodel, timer, functions, administration, hors, text2time, AWSSDKmodule\n",
    "#импорт конструктора Timer и импорт ошибок таймера.\n",
    "from modules.timer import Timer, TimerError\n",
    "#импорт административной функции создающей запрещенные команды\n",
    "from modules.administration import restricted\n",
    "\n",
    "#states\n",
    "LISTEDCATEGORIES, LISTEDACTIONS, ACTIONCHOSEN = range(3)\n",
    "# Callback data\n",
    "ONE, TWO, THREE, FOUR = range(4)\n",
    "\n",
    "user_id=336091411\n",
    "category_name=\"программирование\"\n",
    "\n",
    "def inline_archivation_helper(update, context):\n",
    "    inlinemessageid = update.callback_query.message.message_id\n",
    "    # CallbackQueries need to be answered, even if no notification to the user is needed\n",
    "    # Some clients may have trouble otherwise. See https://core.telegram.org/bots/api#callbackquery\n",
    "    user_id = str(update.callback_query.from_user.id)\n",
    "\n",
    "    category_name = update.callback_query\n",
    "    print(\"im in inline_archivation_helper\")\n",
    "    print(user_id)\n",
    "    response = dbmodel.archivation_of_category(user_id, category_name)\n",
    "\n",
    "    update.message.reply_text(\"{}\".format(response), reply_markup=ReplyKeyboardRemove())\n",
    "    return ConversationHandler.END\n",
    "\n",
    "\n",
    "response = dbmodel.archivation_of_category(user_id, category_name)\n",
    "print(response)"
   ]
  },
  {
   "cell_type": "code",
   "execution_count": null,
   "metadata": {},
   "outputs": [],
   "source": []
  },
  {
   "cell_type": "code",
   "execution_count": null,
   "metadata": {},
   "outputs": [],
   "source": []
  }
 ],
 "metadata": {
  "kernelspec": {
   "display_name": "Python 3",
   "language": "python",
   "name": "python3"
  },
  "language_info": {
   "codemirror_mode": {
    "name": "ipython",
    "version": 3
   },
   "file_extension": ".py",
   "mimetype": "text/x-python",
   "name": "python",
   "nbconvert_exporter": "python",
   "pygments_lexer": "ipython3",
   "version": "3.7.6"
  }
 },
 "nbformat": 4,
 "nbformat_minor": 4
}
