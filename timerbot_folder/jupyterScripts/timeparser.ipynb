{
 "cells": [
  {
   "cell_type": "code",
   "execution_count": 1,
   "metadata": {
    "scrolled": false
   },
   "outputs": [
    {
     "name": "stdout",
     "output_type": "stream",
     "text": [
      "3.0 часа 15.0 h 1.0 секунд\n"
     ]
    },
    {
     "ename": "TypeError",
     "evalue": "unsupported operand type(s) for /: 'NoneType' and 'int'",
     "output_type": "error",
     "traceback": [
      "\u001b[0;31m---------------------------------------------------------------------------\u001b[0m",
      "\u001b[0;31mTypeError\u001b[0m                                 Traceback (most recent call last)",
      "\u001b[0;32m<ipython-input-1-b3b24ecb95e5>\u001b[0m in \u001b[0;36m<module>\u001b[0;34m\u001b[0m\n\u001b[1;32m     11\u001b[0m     \u001b[0;32mreturn\u001b[0m \u001b[0mfloat\u001b[0m\u001b[0;34m(\u001b[0m\u001b[0;34m\"{:.1f}\"\u001b[0m\u001b[0;34m.\u001b[0m\u001b[0mformat\u001b[0m\u001b[0;34m(\u001b[0m\u001b[0mminutes\u001b[0m\u001b[0;34m)\u001b[0m\u001b[0;34m)\u001b[0m\u001b[0;34m\u001b[0m\u001b[0;34m\u001b[0m\u001b[0m\n\u001b[1;32m     12\u001b[0m \u001b[0;34m\u001b[0m\u001b[0m\n\u001b[0;32m---> 13\u001b[0;31m \u001b[0mparse_text_totime_in_mins\u001b[0m\u001b[0;34m(\u001b[0m\u001b[0;34m\"3 часа 15 h 1 секунд\"\u001b[0m\u001b[0;34m)\u001b[0m\u001b[0;34m\u001b[0m\u001b[0;34m\u001b[0m\u001b[0m\n\u001b[0m",
      "\u001b[0;32m<ipython-input-1-b3b24ecb95e5>\u001b[0m in \u001b[0;36mparse_text_totime_in_mins\u001b[0;34m(text)\u001b[0m\n\u001b[1;32m      7\u001b[0m \u001b[0;32mdef\u001b[0m \u001b[0mparse_text_totime_in_mins\u001b[0m\u001b[0;34m(\u001b[0m\u001b[0mtext\u001b[0m\u001b[0;34m)\u001b[0m\u001b[0;34m:\u001b[0m\u001b[0;34m\u001b[0m\u001b[0;34m\u001b[0m\u001b[0m\n\u001b[1;32m      8\u001b[0m     \u001b[0mprint\u001b[0m\u001b[0;34m(\u001b[0m\u001b[0mtextToNum\u001b[0m\u001b[0;34m.\u001b[0m\u001b[0mstr2num\u001b[0m\u001b[0;34m(\u001b[0m\u001b[0mtext\u001b[0m\u001b[0;34m)\u001b[0m\u001b[0;34m)\u001b[0m\u001b[0;34m\u001b[0m\u001b[0;34m\u001b[0m\u001b[0m\n\u001b[0;32m----> 9\u001b[0;31m     \u001b[0mminutes\u001b[0m \u001b[0;34m=\u001b[0m \u001b[0mpytimeparse\u001b[0m\u001b[0;34m.\u001b[0m\u001b[0mtimeparse\u001b[0m\u001b[0;34m(\u001b[0m\u001b[0mtextToNum\u001b[0m\u001b[0;34m.\u001b[0m\u001b[0mstr2num\u001b[0m\u001b[0;34m(\u001b[0m\u001b[0mtext\u001b[0m\u001b[0;34m)\u001b[0m\u001b[0;34m)\u001b[0m\u001b[0;34m/\u001b[0m\u001b[0;36m60\u001b[0m\u001b[0;34m\u001b[0m\u001b[0;34m\u001b[0m\u001b[0m\n\u001b[0m\u001b[1;32m     10\u001b[0m \u001b[0;34m\u001b[0m\u001b[0m\n\u001b[1;32m     11\u001b[0m     \u001b[0;32mreturn\u001b[0m \u001b[0mfloat\u001b[0m\u001b[0;34m(\u001b[0m\u001b[0;34m\"{:.1f}\"\u001b[0m\u001b[0;34m.\u001b[0m\u001b[0mformat\u001b[0m\u001b[0;34m(\u001b[0m\u001b[0mminutes\u001b[0m\u001b[0;34m)\u001b[0m\u001b[0;34m)\u001b[0m\u001b[0;34m\u001b[0m\u001b[0;34m\u001b[0m\u001b[0m\n",
      "\u001b[0;31mTypeError\u001b[0m: unsupported operand type(s) for /: 'NoneType' and 'int'"
     ]
    }
   ],
   "source": [
    "import sys\n",
    "import pymorphy2\n",
    "sys.path.append('..')\n",
    "import modules.pytimeparse as pytimeparse\n",
    "import modules.textToNum as textToNum\n",
    "\n",
    "def parse_text_totime_in_mins(text):\n",
    "    print(textToNum.str2num(text))\n",
    "    minutes = pytimeparse.timeparse(textToNum.str2num(text))/60\n",
    "\n",
    "    return float(\"{:.1f}\".format(minutes))\n",
    "\n",
    "parse_text_totime_in_mins(\"3 часа 15 h 1 секунд\")"
   ]
  },
  {
   "cell_type": "code",
   "execution_count": null,
   "metadata": {},
   "outputs": [],
   "source": [
    "import re\n",
    "print(re.match(r'^([\\s\\d]+)$', \"akjshfka 1\"))"
   ]
  },
  {
   "cell_type": "code",
   "execution_count": null,
   "metadata": {},
   "outputs": [],
   "source": [
    "\n"
   ]
  },
  {
   "cell_type": "code",
   "execution_count": null,
   "metadata": {},
   "outputs": [],
   "source": [
    "# %pip install pymorphy2\n",
    "import pymorphy2\n",
    "import re\n",
    "\n",
    "morph = pymorphy2.MorphAnalyzer()\n",
    "\n",
    "nums = {\n",
    "    'полторы' : 1.5,\n",
    "    'полтора' : 1.5,\n",
    "    'четверть' : 0.25,\n",
    "    'ноль' : 0,\n",
    "    'одна' : 1,\n",
    "    'две' : 2,\n",
    "    'один' : 1,\n",
    "    'два' : 2,\n",
    "    'три' : 3,\n",
    "    'четыре' : 4,\n",
    "    'пять' : 5,\n",
    "    'шесть' : 6,\n",
    "    'семь' : 7,\n",
    "    'восемь' : 8,\n",
    "    'девять' : 9,\n",
    "    'десять' : 10,\n",
    "    'одиннадцать' : 11,\n",
    "    'двенадцать' : 12,\n",
    "    'тринадцать' : 13,\n",
    "    'четырнадцать' : 14,\n",
    "    'пятнадцать' : 15,\n",
    "    'шестнадцать' : 16,\n",
    "    'семнадцать' : 17,\n",
    "    'восемнадцать' : 18,\n",
    "    'девятнадцать' : 19,\n",
    "    'двадцать' : 20,\n",
    "    'тридцать' : 30,\n",
    "    'сорок' : 40,\n",
    "    'пятьдесят' : 50,\n",
    "    'шестьдесят' : 60,\n",
    "    'семьдесят' : 70,\n",
    "    'восемьдесят' : 80,\n",
    "    'девяносто' : 90,\n",
    "    'сто' : 100,\n",
    "    'двести' : 200,\n",
    "    'триста' : 300,\n",
    "    'четыреста' : 400,\n",
    "    'пятьсот' : 500,\n",
    "    'шестьсот' : 600,\n",
    "    'семьсот' : 700,\n",
    "    'восемьсот' : 800,\n",
    "    'девятьсот' : 900,\n",
    "}\n",
    "\n",
    "THOUSANDS = {\n",
    "    'тысяча' : 1000,\n",
    "    'тысячи' : 1000,\n",
    "    'тысяч' : 1000,\n",
    "    2: ('миллион', 'миллиона', 'миллионов'),  # 10^6\n",
    "    3: ('миллиард', 'миллиарда', 'миллиардов'),  # 10^9\n",
    "    4: ('триллион', 'триллиона', 'триллионов'),  # 10^12\n",
    "    5: ('квадриллион', 'квадриллиона', 'квадриллионов'),  # 10^15\n",
    "    6: ('квинтиллион', 'квинтиллиона', 'квинтиллионов'),  # 10^18\n",
    "    7: ('секстиллион', 'секстиллиона', 'секстиллионов'),  # 10^21\n",
    "    8: ('септиллион', 'септиллиона', 'септиллионов'),  # 10^24\n",
    "    9: ('октиллион', 'октиллиона', 'октиллионов'),  # 10^27\n",
    "    10: ('нониллион', 'нониллиона', 'нониллионов'),  # 10^30\n",
    "}\n",
    "\n",
    "\n",
    "def str2num(text):\n",
    "    words = text.split()\n",
    "    result = 0\n",
    "    result_list = []\n",
    "    result_string = ''\n",
    "    \n",
    "    indexes_of_non_numerical_words = []\n",
    "    for i in range(len(words)):\n",
    "        if morph.parse(words[i])[0].tag.POS != \"NUMR\" and re.match(r'^([\\s\\d]+)$', words[i]) == None:\n",
    "            if words[i] not in THOUSANDS.keys() and words[i] not in nums.keys():\n",
    "                indexes_of_non_numerical_words.append(i)\n",
    "\n",
    "    listik = []\n",
    "    list_of_lists = []\n",
    "    \n",
    "    for i in range(len(words)):\n",
    "        if i not in indexes_of_non_numerical_words:\n",
    "            listik.append(words[i])\n",
    "            if i == len(words)-1:\n",
    "                list_of_lists.append(listik)\n",
    "        else:\n",
    "            if listik != []:\n",
    "                list_of_lists.append(listik)\n",
    "                list_of_lists.append(words[i])\n",
    "                listik = []\n",
    "            else:\n",
    "                list_of_lists.append(words[i])\n",
    "    \n",
    "    final_list = []\n",
    "    for element in list_of_lists:\n",
    "        if str(type(element)) == \"<class 'list'>\":\n",
    "            for word in element:\n",
    "                if morph.parse(word)[0].tag.POS == \"NUMR\":\n",
    "                    if word.lower() in nums.keys():\n",
    "                        result += nums[word.lower()]\n",
    "                elif word.lower() in nums.keys():\n",
    "                    result += nums[word.lower()]\n",
    "                elif word.lower() in THOUSANDS.keys():\n",
    "                    if result == 0:\n",
    "                        result = 1000\n",
    "                    else:\n",
    "                        result *= 1000\n",
    "\n",
    "                elif re.match(r'^([\\s\\d]+)$', word) != None:\n",
    "                    try:\n",
    "                        result += float(word)\n",
    "                    except ValueError:\n",
    "                        if result == 0:\n",
    "                            result_string += \"1 \" + word + \" \"\n",
    "                        else:\n",
    "                            result_string += str(result) + \" \" + word + \" \"\n",
    "                            result = 0\n",
    "            final_list.append(float(result))\n",
    "            result = 0\n",
    "        else:\n",
    "            if morph.parse(element)[0].tag.POS != \"NUMR\" and element == list_of_lists[0]:\n",
    "                if re.match(r's*(?:h|hour?|минута?|ч?|ч.?|час?|день?|секунда?|неделя?|неделю?)$', element) != None:\n",
    "                    final_list.insert(0, 1)\n",
    "                    \n",
    "    final_final_list = []\n",
    "    i = 0\n",
    "    for element in list_of_lists:\n",
    "        if str(type(element)) == \"<class 'list'>\":\n",
    "            final_final_list.append(final_list[i])\n",
    "            i+=1\n",
    "        else:\n",
    "            if morph.parse(element)[0].tag.POS != \"NUMR\" and element == list_of_lists[0]:\n",
    "                if re.match(r's*(?:h|hour?|минута?|ч?|ч.?|час?|день?|секунда?|неделя?|неделю?)$', element) != None:\n",
    "                    final_final_list.append(final_list[i])\n",
    "                    final_final_list.append(element)\n",
    "                    i+=1\n",
    "                else: \n",
    "                    final_final_list.append(element)\n",
    "            else: \n",
    "                final_final_list.append(element)\n",
    "    separator = ' '\n",
    "    response_text = separator.join((str(i) for i in final_final_list))\n",
    "    return response_text\n",
    "\n",
    "text = \"полтора \"\n",
    "\n",
    "print(str2num(text))\n",
    "               \n"
   ]
  },
  {
   "cell_type": "code",
   "execution_count": null,
   "metadata": {},
   "outputs": [],
   "source": []
  },
  {
   "cell_type": "code",
   "execution_count": null,
   "metadata": {},
   "outputs": [],
   "source": []
  },
  {
   "cell_type": "code",
   "execution_count": 6,
   "metadata": {},
   "outputs": [
    {
     "name": "stdout",
     "output_type": "stream",
     "text": [
      "None\n"
     ]
    }
   ],
   "source": [
    "import sys\n",
    "import pymorphy2\n",
    "sys.path.append('..')\n",
    "import modules.text2time as text2time\n",
    "\n",
    "\n",
    "print(text2time.parse_text_to_time_in_mins(\"минута\"))\n"
   ]
  },
  {
   "cell_type": "code",
   "execution_count": 11,
   "metadata": {},
   "outputs": [
    {
     "name": "stdout",
     "output_type": "stream",
     "text": [
      "1 час 15.0 минут\n"
     ]
    },
    {
     "data": {
      "text/plain": [
       "75.0"
      ]
     },
     "execution_count": 11,
     "metadata": {},
     "output_type": "execute_result"
    }
   ],
   "source": [
    "import sys\n",
    "sys.path.append('..')\n",
    "import modules.pytimeparse as pytimeparse\n",
    "import modules.textToNum as textToNum\n",
    "\n",
    "def parse_text_to_time_in_mins(user_input_text):\n",
    "    print (textToNum.str2num(user_input_text))\n",
    "    minutes = pytimeparse.timeparse(textToNum.str2num(user_input_text))/60\n",
    "    response = float(\"{:.1f}\".format(minutes))\n",
    "    return response\n",
    "\n",
    "parse_text_to_time_in_mins(\"час 15 минут\")"
   ]
  },
  {
   "cell_type": "code",
   "execution_count": 21,
   "metadata": {},
   "outputs": [
    {
     "name": "stdout",
     "output_type": "stream",
     "text": [
      "программирование\n"
     ]
    }
   ],
   "source": [
    "word = \"программирование,\"\n",
    "if \",\" or \".\" or \"!\" in word:\n",
    "    word = list(word)\n",
    "    del word[-1]\n",
    "    word = \"\".join(word)\n",
    "print (text)"
   ]
  },
  {
   "cell_type": "code",
   "execution_count": 26,
   "metadata": {},
   "outputs": [
    {
     "name": "stdout",
     "output_type": "stream",
     "text": [
      "False\n",
      "['п', 'р', 'о', 'г', 'р', 'а', 'м', 'м', 'и', 'р', 'о', 'в', 'а', 'н', 'и', 'е']\n"
     ]
    }
   ],
   "source": [
    "print(\",\" in list(\"программирование\"))\n",
    "\n",
    "print (list(\"программирование\"))"
   ]
  },
  {
   "cell_type": "code",
   "execution_count": null,
   "metadata": {},
   "outputs": [],
   "source": []
  }
 ],
 "metadata": {
  "kernelspec": {
   "display_name": "Python 3",
   "language": "python",
   "name": "python3"
  },
  "language_info": {
   "codemirror_mode": {
    "name": "ipython",
    "version": 3
   },
   "file_extension": ".py",
   "mimetype": "text/x-python",
   "name": "python",
   "nbconvert_exporter": "python",
   "pygments_lexer": "ipython3",
   "version": "3.7.6"
  }
 },
 "nbformat": 4,
 "nbformat_minor": 4
}
