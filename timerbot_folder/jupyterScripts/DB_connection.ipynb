{
 "cells": [
  {
   "cell_type": "code",
   "execution_count": 31,
   "metadata": {},
   "outputs": [],
   "source": [
    "MONGO_URL=\"localhost:27017\"\n",
    "MONGO_INITDB_ROOT_USERNAME=\"root\" # \n",
    "MONGO_INITDB_ROOT_PASSWORD=\"dr5[gnhn\" # \n",
    "MONGO_BOT_USERNAME=\"bot\"\n",
    "MONGO_BOT_PASSWORD=\"botpsswd\"\n",
    "\n",
    "timerbot_credentials = dict(\n",
    "    DATABASE_NAME = \"timerbot_db\",\n",
    "    DATABASE_HOST = MONGO_URL,\n",
    "    DATABASE_ADMIN_USERNAME = MONGO_BOT_USERNAME,\n",
    "    DATABASE_ADMIN_PASSWORD = MONGO_BOT_PASSWORD\n",
    ")\n",
    "\n",
    "import sys,os\n",
    "sys.path.append(\"..\")\n",
    "\n",
    "\n",
    "# database credentials extractor import\n",
    "# from modules.db.dbconfig import root_credentials, timerbot_credentials\n",
    "from modules.db.mongodb import MongoDriver\n",
    "\n",
    "client = MongoDriver(timerbot_credentials).client\n",
    "db_instance = MongoDriver(timerbot_credentials)\n",
    "collection_name = \"timer_data_collection\"\n",
    "user_id = 122267418\n",
    "query = {\"user_id\": user_id}"
   ]
  },
  {
   "cell_type": "code",
   "execution_count": 32,
   "metadata": {},
   "outputs": [],
   "source": [
    "from modules.db.dbmodel import get_timerdata_object"
   ]
  },
  {
   "cell_type": "code",
   "execution_count": 34,
   "metadata": {},
   "outputs": [
    {
     "data": {
      "text/plain": [
       "{'_id': '2d65d6b3ded946269b8cd3bebcdea163',\n",
       " 'user_id': 122267418,\n",
       " 'categories': ['reading'],\n",
       " 'archived_categories': [],\n",
       " 'timerdata': [{'timestamp': '20211012151224',\n",
       "   'amount_of_time_in_minutes': 0.03191920499981885,\n",
       "   'comment': 'some comment',\n",
       "   'category_name': 'None',\n",
       "   'archived_status': 'False'},\n",
       "  {'timestamp': '20211012152325',\n",
       "   'amount_of_time_in_minutes': 0.023429781666588195,\n",
       "   'comment': '1',\n",
       "   'category_name': 'None',\n",
       "   'archived_status': 'False'}]}"
      ]
     },
     "execution_count": 34,
     "metadata": {},
     "output_type": "execute_result"
    }
   ],
   "source": [
    "get_timerdata_object(client, db_instance, collection_name, query, user_id).export()"
   ]
  },
  {
   "cell_type": "code",
   "execution_count": null,
   "metadata": {},
   "outputs": [],
   "source": []
  }
 ],
 "metadata": {
  "kernelspec": {
   "display_name": "Python 3",
   "language": "python",
   "name": "python3"
  },
  "language_info": {
   "codemirror_mode": {
    "name": "ipython",
    "version": 3
   },
   "file_extension": ".py",
   "mimetype": "text/x-python",
   "name": "python",
   "nbconvert_exporter": "python",
   "pygments_lexer": "ipython3",
   "version": "3.8.5"
  }
 },
 "nbformat": 4,
 "nbformat_minor": 4
}
