{
 "cells": [
  {
   "cell_type": "code",
   "execution_count": 85,
   "metadata": {},
   "outputs": [],
   "source": [
    "data = {'_id': '2d65d6b3ded946269b8cd3bebcdea163', 'user_id': 122267418, 'categories': ['reading'], 'archived_categories': [], 'timerdata': [{'timestamp': '20211012151224', 'amount_of_time_in_minutes': 0.03191920499981885, 'comment': 'some comment', 'category_name': 'None', 'archived_status': 'False'}, {'timestamp': '20211012152325', 'amount_of_time_in_minutes': 0.023429781666588195, 'comment': '1', 'category_name': 'None', 'archived_status': 'False'}, {'timestamp': '20211012152356', 'amount_of_time_in_minutes': 0.026262808333558495, 'comment': '1223', 'category_name': 'reading', 'archived_status': 'False'}]}"
   ]
  },
  {
   "cell_type": "code",
   "execution_count": 86,
   "metadata": {},
   "outputs": [],
   "source": [
    "def test():\n",
    "    str_line = ''\n",
    "    for i in (list(item.items()) for item in data['timerdata']):\n",
    "        str_line += \"\\n\".join([''.join(map(str, tuple_item)) for tuple_item in i])\n",
    "        str_line += \"\\n\\n\" \n",
    "    print(str_line)"
   ]
  },
  {
   "cell_type": "code",
   "execution_count": 87,
   "metadata": {},
   "outputs": [
    {
     "data": {
      "text/plain": [
       "'timestamp 20211012151224\\namount_of_time_in_minutes 0.03191920499981885\\ncomment some comment\\ncategory_name None\\narchived_status False'"
      ]
     },
     "execution_count": 87,
     "metadata": {},
     "output_type": "execute_result"
    }
   ],
   "source": [
    "# tuple_item = ('timestamp', 20211012151224)\n",
    "i = [('timestamp', '20211012151224'), ('amount_of_time_in_minutes', 0.03191920499981885), ('comment', 'some comment'), ('category_name', 'None'), ('archived_status', 'False')]\n",
    "\"\\n\".join([' '.join(map(str, tuple_item)) for tuple_item in i])"
   ]
  },
  {
   "cell_type": "code",
   "execution_count": 88,
   "metadata": {},
   "outputs": [
    {
     "name": "stdout",
     "output_type": "stream",
     "text": [
      "timestamp20211012151224\n",
      "amount_of_time_in_minutes0.03191920499981885\n",
      "commentsome comment\n",
      "category_nameNone\n",
      "archived_statusFalse\n",
      "\n",
      "timestamp20211012152325\n",
      "amount_of_time_in_minutes0.023429781666588195\n",
      "comment1\n",
      "category_nameNone\n",
      "archived_statusFalse\n",
      "\n",
      "timestamp20211012152356\n",
      "amount_of_time_in_minutes0.026262808333558495\n",
      "comment1223\n",
      "category_namereading\n",
      "archived_statusFalse\n",
      "\n",
      "\n"
     ]
    }
   ],
   "source": [
    "test()"
   ]
  },
  {
   "cell_type": "code",
   "execution_count": null,
   "metadata": {},
   "outputs": [],
   "source": []
  },
  {
   "cell_type": "code",
   "execution_count": null,
   "metadata": {},
   "outputs": [],
   "source": []
  }
 ],
 "metadata": {
  "kernelspec": {
   "display_name": "Python 3",
   "language": "python",
   "name": "python3"
  },
  "language_info": {
   "codemirror_mode": {
    "name": "ipython",
    "version": 3
   },
   "file_extension": ".py",
   "mimetype": "text/x-python",
   "name": "python",
   "nbconvert_exporter": "python",
   "pygments_lexer": "ipython3",
   "version": "3.8.5"
  }
 },
 "nbformat": 4,
 "nbformat_minor": 4
}
