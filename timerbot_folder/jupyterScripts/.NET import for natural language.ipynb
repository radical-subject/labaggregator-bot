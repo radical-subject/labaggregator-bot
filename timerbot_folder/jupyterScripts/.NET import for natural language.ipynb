{
 "cells": [
  {
   "cell_type": "code",
   "execution_count": 37,
   "metadata": {},
   "outputs": [
    {
     "name": "stdout",
     "output_type": "stream",
     "text": [
      "француский\n",
      "7/2/2020 12:00:00 AM\n"
     ]
    }
   ],
   "source": [
    "import clr\n",
    "import os, sys\n",
    "from System import DateTime\n",
    "\n",
    "dll_dir = \"/home/oikura/Hors.0.9.30/lib/netstandard2.0/\"\n",
    "\n",
    "dllname = 'Hors'\n",
    "path = r'%s%s' % (dll_dir, dllname)\n",
    "sys.path.append(os.getcwd())\n",
    "clr.AddReference(path)\n",
    "from Hors import HorsTextParser\n",
    "my_instance = HorsTextParser()\n",
    "\n",
    "# print(datetime.datetime.now().strftime(\"%d.%m.%Y %H:%M:%S\"))\n",
    "\n",
    "result = my_instance.Parse(\"на прошлой неделе в четверг, француский\", DateTime.Now)\n",
    "text = result.Text #-> string: \"будет красивый закат\"\n",
    "formatText = result.TextWithTokens #-> string: \"{0} будет красивый закат\"\n",
    "date = result.Dates[0].DateFrom #-> DateTime: 26.03.2019 23:00:00\n",
    "\n",
    "print(text)\n",
    "print(date)"
   ]
  },
  {
   "cell_type": "code",
   "execution_count": null,
   "metadata": {},
   "outputs": [],
   "source": []
  }
 ],
 "metadata": {
  "kernelspec": {
   "display_name": "Python 3",
   "language": "python",
   "name": "python3"
  },
  "language_info": {
   "codemirror_mode": {
    "name": "ipython",
    "version": 3
   },
   "file_extension": ".py",
   "mimetype": "text/x-python",
   "name": "python",
   "nbconvert_exporter": "python",
   "pygments_lexer": "ipython3",
   "version": "3.7.6"
  }
 },
 "nbformat": 4,
 "nbformat_minor": 4
}
